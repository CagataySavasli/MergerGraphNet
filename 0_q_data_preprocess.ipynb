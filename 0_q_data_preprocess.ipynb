{
 "cells": [
  {
   "cell_type": "code",
   "id": "initial_id",
   "metadata": {
    "collapsed": true,
    "ExecuteTime": {
     "end_time": "2025-08-01T20:03:39.194858Z",
     "start_time": "2025-08-01T20:03:38.772405Z"
    }
   },
   "source": [
    "import pandas as pd\n",
    "from lib.database.database_connector import DatabaseConnector\n",
    "\n",
    "database_connector = DatabaseConnector(\"./data/database.db\")\n",
    "cursor = database_connector.cursor"
   ],
   "outputs": [],
   "execution_count": 1
  },
  {
   "metadata": {
    "ExecuteTime": {
     "end_time": "2025-08-01T20:03:42.821887Z",
     "start_time": "2025-08-01T20:03:39.346688Z"
    }
   },
   "cell_type": "code",
   "source": [
    "data = pd.read_csv('data/auxiliary/wrds/financial_ratios_all.csv')\n",
    "sp_500 = cursor.execute(\n",
    "    \"SELECT ticker FROM embeddings;\"\n",
    ").fetchall()\n",
    "sp_500 = list(set(sp_500))\n",
    "sp_500 = [x[0] for x in sp_500]"
   ],
   "id": "9aa85d542c8b9a7e",
   "outputs": [],
   "execution_count": 2
  },
  {
   "metadata": {
    "ExecuteTime": {
     "end_time": "2025-08-01T20:03:42.862570Z",
     "start_time": "2025-08-01T20:03:42.841802Z"
    }
   },
   "cell_type": "code",
   "source": "data.head()",
   "id": "28feca9352472c8c",
   "outputs": [
    {
     "data": {
      "text/plain": [
       "   gvkey  permno       adate       qdate public_date   CAPEI     bm    evm  \\\n",
       "0   1004   54594  2009-05-31  2009-11-30  2010-01-31  17.934  1.077  7.981   \n",
       "1   1004   54594  2009-05-31  2009-11-30  2010-02-28  17.554  1.077  7.981   \n",
       "2   1004   54594  2009-05-31  2009-11-30  2010-03-31  19.257  1.077  7.981   \n",
       "3   1004   54594  2009-05-31  2010-02-28  2010-04-30  18.304  0.898  9.293   \n",
       "4   1004   54594  2009-05-31  2010-02-28  2010-05-31  14.791  0.898  9.293   \n",
       "\n",
       "   pe_op_basic  pe_op_dil  ...  adv_sale  staff_sale  accrual    ptb  \\\n",
       "0       14.758     15.243  ...       0.0         0.0   -0.043  1.152   \n",
       "1       14.446     14.921  ...       0.0         0.0   -0.043  1.128   \n",
       "2       15.809     16.329  ...       0.0         0.0   -0.043  1.237   \n",
       "3       16.146     16.473  ...       0.0         0.0   -0.087  1.197   \n",
       "4       13.046     13.311  ...       0.0         0.0   -0.087  0.968   \n",
       "\n",
       "   PEG_trailing  divyield  PEG_1yrforward  PEG_ltgforward  TICKER     cusip  \n",
       "0         2.250       NaN          -0.632           1.341     AIR  00036110  \n",
       "1         2.203       NaN          -0.584           1.340     AIR  00036110  \n",
       "2         2.410       NaN          -0.574           1.467     AIR  00036110  \n",
       "3        31.895       NaN          -0.539           1.548     AIR  00036110  \n",
       "4        25.772       NaN          -0.436           1.251     AIR  00036110  \n",
       "\n",
       "[5 rows x 78 columns]"
      ],
      "text/html": [
       "<div>\n",
       "<style scoped>\n",
       "    .dataframe tbody tr th:only-of-type {\n",
       "        vertical-align: middle;\n",
       "    }\n",
       "\n",
       "    .dataframe tbody tr th {\n",
       "        vertical-align: top;\n",
       "    }\n",
       "\n",
       "    .dataframe thead th {\n",
       "        text-align: right;\n",
       "    }\n",
       "</style>\n",
       "<table border=\"1\" class=\"dataframe\">\n",
       "  <thead>\n",
       "    <tr style=\"text-align: right;\">\n",
       "      <th></th>\n",
       "      <th>gvkey</th>\n",
       "      <th>permno</th>\n",
       "      <th>adate</th>\n",
       "      <th>qdate</th>\n",
       "      <th>public_date</th>\n",
       "      <th>CAPEI</th>\n",
       "      <th>bm</th>\n",
       "      <th>evm</th>\n",
       "      <th>pe_op_basic</th>\n",
       "      <th>pe_op_dil</th>\n",
       "      <th>...</th>\n",
       "      <th>adv_sale</th>\n",
       "      <th>staff_sale</th>\n",
       "      <th>accrual</th>\n",
       "      <th>ptb</th>\n",
       "      <th>PEG_trailing</th>\n",
       "      <th>divyield</th>\n",
       "      <th>PEG_1yrforward</th>\n",
       "      <th>PEG_ltgforward</th>\n",
       "      <th>TICKER</th>\n",
       "      <th>cusip</th>\n",
       "    </tr>\n",
       "  </thead>\n",
       "  <tbody>\n",
       "    <tr>\n",
       "      <th>0</th>\n",
       "      <td>1004</td>\n",
       "      <td>54594</td>\n",
       "      <td>2009-05-31</td>\n",
       "      <td>2009-11-30</td>\n",
       "      <td>2010-01-31</td>\n",
       "      <td>17.934</td>\n",
       "      <td>1.077</td>\n",
       "      <td>7.981</td>\n",
       "      <td>14.758</td>\n",
       "      <td>15.243</td>\n",
       "      <td>...</td>\n",
       "      <td>0.0</td>\n",
       "      <td>0.0</td>\n",
       "      <td>-0.043</td>\n",
       "      <td>1.152</td>\n",
       "      <td>2.250</td>\n",
       "      <td>NaN</td>\n",
       "      <td>-0.632</td>\n",
       "      <td>1.341</td>\n",
       "      <td>AIR</td>\n",
       "      <td>00036110</td>\n",
       "    </tr>\n",
       "    <tr>\n",
       "      <th>1</th>\n",
       "      <td>1004</td>\n",
       "      <td>54594</td>\n",
       "      <td>2009-05-31</td>\n",
       "      <td>2009-11-30</td>\n",
       "      <td>2010-02-28</td>\n",
       "      <td>17.554</td>\n",
       "      <td>1.077</td>\n",
       "      <td>7.981</td>\n",
       "      <td>14.446</td>\n",
       "      <td>14.921</td>\n",
       "      <td>...</td>\n",
       "      <td>0.0</td>\n",
       "      <td>0.0</td>\n",
       "      <td>-0.043</td>\n",
       "      <td>1.128</td>\n",
       "      <td>2.203</td>\n",
       "      <td>NaN</td>\n",
       "      <td>-0.584</td>\n",
       "      <td>1.340</td>\n",
       "      <td>AIR</td>\n",
       "      <td>00036110</td>\n",
       "    </tr>\n",
       "    <tr>\n",
       "      <th>2</th>\n",
       "      <td>1004</td>\n",
       "      <td>54594</td>\n",
       "      <td>2009-05-31</td>\n",
       "      <td>2009-11-30</td>\n",
       "      <td>2010-03-31</td>\n",
       "      <td>19.257</td>\n",
       "      <td>1.077</td>\n",
       "      <td>7.981</td>\n",
       "      <td>15.809</td>\n",
       "      <td>16.329</td>\n",
       "      <td>...</td>\n",
       "      <td>0.0</td>\n",
       "      <td>0.0</td>\n",
       "      <td>-0.043</td>\n",
       "      <td>1.237</td>\n",
       "      <td>2.410</td>\n",
       "      <td>NaN</td>\n",
       "      <td>-0.574</td>\n",
       "      <td>1.467</td>\n",
       "      <td>AIR</td>\n",
       "      <td>00036110</td>\n",
       "    </tr>\n",
       "    <tr>\n",
       "      <th>3</th>\n",
       "      <td>1004</td>\n",
       "      <td>54594</td>\n",
       "      <td>2009-05-31</td>\n",
       "      <td>2010-02-28</td>\n",
       "      <td>2010-04-30</td>\n",
       "      <td>18.304</td>\n",
       "      <td>0.898</td>\n",
       "      <td>9.293</td>\n",
       "      <td>16.146</td>\n",
       "      <td>16.473</td>\n",
       "      <td>...</td>\n",
       "      <td>0.0</td>\n",
       "      <td>0.0</td>\n",
       "      <td>-0.087</td>\n",
       "      <td>1.197</td>\n",
       "      <td>31.895</td>\n",
       "      <td>NaN</td>\n",
       "      <td>-0.539</td>\n",
       "      <td>1.548</td>\n",
       "      <td>AIR</td>\n",
       "      <td>00036110</td>\n",
       "    </tr>\n",
       "    <tr>\n",
       "      <th>4</th>\n",
       "      <td>1004</td>\n",
       "      <td>54594</td>\n",
       "      <td>2009-05-31</td>\n",
       "      <td>2010-02-28</td>\n",
       "      <td>2010-05-31</td>\n",
       "      <td>14.791</td>\n",
       "      <td>0.898</td>\n",
       "      <td>9.293</td>\n",
       "      <td>13.046</td>\n",
       "      <td>13.311</td>\n",
       "      <td>...</td>\n",
       "      <td>0.0</td>\n",
       "      <td>0.0</td>\n",
       "      <td>-0.087</td>\n",
       "      <td>0.968</td>\n",
       "      <td>25.772</td>\n",
       "      <td>NaN</td>\n",
       "      <td>-0.436</td>\n",
       "      <td>1.251</td>\n",
       "      <td>AIR</td>\n",
       "      <td>00036110</td>\n",
       "    </tr>\n",
       "  </tbody>\n",
       "</table>\n",
       "<p>5 rows × 78 columns</p>\n",
       "</div>"
      ]
     },
     "execution_count": 3,
     "metadata": {},
     "output_type": "execute_result"
    }
   ],
   "execution_count": 3
  },
  {
   "metadata": {
    "ExecuteTime": {
     "end_time": "2025-08-01T20:03:43.304720Z",
     "start_time": "2025-08-01T20:03:42.963090Z"
    }
   },
   "cell_type": "code",
   "source": [
    "threshold = 0.1  # yüzde 30\n",
    "nan_ratio = data.isna().mean()  # her sütun için NaN oranı\n",
    "columns_to_drop = nan_ratio[nan_ratio > threshold].index  # %30'dan fazla olanlar\n",
    "data = data.drop(columns=columns_to_drop)"
   ],
   "id": "a98462570296f407",
   "outputs": [],
   "execution_count": 4
  },
  {
   "metadata": {
    "ExecuteTime": {
     "end_time": "2025-08-01T20:03:43.399212Z",
     "start_time": "2025-08-01T20:03:43.370629Z"
    }
   },
   "cell_type": "code",
   "source": "data.head()",
   "id": "dbebb06d0d707153",
   "outputs": [
    {
     "data": {
      "text/plain": [
       "   gvkey  permno       adate       qdate public_date   CAPEI     bm    evm  \\\n",
       "0   1004   54594  2009-05-31  2009-11-30  2010-01-31  17.934  1.077  7.981   \n",
       "1   1004   54594  2009-05-31  2009-11-30  2010-02-28  17.554  1.077  7.981   \n",
       "2   1004   54594  2009-05-31  2009-11-30  2010-03-31  19.257  1.077  7.981   \n",
       "3   1004   54594  2009-05-31  2010-02-28  2010-04-30  18.304  0.898  9.293   \n",
       "4   1004   54594  2009-05-31  2010-02-28  2010-05-31  14.791  0.898  9.293   \n",
       "\n",
       "   pe_op_basic  pe_op_dil  ...  pay_turn  sale_invcap  sale_equity  rd_sale  \\\n",
       "0       14.758     15.243  ...    11.295        1.298        1.992      0.0   \n",
       "1       14.446     14.921  ...    11.295        1.298        1.992      0.0   \n",
       "2       15.809     16.329  ...    11.295        1.298        1.992      0.0   \n",
       "3       16.146     16.473  ...    10.717        1.265        1.872      0.0   \n",
       "4       13.046     13.311  ...    10.717        1.265        1.872      0.0   \n",
       "\n",
       "   adv_sale  staff_sale  accrual    ptb  TICKER     cusip  \n",
       "0       0.0         0.0   -0.043  1.152     AIR  00036110  \n",
       "1       0.0         0.0   -0.043  1.128     AIR  00036110  \n",
       "2       0.0         0.0   -0.043  1.237     AIR  00036110  \n",
       "3       0.0         0.0   -0.087  1.197     AIR  00036110  \n",
       "4       0.0         0.0   -0.087  0.968     AIR  00036110  \n",
       "\n",
       "[5 rows x 53 columns]"
      ],
      "text/html": [
       "<div>\n",
       "<style scoped>\n",
       "    .dataframe tbody tr th:only-of-type {\n",
       "        vertical-align: middle;\n",
       "    }\n",
       "\n",
       "    .dataframe tbody tr th {\n",
       "        vertical-align: top;\n",
       "    }\n",
       "\n",
       "    .dataframe thead th {\n",
       "        text-align: right;\n",
       "    }\n",
       "</style>\n",
       "<table border=\"1\" class=\"dataframe\">\n",
       "  <thead>\n",
       "    <tr style=\"text-align: right;\">\n",
       "      <th></th>\n",
       "      <th>gvkey</th>\n",
       "      <th>permno</th>\n",
       "      <th>adate</th>\n",
       "      <th>qdate</th>\n",
       "      <th>public_date</th>\n",
       "      <th>CAPEI</th>\n",
       "      <th>bm</th>\n",
       "      <th>evm</th>\n",
       "      <th>pe_op_basic</th>\n",
       "      <th>pe_op_dil</th>\n",
       "      <th>...</th>\n",
       "      <th>pay_turn</th>\n",
       "      <th>sale_invcap</th>\n",
       "      <th>sale_equity</th>\n",
       "      <th>rd_sale</th>\n",
       "      <th>adv_sale</th>\n",
       "      <th>staff_sale</th>\n",
       "      <th>accrual</th>\n",
       "      <th>ptb</th>\n",
       "      <th>TICKER</th>\n",
       "      <th>cusip</th>\n",
       "    </tr>\n",
       "  </thead>\n",
       "  <tbody>\n",
       "    <tr>\n",
       "      <th>0</th>\n",
       "      <td>1004</td>\n",
       "      <td>54594</td>\n",
       "      <td>2009-05-31</td>\n",
       "      <td>2009-11-30</td>\n",
       "      <td>2010-01-31</td>\n",
       "      <td>17.934</td>\n",
       "      <td>1.077</td>\n",
       "      <td>7.981</td>\n",
       "      <td>14.758</td>\n",
       "      <td>15.243</td>\n",
       "      <td>...</td>\n",
       "      <td>11.295</td>\n",
       "      <td>1.298</td>\n",
       "      <td>1.992</td>\n",
       "      <td>0.0</td>\n",
       "      <td>0.0</td>\n",
       "      <td>0.0</td>\n",
       "      <td>-0.043</td>\n",
       "      <td>1.152</td>\n",
       "      <td>AIR</td>\n",
       "      <td>00036110</td>\n",
       "    </tr>\n",
       "    <tr>\n",
       "      <th>1</th>\n",
       "      <td>1004</td>\n",
       "      <td>54594</td>\n",
       "      <td>2009-05-31</td>\n",
       "      <td>2009-11-30</td>\n",
       "      <td>2010-02-28</td>\n",
       "      <td>17.554</td>\n",
       "      <td>1.077</td>\n",
       "      <td>7.981</td>\n",
       "      <td>14.446</td>\n",
       "      <td>14.921</td>\n",
       "      <td>...</td>\n",
       "      <td>11.295</td>\n",
       "      <td>1.298</td>\n",
       "      <td>1.992</td>\n",
       "      <td>0.0</td>\n",
       "      <td>0.0</td>\n",
       "      <td>0.0</td>\n",
       "      <td>-0.043</td>\n",
       "      <td>1.128</td>\n",
       "      <td>AIR</td>\n",
       "      <td>00036110</td>\n",
       "    </tr>\n",
       "    <tr>\n",
       "      <th>2</th>\n",
       "      <td>1004</td>\n",
       "      <td>54594</td>\n",
       "      <td>2009-05-31</td>\n",
       "      <td>2009-11-30</td>\n",
       "      <td>2010-03-31</td>\n",
       "      <td>19.257</td>\n",
       "      <td>1.077</td>\n",
       "      <td>7.981</td>\n",
       "      <td>15.809</td>\n",
       "      <td>16.329</td>\n",
       "      <td>...</td>\n",
       "      <td>11.295</td>\n",
       "      <td>1.298</td>\n",
       "      <td>1.992</td>\n",
       "      <td>0.0</td>\n",
       "      <td>0.0</td>\n",
       "      <td>0.0</td>\n",
       "      <td>-0.043</td>\n",
       "      <td>1.237</td>\n",
       "      <td>AIR</td>\n",
       "      <td>00036110</td>\n",
       "    </tr>\n",
       "    <tr>\n",
       "      <th>3</th>\n",
       "      <td>1004</td>\n",
       "      <td>54594</td>\n",
       "      <td>2009-05-31</td>\n",
       "      <td>2010-02-28</td>\n",
       "      <td>2010-04-30</td>\n",
       "      <td>18.304</td>\n",
       "      <td>0.898</td>\n",
       "      <td>9.293</td>\n",
       "      <td>16.146</td>\n",
       "      <td>16.473</td>\n",
       "      <td>...</td>\n",
       "      <td>10.717</td>\n",
       "      <td>1.265</td>\n",
       "      <td>1.872</td>\n",
       "      <td>0.0</td>\n",
       "      <td>0.0</td>\n",
       "      <td>0.0</td>\n",
       "      <td>-0.087</td>\n",
       "      <td>1.197</td>\n",
       "      <td>AIR</td>\n",
       "      <td>00036110</td>\n",
       "    </tr>\n",
       "    <tr>\n",
       "      <th>4</th>\n",
       "      <td>1004</td>\n",
       "      <td>54594</td>\n",
       "      <td>2009-05-31</td>\n",
       "      <td>2010-02-28</td>\n",
       "      <td>2010-05-31</td>\n",
       "      <td>14.791</td>\n",
       "      <td>0.898</td>\n",
       "      <td>9.293</td>\n",
       "      <td>13.046</td>\n",
       "      <td>13.311</td>\n",
       "      <td>...</td>\n",
       "      <td>10.717</td>\n",
       "      <td>1.265</td>\n",
       "      <td>1.872</td>\n",
       "      <td>0.0</td>\n",
       "      <td>0.0</td>\n",
       "      <td>0.0</td>\n",
       "      <td>-0.087</td>\n",
       "      <td>0.968</td>\n",
       "      <td>AIR</td>\n",
       "      <td>00036110</td>\n",
       "    </tr>\n",
       "  </tbody>\n",
       "</table>\n",
       "<p>5 rows × 53 columns</p>\n",
       "</div>"
      ]
     },
     "execution_count": 5,
     "metadata": {},
     "output_type": "execute_result"
    }
   ],
   "execution_count": 5
  },
  {
   "metadata": {
    "ExecuteTime": {
     "end_time": "2025-08-01T20:03:43.748912Z",
     "start_time": "2025-08-01T20:03:43.558451Z"
    }
   },
   "cell_type": "code",
   "source": "data['date'] = data['public_date'].apply(lambda x: x[:-3])",
   "id": "11beac982621f5c7",
   "outputs": [],
   "execution_count": 6
  },
  {
   "metadata": {
    "ExecuteTime": {
     "end_time": "2025-08-01T20:03:43.815289Z",
     "start_time": "2025-08-01T20:03:43.810915Z"
    }
   },
   "cell_type": "code",
   "source": [
    "expected_date_list = []\n",
    "for year in range(2010, 2025):\n",
    "    for month in range(1, 13):\n",
    "        expected_date = f\"{year}-{month:02d}\"\n",
    "        expected_date_list.append(expected_date)"
   ],
   "id": "cc5147da70511360",
   "outputs": [],
   "execution_count": 7
  },
  {
   "metadata": {
    "ExecuteTime": {
     "end_time": "2025-08-01T20:03:43.986759Z",
     "start_time": "2025-08-01T20:03:43.980951Z"
    }
   },
   "cell_type": "code",
   "source": "len(data)",
   "id": "f009ac857d54efee",
   "outputs": [
    {
     "data": {
      "text/plain": [
       "665283"
      ]
     },
     "execution_count": 8,
     "metadata": {},
     "output_type": "execute_result"
    }
   ],
   "execution_count": 8
  },
  {
   "metadata": {
    "ExecuteTime": {
     "end_time": "2025-08-01T20:03:44.131889Z",
     "start_time": "2025-08-01T20:03:44.061456Z"
    }
   },
   "cell_type": "code",
   "source": "data = data[data['TICKER'].isin(sp_500)]",
   "id": "4e662f99db20250f",
   "outputs": [],
   "execution_count": 9
  },
  {
   "metadata": {
    "ExecuteTime": {
     "end_time": "2025-08-01T20:03:44.167019Z",
     "start_time": "2025-08-01T20:03:44.161872Z"
    }
   },
   "cell_type": "code",
   "source": "len(data)",
   "id": "c17353251bfa2043",
   "outputs": [
    {
     "data": {
      "text/plain": [
       "78466"
      ]
     },
     "execution_count": 10,
     "metadata": {},
     "output_type": "execute_result"
    }
   ],
   "execution_count": 10
  },
  {
   "metadata": {
    "ExecuteTime": {
     "end_time": "2025-08-01T20:03:47.462718Z",
     "start_time": "2025-08-01T20:03:44.230815Z"
    }
   },
   "cell_type": "code",
   "source": [
    "missing_rows = []\n",
    "\n",
    "# Her TICKER için\n",
    "for ticker in data['TICKER'].unique():\n",
    "    # TICKER için mevcut tarihler\n",
    "    existing_dates = set(data[data['TICKER'] == ticker]['date'])\n",
    "\n",
    "    # Eksik tarihleri belirle\n",
    "    missing_dates = set(expected_date_list) - existing_dates\n",
    "\n",
    "    # Her eksik tarih için boş satır oluştur\n",
    "    for missing_date in missing_dates:\n",
    "        new_row = {\n",
    "            'TICKER': ticker,\n",
    "            'date': missing_date\n",
    "        }\n",
    "        missing_rows.append(new_row)\n",
    "\n",
    "# Yeni boş satırları DataFrame'e çevir\n",
    "missing_df = pd.DataFrame(missing_rows)\n",
    "\n",
    "# Orijinal veriyle birleştir\n",
    "data = pd.concat([data, missing_df], ignore_index=True)\n",
    "\n",
    "# Tarih sıralaması yap (isteğe bağlı)\n",
    "data = data.sort_values(by=['TICKER', 'date']).reset_index(drop=True)"
   ],
   "id": "287ec9f6da510425",
   "outputs": [],
   "execution_count": 11
  },
  {
   "metadata": {
    "ExecuteTime": {
     "end_time": "2025-08-01T20:03:47.494023Z",
     "start_time": "2025-08-01T20:03:47.487445Z"
    }
   },
   "cell_type": "code",
   "source": "len(data)",
   "id": "86de67f09e7d4ba7",
   "outputs": [
    {
     "data": {
      "text/plain": [
       "86400"
      ]
     },
     "execution_count": 12,
     "metadata": {},
     "output_type": "execute_result"
    }
   ],
   "execution_count": 12
  },
  {
   "metadata": {
    "ExecuteTime": {
     "end_time": "2025-08-01T20:03:47.619802Z",
     "start_time": "2025-08-01T20:03:47.560289Z"
    }
   },
   "cell_type": "code",
   "source": "data.isna().sum()",
   "id": "46da5becd9267fd4",
   "outputs": [
    {
     "data": {
      "text/plain": [
       "gvkey              7934\n",
       "permno             7934\n",
       "adate              7991\n",
       "qdate              7934\n",
       "public_date        7934\n",
       "CAPEI              8203\n",
       "bm                11037\n",
       "evm                8328\n",
       "pe_op_basic        8648\n",
       "pe_op_dil          8655\n",
       "pe_exi             8624\n",
       "pe_inc             8621\n",
       "ps                 7991\n",
       "pcf                8062\n",
       "npm                7991\n",
       "opmbd              7991\n",
       "opmad              7991\n",
       "gpm                7991\n",
       "ptpm               7991\n",
       "cfm                8185\n",
       "roa                8059\n",
       "roe               11114\n",
       "roce               8285\n",
       "aftret_eq          8059\n",
       "aftret_invcapx     8481\n",
       "aftret_equity      8059\n",
       "GProf              7990\n",
       "equity_invcap      8007\n",
       "debt_invcap        8168\n",
       "totdebt_invcap     8197\n",
       "capital_ratio      8145\n",
       "cash_lt            8028\n",
       "debt_at            8174\n",
       "debt_ebitda        8518\n",
       "lt_debt            8145\n",
       "cash_debt          8430\n",
       "lt_ppent           8839\n",
       "dltt_be           11040\n",
       "debt_assets        8028\n",
       "debt_capital       8628\n",
       "de_ratio           8028\n",
       "at_turn            8060\n",
       "rect_turn          8732\n",
       "pay_turn          10674\n",
       "sale_invcap        8014\n",
       "sale_equity       11176\n",
       "rd_sale            7981\n",
       "adv_sale           7992\n",
       "staff_sale         7992\n",
       "accrual            8062\n",
       "ptb               11037\n",
       "TICKER                0\n",
       "cusip              7934\n",
       "date                  0\n",
       "dtype: int64"
      ]
     },
     "execution_count": 13,
     "metadata": {},
     "output_type": "execute_result"
    }
   ],
   "execution_count": 13
  },
  {
   "metadata": {
    "ExecuteTime": {
     "end_time": "2025-08-01T20:03:48.247869Z",
     "start_time": "2025-08-01T20:03:47.703203Z"
    }
   },
   "cell_type": "code",
   "source": "data = data.groupby('TICKER').apply(lambda group: group.ffill().bfill()).reset_index(drop=True)",
   "id": "1fea96ed3cd62f9e",
   "outputs": [
    {
     "name": "stderr",
     "output_type": "stream",
     "text": [
      "/tmp/ipykernel_6699/2790136424.py:1: DeprecationWarning: DataFrameGroupBy.apply operated on the grouping columns. This behavior is deprecated, and in a future version of pandas the grouping columns will be excluded from the operation. Either pass `include_groups=False` to exclude the groupings or explicitly select the grouping columns after groupby to silence this warning.\n",
      "  data = data.groupby('TICKER').apply(lambda group: group.ffill().bfill()).reset_index(drop=True)\n"
     ]
    }
   ],
   "execution_count": 14
  },
  {
   "metadata": {
    "ExecuteTime": {
     "end_time": "2025-08-01T20:04:30.762363Z",
     "start_time": "2025-08-01T20:04:30.720403Z"
    }
   },
   "cell_type": "code",
   "source": "data.isna().sum()",
   "id": "9d0cd9dc8b73c095",
   "outputs": [
    {
     "data": {
      "text/plain": [
       "gvkey                0\n",
       "permno               0\n",
       "adate                0\n",
       "qdate                0\n",
       "public_date          0\n",
       "CAPEI                0\n",
       "bm                 540\n",
       "evm                  0\n",
       "pe_op_basic       1260\n",
       "pe_op_dil         1260\n",
       "pe_exi            1260\n",
       "pe_inc            1260\n",
       "ps                   0\n",
       "pcf                  0\n",
       "npm                  0\n",
       "opmbd                0\n",
       "opmad                0\n",
       "gpm                  0\n",
       "ptpm                 0\n",
       "cfm                  0\n",
       "roa                  0\n",
       "roe                360\n",
       "roce                 0\n",
       "aftret_eq            0\n",
       "aftret_invcapx       0\n",
       "aftret_equity        0\n",
       "GProf                0\n",
       "equity_invcap        0\n",
       "debt_invcap          0\n",
       "totdebt_invcap       0\n",
       "capital_ratio        0\n",
       "cash_lt              0\n",
       "debt_at              0\n",
       "debt_ebitda          0\n",
       "lt_debt              0\n",
       "cash_debt            0\n",
       "lt_ppent           540\n",
       "dltt_be            540\n",
       "debt_assets          0\n",
       "debt_capital       540\n",
       "de_ratio             0\n",
       "at_turn              0\n",
       "rect_turn          180\n",
       "pay_turn           720\n",
       "sale_invcap          0\n",
       "sale_equity        540\n",
       "rd_sale              0\n",
       "adv_sale             0\n",
       "staff_sale           0\n",
       "accrual              0\n",
       "ptb                540\n",
       "TICKER               0\n",
       "cusip                0\n",
       "date                 0\n",
       "dtype: int64"
      ]
     },
     "execution_count": 16,
     "metadata": {},
     "output_type": "execute_result"
    }
   ],
   "execution_count": 16
  },
  {
   "metadata": {
    "ExecuteTime": {
     "end_time": "2025-08-01T20:06:25.251164Z",
     "start_time": "2025-08-01T20:06:25.197977Z"
    }
   },
   "cell_type": "code",
   "source": [
    "# Hala NaN içeren sütunları kontrol et\n",
    "nan_cols_after_fill = data.columns[data.isna().any()].tolist()\n",
    "\n",
    "# Bu sütunları tamamen drop et (çünkü ffill + bfill işe yaramadı)\n",
    "data = data.drop(columns=nan_cols_after_fill)"
   ],
   "id": "12d6c9327639e617",
   "outputs": [],
   "execution_count": 17
  },
  {
   "metadata": {
    "ExecuteTime": {
     "end_time": "2025-08-01T20:06:32.845308Z",
     "start_time": "2025-08-01T20:06:32.795475Z"
    }
   },
   "cell_type": "code",
   "source": "data.isna().sum().sum()",
   "id": "61377776ca3f28a8",
   "outputs": [
    {
     "data": {
      "text/plain": [
       "0"
      ]
     },
     "execution_count": 18,
     "metadata": {},
     "output_type": "execute_result"
    }
   ],
   "execution_count": 18
  },
  {
   "metadata": {
    "ExecuteTime": {
     "end_time": "2025-08-01T20:09:15.330503Z",
     "start_time": "2025-08-01T20:09:15.296663Z"
    }
   },
   "cell_type": "code",
   "source": "data.drop('date', axis=1, inplace=True)",
   "id": "70c6f787d7bf37d",
   "outputs": [],
   "execution_count": 20
  },
  {
   "metadata": {
    "ExecuteTime": {
     "end_time": "2025-08-01T20:09:18.019687Z",
     "start_time": "2025-08-01T20:09:16.213369Z"
    }
   },
   "cell_type": "code",
   "source": "data.to_csv('data/auxiliary/wrds/financial_ratios_all_processed.csv')",
   "id": "5a70f56c241ce815",
   "outputs": [],
   "execution_count": 21
  },
  {
   "metadata": {},
   "cell_type": "code",
   "outputs": [],
   "execution_count": null,
   "source": "",
   "id": "11b5dff3ff077755"
  }
 ],
 "metadata": {
  "kernelspec": {
   "display_name": "Python 3",
   "language": "python",
   "name": "python3"
  },
  "language_info": {
   "codemirror_mode": {
    "name": "ipython",
    "version": 2
   },
   "file_extension": ".py",
   "mimetype": "text/x-python",
   "name": "python",
   "nbconvert_exporter": "python",
   "pygments_lexer": "ipython2",
   "version": "2.7.6"
  }
 },
 "nbformat": 4,
 "nbformat_minor": 5
}
