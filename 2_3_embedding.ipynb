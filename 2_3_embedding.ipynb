{
 "cells": [
  {
   "cell_type": "code",
   "id": "initial_id",
   "metadata": {
    "collapsed": true,
    "ExecuteTime": {
     "end_time": "2025-07-02T13:17:43.775261Z",
     "start_time": "2025-07-02T13:17:42.414292Z"
    }
   },
   "source": [
    "from lib.database.database_connector import DatabaseConnector\n",
    "import json\n",
    "import numpy as np\n",
    "from sklearn.linear_model import LogisticRegression\n",
    "from sklearn.neighbors import KNeighborsClassifier\n",
    "from sklearn.metrics import accuracy_score, precision_score, recall_score, f1_score, confusion_matrix\n",
    "\n",
    "from tqdm import tqdm\n",
    "\n",
    "\n",
    "from sklearn.feature_extraction.text import CountVectorizer\n",
    "from sklearn.model_selection import train_test_split\n",
    "from sklearn.ensemble import RandomForestClassifier\n",
    "\n",
    "import re\n",
    "import nltk\n",
    "\n",
    "nltk.download('stopwords')\n",
    "from nltk.corpus import stopwords"
   ],
   "outputs": [
    {
     "name": "stderr",
     "output_type": "stream",
     "text": [
      "[nltk_data] Downloading package stopwords to\n",
      "[nltk_data]     /home/cagatay/nltk_data...\n",
      "[nltk_data]   Package stopwords is already up-to-date!\n"
     ]
    }
   ],
   "execution_count": 1
  },
  {
   "metadata": {
    "ExecuteTime": {
     "end_time": "2025-07-02T13:17:43.789198Z",
     "start_time": "2025-07-02T13:17:43.786011Z"
    }
   },
   "cell_type": "code",
   "source": [
    "database_connector = DatabaseConnector(\"./data/database.db\")\n",
    "cursor = database_connector.cursor\n",
    "\n",
    "split_date = \"2020-01-01\""
   ],
   "id": "b543d530d559fa5b",
   "outputs": [],
   "execution_count": 2
  },
  {
   "metadata": {
    "ExecuteTime": {
     "end_time": "2025-07-02T13:18:21.416054Z",
     "start_time": "2025-07-02T13:17:43.899682Z"
    }
   },
   "cell_type": "code",
   "source": [
    "train_data = cursor.execute(\n",
    "    \"SELECT embeddings, label FROM embeddings WHERE filing_date < '2020-01-01';\"\n",
    ").fetchall()\n",
    "\n",
    "test_data = cursor.execute(\n",
    "    \"SELECT embeddings, label FROM embeddings WHERE filing_date >= '2020-01-01';\"\n",
    ").fetchall()"
   ],
   "id": "47a470e6276b0e34",
   "outputs": [],
   "execution_count": 3
  },
  {
   "metadata": {},
   "cell_type": "code",
   "source": [
    "train_data = [(np.mean(json.loads(embeddings), axis=0), label) for embeddings, label in tqdm(train_data, desc=\"Training\")]\n",
    "test_data = [(np.mean(json.loads(embeddings), axis=0), label) for embeddings, label in tqdm(test_data, desc=\"Testing\")]"
   ],
   "id": "385c21186a115dcb",
   "outputs": [],
   "execution_count": null
  },
  {
   "metadata": {},
   "cell_type": "code",
   "source": [
    "X_train, y_train = zip(*train_data)\n",
    "X_test, y_test = zip(*test_data)"
   ],
   "id": "f0a3db832ddab989",
   "outputs": [],
   "execution_count": null
  },
  {
   "metadata": {},
   "cell_type": "code",
   "source": [
    "lr = LogisticRegression(max_iter=1000, n_jobs=-1, random_state=42)\n",
    "lr.fit(X_train, y_train)\n",
    "y_pred_lr   = lr.predict(X_test)\n",
    "y_proba_lr  = lr.predict_proba(X_test)[:,1]\n",
    "\n",
    "print(\"=== Logistic Regression ===\")\n",
    "print(\"Accuracy:       \", accuracy_score(y_test, y_pred_lr))\n",
    "print(\"Precision:      \", precision_score(y_test, y_pred_lr))\n",
    "print(\"Recall:         \", recall_score(y_test, y_pred_lr))\n",
    "print(\"F1-score:       \", f1_score(y_test, y_pred_lr))\n",
    "tn, fp, fn, tp = confusion_matrix(y_test, y_pred_lr).ravel()\n",
    "print(\"TP: {:.3f}\".format(tp))\n",
    "print(\"TN: {:.3f}\".format(tn))\n",
    "print(\"FP: {:.3f}\".format(fp))\n",
    "print(\"FN: {:.3f}\".format(fn))"
   ],
   "id": "c40a3ac7c3be81cf",
   "outputs": [],
   "execution_count": null
  },
  {
   "metadata": {},
   "cell_type": "code",
   "source": [
    "rf = RandomForestClassifier(\n",
    "    n_estimators=10,\n",
    "    max_depth=None,\n",
    "    random_state=42,\n",
    "    n_jobs=-1\n",
    ")\n",
    "rf.fit(X_train, y_train)\n",
    "y_pred_rf  = rf.predict(X_test)\n",
    "y_proba_rf = rf.predict_proba(X_test)[:,1]\n",
    "\n",
    "print(\"=== Random Forest Regression ===\")\n",
    "print(\"Accuracy:       \", accuracy_score(y_test, y_pred_rf))\n",
    "print(\"Precision:      \", precision_score(y_test, y_pred_rf))\n",
    "print(\"Recall:         \", recall_score(y_test, y_pred_rf))\n",
    "print(\"F1-score:       \", f1_score(y_test, y_pred_rf))\n",
    "tn, fp, fn, tp = confusion_matrix(y_test, y_pred_rf).ravel()\n",
    "print(\"TP: {:.3f}\".format(tp))\n",
    "print(\"TN: {:.3f}\".format(tn))\n",
    "print(\"FP: {:.3f}\".format(fp))\n",
    "print(\"FN: {:.3f}\".format(fn))"
   ],
   "id": "5ce0d4b42f122be9",
   "outputs": [],
   "execution_count": null
  },
  {
   "metadata": {},
   "cell_type": "code",
   "source": [
    "knn = KNeighborsClassifier(n_neighbors=3)\n",
    "knn.fit(X_train, y_train)\n",
    "y_pred_knn = knn.predict(X_test)\n",
    "y_proba_knn = knn.predict_proba(X_test)[:,1]\n",
    "print(\"=== KNN Classifier ===\")\n",
    "print(\"Accuracy:       \", accuracy_score(y_test, y_pred_knn))\n",
    "print(\"Precision:      \", precision_score(y_test, y_pred_knn))\n",
    "print(\"Recall:         \", recall_score(y_test, y_pred_knn))\n",
    "print(\"F1-score:       \", f1_score(y_test, y_pred_knn))\n",
    "tn, fp, fn, tp = confusion_matrix(y_test, y_pred_knn).ravel()\n",
    "print(\"TP: {:.3f}\".format(tp))\n",
    "print(\"TN: {:.3f}\".format(tn))\n",
    "print(\"FP: {:.3f}\".format(fp))\n",
    "print(\"FN: {:.3f}\".format(fn))"
   ],
   "id": "c64fdfff0a06f6f6",
   "outputs": [],
   "execution_count": null
  },
  {
   "metadata": {},
   "cell_type": "code",
   "outputs": [],
   "execution_count": null,
   "source": "",
   "id": "5e37648bd006a49"
  }
 ],
 "metadata": {
  "kernelspec": {
   "display_name": "Python 3",
   "language": "python",
   "name": "python3"
  },
  "language_info": {
   "codemirror_mode": {
    "name": "ipython",
    "version": 2
   },
   "file_extension": ".py",
   "mimetype": "text/x-python",
   "name": "python",
   "nbconvert_exporter": "python",
   "pygments_lexer": "ipython2",
   "version": "2.7.6"
  }
 },
 "nbformat": 4,
 "nbformat_minor": 5
}
