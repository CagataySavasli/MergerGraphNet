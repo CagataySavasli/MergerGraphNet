{
 "cells": [
  {
   "cell_type": "code",
   "id": "initial_id",
   "metadata": {
    "collapsed": true,
    "ExecuteTime": {
     "end_time": "2025-08-01T21:51:37.097076Z",
     "start_time": "2025-08-01T21:51:37.039695Z"
    }
   },
   "source": [
    "from lib.database.database_connector import DatabaseConnector\n",
    "import json\n",
    "import numpy as np\n",
    "from sklearn.discriminant_analysis import LinearDiscriminantAnalysis\n",
    "from sklearn.linear_model import LogisticRegression\n",
    "from sklearn.ensemble import RandomForestClassifier\n",
    "from sklearn.neighbors import KNeighborsClassifier\n",
    "\n",
    "from sklearn.metrics import accuracy_score, precision_score, recall_score, f1_score, confusion_matrix\n",
    "from tqdm import tqdm\n",
    "import nltk\n",
    "\n",
    "nltk.download('stopwords')"
   ],
   "outputs": [
    {
     "name": "stderr",
     "output_type": "stream",
     "text": [
      "[nltk_data] Downloading package stopwords to\n",
      "[nltk_data]     /home/cagatay/nltk_data...\n",
      "[nltk_data]   Package stopwords is already up-to-date!\n"
     ]
    },
    {
     "data": {
      "text/plain": [
       "True"
      ]
     },
     "execution_count": 18,
     "metadata": {},
     "output_type": "execute_result"
    }
   ],
   "execution_count": 18
  },
  {
   "metadata": {
    "ExecuteTime": {
     "end_time": "2025-08-01T21:27:20.666005Z",
     "start_time": "2025-08-01T21:27:20.663636Z"
    }
   },
   "cell_type": "code",
   "source": [
    "database_connector = DatabaseConnector(\"./data/database.db\")\n",
    "cursor = database_connector.cursor"
   ],
   "id": "c21afff7815efa34",
   "outputs": [],
   "execution_count": 2
  },
  {
   "metadata": {
    "ExecuteTime": {
     "end_time": "2025-08-01T21:30:51.269060Z",
     "start_time": "2025-08-01T21:27:20.815260Z"
    }
   },
   "cell_type": "code",
   "source": [
    "train_data = cursor.execute(\n",
    "    \"SELECT sentences, embeddings, label FROM embeddings WHERE filing_date < '2019-01-01';\"\n",
    ").fetchall()\n",
    "\n",
    "train_data = [(json.loads(sentences), np.array(json.loads(embeddings), dtype=np.float32), label)\n",
    "              for sentences, embeddings, label in tqdm(train_data, desc=\"Training\")]\n",
    "\n",
    "test_data = cursor.execute(\n",
    "    \"SELECT embeddings, label FROM embeddings WHERE filing_date >= '2020-01-01';\"\n",
    ").fetchall()\n",
    "\n",
    "test_data = [(np.array(json.loads(embeddings), dtype=np.float32), label)\n",
    "             for embeddings, label in tqdm(test_data, desc=\"Testing\")]"
   ],
   "id": "9da63286755544e0",
   "outputs": [
    {
     "name": "stderr",
     "output_type": "stream",
     "text": [
      "Training: 100%|██████████| 6959/6959 [02:38<00:00, 44.03it/s]\n",
      "Testing: 100%|██████████| 1027/1027 [00:20<00:00, 50.72it/s]\n"
     ]
    }
   ],
   "execution_count": 3
  },
  {
   "metadata": {
    "ExecuteTime": {
     "end_time": "2025-08-01T21:30:56.690595Z",
     "start_time": "2025-08-01T21:30:51.289222Z"
    }
   },
   "cell_type": "code",
   "source": [
    "train_flatten = [(sentence, x, y) for sentences_list, x_list, y in train_data for sentence, x in zip(sentences_list, x_list)]\n",
    "sentences, X_train, y_train = zip(*train_flatten)\n",
    "X_train = np.array(X_train)\n",
    "y_train = np.array(y_train)"
   ],
   "id": "a0486e8dd29db14b",
   "outputs": [],
   "execution_count": 4
  },
  {
   "metadata": {
    "ExecuteTime": {
     "end_time": "2025-08-01T21:30:56.720812Z",
     "start_time": "2025-08-01T21:30:56.700915Z"
    }
   },
   "cell_type": "code",
   "source": "del train_data",
   "id": "98bb2b51df12f770",
   "outputs": [],
   "execution_count": 5
  },
  {
   "metadata": {
    "ExecuteTime": {
     "end_time": "2025-08-01T21:32:02.498470Z",
     "start_time": "2025-08-01T21:30:56.753763Z"
    }
   },
   "cell_type": "code",
   "source": [
    "lda = LinearDiscriminantAnalysis(n_components=1, solver='eigen')  # veya 'eigen'\n",
    "X_proj = lda.fit_transform(X_train, y_train)"
   ],
   "id": "9e02ac37d47b1e91",
   "outputs": [],
   "execution_count": 6
  },
  {
   "metadata": {
    "ExecuteTime": {
     "end_time": "2025-08-01T21:32:04.626717Z",
     "start_time": "2025-08-01T21:32:04.620462Z"
    }
   },
   "cell_type": "code",
   "source": "proj_score = X_proj  # LDA projection",
   "id": "5766a9be5863067e",
   "outputs": [],
   "execution_count": 7
  },
  {
   "metadata": {
    "ExecuteTime": {
     "end_time": "2025-08-01T21:32:20.055110Z",
     "start_time": "2025-08-01T21:32:04.644220Z"
    }
   },
   "cell_type": "code",
   "source": [
    "# Skorları sınıfa göre sıralayıp en ayırt edici 10'ar cümleyi seç\n",
    "class_0_idx = np.where(y_train == 0)[0]\n",
    "class_1_idx = np.where(y_train == 1)[0]\n",
    "\n",
    "# Negatif sınıf cümlelerinde en negatif projeksiyonu olanlar\n",
    "top_10_neg = sorted(class_0_idx, key=lambda i: proj_score[i])[:10]\n",
    "top_10_pos = sorted(class_1_idx, key=lambda i: -proj_score[i])[:10]\n",
    "\n",
    "print(\"\\nTop 10 Discriminative Sentences for Class 0:\")\n",
    "for i in top_10_neg:\n",
    "    print(f\"[Score={float(proj_score[i]):.4f}] {sentences[i]}\")\n",
    "\n",
    "print(\"\\nTop 10 Discriminative Sentences for Class 1:\")\n",
    "for i in top_10_pos:\n",
    "    print(f\"[Score={float(proj_score[i]):.4f}] {sentences[i]}\")\n"
   ],
   "id": "739412b145c0f38",
   "outputs": [
    {
     "name": "stdout",
     "output_type": "stream",
     "text": [
      "\n",
      "Top 10 Discriminative Sentences for Class 0:\n",
      "[Score=10428.7136] The increase in service revenues in 2012 was primarily driven by strong contract renewals compared to 2011 for certain edge routing, switching and security products.The increase in product revenues in 2011, compared to 2010, was primarily due to an increase in sales of our edge routing and switching products, partially offset by decreases in core routing and high-end firewall products.\n",
      "[Score=10428.7448] Infrastructure Platforms revenue increased by 2%, or $491 million, with strength across the portfolio with the exception of routing.\n",
      "[Score=10429.0426] This decrease was partially offset by growth in Strategic services revenues, primarily due to growth in advanced services, such as IP communications, our cloud and data center offerings, contact center solutions, security services and professional services as well as our telematics offerings.\n",
      "[Score=10429.2064] On Demand: On Demand includes our Oracle On Demand and Advanced Customer Services offerings.\n",
      "[Score=10429.2233] Product revenue in the enterprise market was flat.\n",
      "[Score=10429.2233] Product revenue in the enterprise market was flat.\n",
      "[Score=10429.2394] Switching experienced growth, with solid revenue growth in data center switching driven by an increase in sales of Cisco Nexus 9000 Series products, and with revenue growth in campus switching driven by our intent-based networking Cisco Catalyst 9000 Series.\n",
      "[Score=10429.2398] GBS offerings include:•Enterprise, Cloud Applications and Consulting.\n",
      "[Score=10429.2905] Our SSD segment offers software solutions focused on network security and network services applications for both service providers and enterprise customers.\n",
      "[Score=10429.2979] The growth in our key products was driven by increased users for Application Service Provider (\"ASP\") managed services and growth in hosted IP telephony.\n",
      "\n",
      "Top 10 Discriminative Sentences for Class 1:\n",
      "[Score=10440.1198] We expected to expand distribution of salsa beyond our concentration in the Midwest region, however this proved to be challenging as differentiated recipes are required to meet taste profiles in other parts of the country.\n",
      "[Score=10439.7451] The difference primarily reflected planned inventory investments to drive growth at Nordstrom Rack, support well-performing merchandise categories at full-line stores and prepare for the launch of Nordstromrack.com.\n",
      "[Score=10439.7370] In addition, we redesigned promotional spaces to better promote seasonally relevant, high value items to drive sales and to provide more open sight lines to navigate and shop at our stores.\n",
      "[Score=10439.6587] The expense ratio for the non-standard auto business generally is lower than the total Allstate Protection expense ratio due to lower agent commission rates and higher average premiums for non-standard auto as compared to standard auto.\n",
      "[Score=10439.5106] This improvement was offset in part by slightly lower merchandise margins and the store conversion and grand re-opening costs of former A.J.\n",
      "[Score=10439.4800] In 2015, the Company experienced 9.6% variable annuity full surrender rates driven by market appreciation, continued aging of the block and in-force management initiatives.\n",
      "[Score=10439.4409] Domestic Life Insurance premiums and other considerations declined primarily due to lower fee income as a result of a decline in life insurance in force.\n",
      "[Score=10439.4209] Allstate brand standard auto premiums written decreased in 2009 compared to 2008.\n",
      "[Score=10439.3282] (1) Ratios are calculated using the premiums earned for the respective brand and line of business.Auto loss ratio for the Allstate brand increased 0.1 points in the third quarter of 2016 compared to the same period of 2015, due to increased catastrophe losses, which were higher than historical averages, and rising loss costs, partially offset by increased premiums earned.\n",
      "[Score=10439.3181] We charge contract holders mortality and expense assessments on variable annuity accounts to cover insurance and administrative expenses.\n"
     ]
    },
    {
     "name": "stderr",
     "output_type": "stream",
     "text": [
      "/tmp/ipykernel_21795/146560624.py:11: DeprecationWarning: Conversion of an array with ndim > 0 to a scalar is deprecated, and will error in future. Ensure you extract a single element from your array before performing this operation. (Deprecated NumPy 1.25.)\n",
      "  print(f\"[Score={float(proj_score[i]):.4f}] {sentences[i]}\")\n",
      "/tmp/ipykernel_21795/146560624.py:15: DeprecationWarning: Conversion of an array with ndim > 0 to a scalar is deprecated, and will error in future. Ensure you extract a single element from your array before performing this operation. (Deprecated NumPy 1.25.)\n",
      "  print(f\"[Score={float(proj_score[i]):.4f}] {sentences[i]}\")\n"
     ]
    }
   ],
   "execution_count": 8
  },
  {
   "metadata": {
    "ExecuteTime": {
     "end_time": "2025-08-01T21:32:35.801736Z",
     "start_time": "2025-08-01T21:32:20.111496Z"
    }
   },
   "cell_type": "code",
   "source": [
    "N = 100_000\n",
    "\n",
    "top_n_neg = sorted(class_0_idx, key=lambda i: proj_score[i])[:N]\n",
    "top_n_pos = sorted(class_1_idx, key=lambda i: -proj_score[i])[:N]\n",
    "\n",
    "# Seçilen en ayırt edici embedding'leri al\n",
    "X_selected = np.vstack([X_train[top_n_pos], X_train[top_n_neg]])\n",
    "y_selected = np.array([1]*N + [0]*N)"
   ],
   "id": "67da8ae4d2a7d6de",
   "outputs": [],
   "execution_count": 9
  },
  {
   "metadata": {
    "ExecuteTime": {
     "end_time": "2025-08-01T21:32:35.819720Z",
     "start_time": "2025-08-01T21:32:35.814329Z"
    }
   },
   "cell_type": "code",
   "source": "len(X_train), len(X_selected)",
   "id": "dee48d072ded23ff",
   "outputs": [
    {
     "data": {
      "text/plain": [
       "(2201613, 200000)"
      ]
     },
     "execution_count": 10,
     "metadata": {},
     "output_type": "execute_result"
    }
   ],
   "execution_count": 10
  },
  {
   "metadata": {
    "ExecuteTime": {
     "end_time": "2025-08-01T22:05:20.487855Z",
     "start_time": "2025-08-01T21:51:41.077719Z"
    }
   },
   "cell_type": "code",
   "source": [
    "# Basit bir logistic regression ile sınıflandırıcı kur\n",
    "# clf = LogisticRegression()\n",
    "# clf = KNeighborsClassifier(n_neighbors=5)\n",
    "clf = RandomForestClassifier()\n",
    "clf.fit(X_selected, y_selected)"
   ],
   "id": "4e637a35e7201ae5",
   "outputs": [
    {
     "data": {
      "text/plain": [
       "RandomForestClassifier()"
      ],
      "text/html": [
       "<style>#sk-container-id-3 {\n",
       "  /* Definition of color scheme common for light and dark mode */\n",
       "  --sklearn-color-text: #000;\n",
       "  --sklearn-color-text-muted: #666;\n",
       "  --sklearn-color-line: gray;\n",
       "  /* Definition of color scheme for unfitted estimators */\n",
       "  --sklearn-color-unfitted-level-0: #fff5e6;\n",
       "  --sklearn-color-unfitted-level-1: #f6e4d2;\n",
       "  --sklearn-color-unfitted-level-2: #ffe0b3;\n",
       "  --sklearn-color-unfitted-level-3: chocolate;\n",
       "  /* Definition of color scheme for fitted estimators */\n",
       "  --sklearn-color-fitted-level-0: #f0f8ff;\n",
       "  --sklearn-color-fitted-level-1: #d4ebff;\n",
       "  --sklearn-color-fitted-level-2: #b3dbfd;\n",
       "  --sklearn-color-fitted-level-3: cornflowerblue;\n",
       "\n",
       "  /* Specific color for light theme */\n",
       "  --sklearn-color-text-on-default-background: var(--sg-text-color, var(--theme-code-foreground, var(--jp-content-font-color1, black)));\n",
       "  --sklearn-color-background: var(--sg-background-color, var(--theme-background, var(--jp-layout-color0, white)));\n",
       "  --sklearn-color-border-box: var(--sg-text-color, var(--theme-code-foreground, var(--jp-content-font-color1, black)));\n",
       "  --sklearn-color-icon: #696969;\n",
       "\n",
       "  @media (prefers-color-scheme: dark) {\n",
       "    /* Redefinition of color scheme for dark theme */\n",
       "    --sklearn-color-text-on-default-background: var(--sg-text-color, var(--theme-code-foreground, var(--jp-content-font-color1, white)));\n",
       "    --sklearn-color-background: var(--sg-background-color, var(--theme-background, var(--jp-layout-color0, #111)));\n",
       "    --sklearn-color-border-box: var(--sg-text-color, var(--theme-code-foreground, var(--jp-content-font-color1, white)));\n",
       "    --sklearn-color-icon: #878787;\n",
       "  }\n",
       "}\n",
       "\n",
       "#sk-container-id-3 {\n",
       "  color: var(--sklearn-color-text);\n",
       "}\n",
       "\n",
       "#sk-container-id-3 pre {\n",
       "  padding: 0;\n",
       "}\n",
       "\n",
       "#sk-container-id-3 input.sk-hidden--visually {\n",
       "  border: 0;\n",
       "  clip: rect(1px 1px 1px 1px);\n",
       "  clip: rect(1px, 1px, 1px, 1px);\n",
       "  height: 1px;\n",
       "  margin: -1px;\n",
       "  overflow: hidden;\n",
       "  padding: 0;\n",
       "  position: absolute;\n",
       "  width: 1px;\n",
       "}\n",
       "\n",
       "#sk-container-id-3 div.sk-dashed-wrapped {\n",
       "  border: 1px dashed var(--sklearn-color-line);\n",
       "  margin: 0 0.4em 0.5em 0.4em;\n",
       "  box-sizing: border-box;\n",
       "  padding-bottom: 0.4em;\n",
       "  background-color: var(--sklearn-color-background);\n",
       "}\n",
       "\n",
       "#sk-container-id-3 div.sk-container {\n",
       "  /* jupyter's `normalize.less` sets `[hidden] { display: none; }`\n",
       "     but bootstrap.min.css set `[hidden] { display: none !important; }`\n",
       "     so we also need the `!important` here to be able to override the\n",
       "     default hidden behavior on the sphinx rendered scikit-learn.org.\n",
       "     See: https://github.com/scikit-learn/scikit-learn/issues/21755 */\n",
       "  display: inline-block !important;\n",
       "  position: relative;\n",
       "}\n",
       "\n",
       "#sk-container-id-3 div.sk-text-repr-fallback {\n",
       "  display: none;\n",
       "}\n",
       "\n",
       "div.sk-parallel-item,\n",
       "div.sk-serial,\n",
       "div.sk-item {\n",
       "  /* draw centered vertical line to link estimators */\n",
       "  background-image: linear-gradient(var(--sklearn-color-text-on-default-background), var(--sklearn-color-text-on-default-background));\n",
       "  background-size: 2px 100%;\n",
       "  background-repeat: no-repeat;\n",
       "  background-position: center center;\n",
       "}\n",
       "\n",
       "/* Parallel-specific style estimator block */\n",
       "\n",
       "#sk-container-id-3 div.sk-parallel-item::after {\n",
       "  content: \"\";\n",
       "  width: 100%;\n",
       "  border-bottom: 2px solid var(--sklearn-color-text-on-default-background);\n",
       "  flex-grow: 1;\n",
       "}\n",
       "\n",
       "#sk-container-id-3 div.sk-parallel {\n",
       "  display: flex;\n",
       "  align-items: stretch;\n",
       "  justify-content: center;\n",
       "  background-color: var(--sklearn-color-background);\n",
       "  position: relative;\n",
       "}\n",
       "\n",
       "#sk-container-id-3 div.sk-parallel-item {\n",
       "  display: flex;\n",
       "  flex-direction: column;\n",
       "}\n",
       "\n",
       "#sk-container-id-3 div.sk-parallel-item:first-child::after {\n",
       "  align-self: flex-end;\n",
       "  width: 50%;\n",
       "}\n",
       "\n",
       "#sk-container-id-3 div.sk-parallel-item:last-child::after {\n",
       "  align-self: flex-start;\n",
       "  width: 50%;\n",
       "}\n",
       "\n",
       "#sk-container-id-3 div.sk-parallel-item:only-child::after {\n",
       "  width: 0;\n",
       "}\n",
       "\n",
       "/* Serial-specific style estimator block */\n",
       "\n",
       "#sk-container-id-3 div.sk-serial {\n",
       "  display: flex;\n",
       "  flex-direction: column;\n",
       "  align-items: center;\n",
       "  background-color: var(--sklearn-color-background);\n",
       "  padding-right: 1em;\n",
       "  padding-left: 1em;\n",
       "}\n",
       "\n",
       "\n",
       "/* Toggleable style: style used for estimator/Pipeline/ColumnTransformer box that is\n",
       "clickable and can be expanded/collapsed.\n",
       "- Pipeline and ColumnTransformer use this feature and define the default style\n",
       "- Estimators will overwrite some part of the style using the `sk-estimator` class\n",
       "*/\n",
       "\n",
       "/* Pipeline and ColumnTransformer style (default) */\n",
       "\n",
       "#sk-container-id-3 div.sk-toggleable {\n",
       "  /* Default theme specific background. It is overwritten whether we have a\n",
       "  specific estimator or a Pipeline/ColumnTransformer */\n",
       "  background-color: var(--sklearn-color-background);\n",
       "}\n",
       "\n",
       "/* Toggleable label */\n",
       "#sk-container-id-3 label.sk-toggleable__label {\n",
       "  cursor: pointer;\n",
       "  display: flex;\n",
       "  width: 100%;\n",
       "  margin-bottom: 0;\n",
       "  padding: 0.5em;\n",
       "  box-sizing: border-box;\n",
       "  text-align: center;\n",
       "  align-items: start;\n",
       "  justify-content: space-between;\n",
       "  gap: 0.5em;\n",
       "}\n",
       "\n",
       "#sk-container-id-3 label.sk-toggleable__label .caption {\n",
       "  font-size: 0.6rem;\n",
       "  font-weight: lighter;\n",
       "  color: var(--sklearn-color-text-muted);\n",
       "}\n",
       "\n",
       "#sk-container-id-3 label.sk-toggleable__label-arrow:before {\n",
       "  /* Arrow on the left of the label */\n",
       "  content: \"▸\";\n",
       "  float: left;\n",
       "  margin-right: 0.25em;\n",
       "  color: var(--sklearn-color-icon);\n",
       "}\n",
       "\n",
       "#sk-container-id-3 label.sk-toggleable__label-arrow:hover:before {\n",
       "  color: var(--sklearn-color-text);\n",
       "}\n",
       "\n",
       "/* Toggleable content - dropdown */\n",
       "\n",
       "#sk-container-id-3 div.sk-toggleable__content {\n",
       "  max-height: 0;\n",
       "  max-width: 0;\n",
       "  overflow: hidden;\n",
       "  text-align: left;\n",
       "  /* unfitted */\n",
       "  background-color: var(--sklearn-color-unfitted-level-0);\n",
       "}\n",
       "\n",
       "#sk-container-id-3 div.sk-toggleable__content.fitted {\n",
       "  /* fitted */\n",
       "  background-color: var(--sklearn-color-fitted-level-0);\n",
       "}\n",
       "\n",
       "#sk-container-id-3 div.sk-toggleable__content pre {\n",
       "  margin: 0.2em;\n",
       "  border-radius: 0.25em;\n",
       "  color: var(--sklearn-color-text);\n",
       "  /* unfitted */\n",
       "  background-color: var(--sklearn-color-unfitted-level-0);\n",
       "}\n",
       "\n",
       "#sk-container-id-3 div.sk-toggleable__content.fitted pre {\n",
       "  /* unfitted */\n",
       "  background-color: var(--sklearn-color-fitted-level-0);\n",
       "}\n",
       "\n",
       "#sk-container-id-3 input.sk-toggleable__control:checked~div.sk-toggleable__content {\n",
       "  /* Expand drop-down */\n",
       "  max-height: 200px;\n",
       "  max-width: 100%;\n",
       "  overflow: auto;\n",
       "}\n",
       "\n",
       "#sk-container-id-3 input.sk-toggleable__control:checked~label.sk-toggleable__label-arrow:before {\n",
       "  content: \"▾\";\n",
       "}\n",
       "\n",
       "/* Pipeline/ColumnTransformer-specific style */\n",
       "\n",
       "#sk-container-id-3 div.sk-label input.sk-toggleable__control:checked~label.sk-toggleable__label {\n",
       "  color: var(--sklearn-color-text);\n",
       "  background-color: var(--sklearn-color-unfitted-level-2);\n",
       "}\n",
       "\n",
       "#sk-container-id-3 div.sk-label.fitted input.sk-toggleable__control:checked~label.sk-toggleable__label {\n",
       "  background-color: var(--sklearn-color-fitted-level-2);\n",
       "}\n",
       "\n",
       "/* Estimator-specific style */\n",
       "\n",
       "/* Colorize estimator box */\n",
       "#sk-container-id-3 div.sk-estimator input.sk-toggleable__control:checked~label.sk-toggleable__label {\n",
       "  /* unfitted */\n",
       "  background-color: var(--sklearn-color-unfitted-level-2);\n",
       "}\n",
       "\n",
       "#sk-container-id-3 div.sk-estimator.fitted input.sk-toggleable__control:checked~label.sk-toggleable__label {\n",
       "  /* fitted */\n",
       "  background-color: var(--sklearn-color-fitted-level-2);\n",
       "}\n",
       "\n",
       "#sk-container-id-3 div.sk-label label.sk-toggleable__label,\n",
       "#sk-container-id-3 div.sk-label label {\n",
       "  /* The background is the default theme color */\n",
       "  color: var(--sklearn-color-text-on-default-background);\n",
       "}\n",
       "\n",
       "/* On hover, darken the color of the background */\n",
       "#sk-container-id-3 div.sk-label:hover label.sk-toggleable__label {\n",
       "  color: var(--sklearn-color-text);\n",
       "  background-color: var(--sklearn-color-unfitted-level-2);\n",
       "}\n",
       "\n",
       "/* Label box, darken color on hover, fitted */\n",
       "#sk-container-id-3 div.sk-label.fitted:hover label.sk-toggleable__label.fitted {\n",
       "  color: var(--sklearn-color-text);\n",
       "  background-color: var(--sklearn-color-fitted-level-2);\n",
       "}\n",
       "\n",
       "/* Estimator label */\n",
       "\n",
       "#sk-container-id-3 div.sk-label label {\n",
       "  font-family: monospace;\n",
       "  font-weight: bold;\n",
       "  display: inline-block;\n",
       "  line-height: 1.2em;\n",
       "}\n",
       "\n",
       "#sk-container-id-3 div.sk-label-container {\n",
       "  text-align: center;\n",
       "}\n",
       "\n",
       "/* Estimator-specific */\n",
       "#sk-container-id-3 div.sk-estimator {\n",
       "  font-family: monospace;\n",
       "  border: 1px dotted var(--sklearn-color-border-box);\n",
       "  border-radius: 0.25em;\n",
       "  box-sizing: border-box;\n",
       "  margin-bottom: 0.5em;\n",
       "  /* unfitted */\n",
       "  background-color: var(--sklearn-color-unfitted-level-0);\n",
       "}\n",
       "\n",
       "#sk-container-id-3 div.sk-estimator.fitted {\n",
       "  /* fitted */\n",
       "  background-color: var(--sklearn-color-fitted-level-0);\n",
       "}\n",
       "\n",
       "/* on hover */\n",
       "#sk-container-id-3 div.sk-estimator:hover {\n",
       "  /* unfitted */\n",
       "  background-color: var(--sklearn-color-unfitted-level-2);\n",
       "}\n",
       "\n",
       "#sk-container-id-3 div.sk-estimator.fitted:hover {\n",
       "  /* fitted */\n",
       "  background-color: var(--sklearn-color-fitted-level-2);\n",
       "}\n",
       "\n",
       "/* Specification for estimator info (e.g. \"i\" and \"?\") */\n",
       "\n",
       "/* Common style for \"i\" and \"?\" */\n",
       "\n",
       ".sk-estimator-doc-link,\n",
       "a:link.sk-estimator-doc-link,\n",
       "a:visited.sk-estimator-doc-link {\n",
       "  float: right;\n",
       "  font-size: smaller;\n",
       "  line-height: 1em;\n",
       "  font-family: monospace;\n",
       "  background-color: var(--sklearn-color-background);\n",
       "  border-radius: 1em;\n",
       "  height: 1em;\n",
       "  width: 1em;\n",
       "  text-decoration: none !important;\n",
       "  margin-left: 0.5em;\n",
       "  text-align: center;\n",
       "  /* unfitted */\n",
       "  border: var(--sklearn-color-unfitted-level-1) 1pt solid;\n",
       "  color: var(--sklearn-color-unfitted-level-1);\n",
       "}\n",
       "\n",
       ".sk-estimator-doc-link.fitted,\n",
       "a:link.sk-estimator-doc-link.fitted,\n",
       "a:visited.sk-estimator-doc-link.fitted {\n",
       "  /* fitted */\n",
       "  border: var(--sklearn-color-fitted-level-1) 1pt solid;\n",
       "  color: var(--sklearn-color-fitted-level-1);\n",
       "}\n",
       "\n",
       "/* On hover */\n",
       "div.sk-estimator:hover .sk-estimator-doc-link:hover,\n",
       ".sk-estimator-doc-link:hover,\n",
       "div.sk-label-container:hover .sk-estimator-doc-link:hover,\n",
       ".sk-estimator-doc-link:hover {\n",
       "  /* unfitted */\n",
       "  background-color: var(--sklearn-color-unfitted-level-3);\n",
       "  color: var(--sklearn-color-background);\n",
       "  text-decoration: none;\n",
       "}\n",
       "\n",
       "div.sk-estimator.fitted:hover .sk-estimator-doc-link.fitted:hover,\n",
       ".sk-estimator-doc-link.fitted:hover,\n",
       "div.sk-label-container:hover .sk-estimator-doc-link.fitted:hover,\n",
       ".sk-estimator-doc-link.fitted:hover {\n",
       "  /* fitted */\n",
       "  background-color: var(--sklearn-color-fitted-level-3);\n",
       "  color: var(--sklearn-color-background);\n",
       "  text-decoration: none;\n",
       "}\n",
       "\n",
       "/* Span, style for the box shown on hovering the info icon */\n",
       ".sk-estimator-doc-link span {\n",
       "  display: none;\n",
       "  z-index: 9999;\n",
       "  position: relative;\n",
       "  font-weight: normal;\n",
       "  right: .2ex;\n",
       "  padding: .5ex;\n",
       "  margin: .5ex;\n",
       "  width: min-content;\n",
       "  min-width: 20ex;\n",
       "  max-width: 50ex;\n",
       "  color: var(--sklearn-color-text);\n",
       "  box-shadow: 2pt 2pt 4pt #999;\n",
       "  /* unfitted */\n",
       "  background: var(--sklearn-color-unfitted-level-0);\n",
       "  border: .5pt solid var(--sklearn-color-unfitted-level-3);\n",
       "}\n",
       "\n",
       ".sk-estimator-doc-link.fitted span {\n",
       "  /* fitted */\n",
       "  background: var(--sklearn-color-fitted-level-0);\n",
       "  border: var(--sklearn-color-fitted-level-3);\n",
       "}\n",
       "\n",
       ".sk-estimator-doc-link:hover span {\n",
       "  display: block;\n",
       "}\n",
       "\n",
       "/* \"?\"-specific style due to the `<a>` HTML tag */\n",
       "\n",
       "#sk-container-id-3 a.estimator_doc_link {\n",
       "  float: right;\n",
       "  font-size: 1rem;\n",
       "  line-height: 1em;\n",
       "  font-family: monospace;\n",
       "  background-color: var(--sklearn-color-background);\n",
       "  border-radius: 1rem;\n",
       "  height: 1rem;\n",
       "  width: 1rem;\n",
       "  text-decoration: none;\n",
       "  /* unfitted */\n",
       "  color: var(--sklearn-color-unfitted-level-1);\n",
       "  border: var(--sklearn-color-unfitted-level-1) 1pt solid;\n",
       "}\n",
       "\n",
       "#sk-container-id-3 a.estimator_doc_link.fitted {\n",
       "  /* fitted */\n",
       "  border: var(--sklearn-color-fitted-level-1) 1pt solid;\n",
       "  color: var(--sklearn-color-fitted-level-1);\n",
       "}\n",
       "\n",
       "/* On hover */\n",
       "#sk-container-id-3 a.estimator_doc_link:hover {\n",
       "  /* unfitted */\n",
       "  background-color: var(--sklearn-color-unfitted-level-3);\n",
       "  color: var(--sklearn-color-background);\n",
       "  text-decoration: none;\n",
       "}\n",
       "\n",
       "#sk-container-id-3 a.estimator_doc_link.fitted:hover {\n",
       "  /* fitted */\n",
       "  background-color: var(--sklearn-color-fitted-level-3);\n",
       "}\n",
       "</style><div id=\"sk-container-id-3\" class=\"sk-top-container\"><div class=\"sk-text-repr-fallback\"><pre>RandomForestClassifier()</pre><b>In a Jupyter environment, please rerun this cell to show the HTML representation or trust the notebook. <br />On GitHub, the HTML representation is unable to render, please try loading this page with nbviewer.org.</b></div><div class=\"sk-container\" hidden><div class=\"sk-item\"><div class=\"sk-estimator fitted sk-toggleable\"><input class=\"sk-toggleable__control sk-hidden--visually\" id=\"sk-estimator-id-3\" type=\"checkbox\" checked><label for=\"sk-estimator-id-3\" class=\"sk-toggleable__label fitted sk-toggleable__label-arrow\"><div><div>RandomForestClassifier</div></div><div><a class=\"sk-estimator-doc-link fitted\" rel=\"noreferrer\" target=\"_blank\" href=\"https://scikit-learn.org/1.6/modules/generated/sklearn.ensemble.RandomForestClassifier.html\">?<span>Documentation for RandomForestClassifier</span></a><span class=\"sk-estimator-doc-link fitted\">i<span>Fitted</span></span></div></label><div class=\"sk-toggleable__content fitted\"><pre>RandomForestClassifier()</pre></div> </div></div></div></div>"
      ]
     },
     "execution_count": 19,
     "metadata": {},
     "output_type": "execute_result"
    }
   ],
   "execution_count": 19
  },
  {
   "metadata": {
    "ExecuteTime": {
     "end_time": "2025-08-01T22:06:31.168076Z",
     "start_time": "2025-08-01T22:06:18.904886Z"
    }
   },
   "cell_type": "code",
   "source": [
    "y_true = []\n",
    "y_pred = []\n",
    "\n",
    "for vec_list, label in tqdm(test_data, desc=\"Testing\"):\n",
    "    vec_list = np.array(vec_list)\n",
    "\n",
    "    # Her vektör için probability tahmini: shape = [n_vectors, n_classes]\n",
    "    probs = clf.predict_proba(vec_list)\n",
    "\n",
    "    # Sınıf 1 (pozitif) olasılıklarının ortalaması\n",
    "    mean_prob = np.mean(probs, axis=0)  # shape: [2]\n",
    "\n",
    "    # En yüksek ortalama olasılığı olan sınıfı seç\n",
    "    pred_label = np.argmax(mean_prob)\n",
    "\n",
    "    y_true.append(label)\n",
    "    y_pred.append(pred_label)\n"
   ],
   "id": "39739578ccbeb1cd",
   "outputs": [
    {
     "name": "stderr",
     "output_type": "stream",
     "text": [
      "Testing: 100%|██████████| 1027/1027 [00:12<00:00, 83.77it/s]\n"
     ]
    }
   ],
   "execution_count": 22
  },
  {
   "metadata": {
    "ExecuteTime": {
     "end_time": "2025-08-01T22:06:33.824345Z",
     "start_time": "2025-08-01T22:06:33.813985Z"
    }
   },
   "cell_type": "code",
   "source": [
    "print(\"=== Classifier ===\")\n",
    "print(\"Accuracy:       \", accuracy_score(y_true, y_pred))\n",
    "print(\"Precision:      \", precision_score(y_true, y_pred))\n",
    "print(\"Recall:         \", recall_score(y_true, y_pred))\n",
    "print(\"F1-score:       \", f1_score(y_true, y_pred))\n",
    "tn, fp, fn, tp = confusion_matrix(y_true, y_pred).ravel()\n",
    "print(\"TP: {:.3f}\".format(tp))\n",
    "print(\"TN: {:.3f}\".format(tn))\n",
    "print(\"FP: {:.3f}\".format(fp))\n",
    "print(\"FN: {:.3f}\".format(fn))"
   ],
   "id": "ce38b798572409ba",
   "outputs": [
    {
     "name": "stdout",
     "output_type": "stream",
     "text": [
      "=== Classifier ===\n",
      "Accuracy:        0.19961051606621227\n",
      "Precision:       0.1411764705882353\n",
      "Recall:          0.8741721854304636\n",
      "F1-score:        0.2430939226519337\n",
      "TP: 132.000\n",
      "TN: 73.000\n",
      "FP: 803.000\n",
      "FN: 19.000\n"
     ]
    }
   ],
   "execution_count": 23
  },
  {
   "metadata": {},
   "cell_type": "code",
   "source": [
    "# RF resılts\n",
    "#\n",
    "# === Classifier ===\n",
    "# Accuracy:        0.19961051606621227\n",
    "# Precision:       0.1411764705882353\n",
    "# Recall:          0.8741721854304636\n",
    "# F1-score:        0.2430939226519337\n",
    "# TP: 132.000\n",
    "# TN: 73.000\n",
    "# FP: 803.000\n",
    "# FN: 19.000"
   ],
   "id": "14da02b67296134a",
   "outputs": [],
   "execution_count": null
  }
 ],
 "metadata": {
  "kernelspec": {
   "display_name": "Python 3",
   "language": "python",
   "name": "python3"
  },
  "language_info": {
   "codemirror_mode": {
    "name": "ipython",
    "version": 2
   },
   "file_extension": ".py",
   "mimetype": "text/x-python",
   "name": "python",
   "nbconvert_exporter": "python",
   "pygments_lexer": "ipython2",
   "version": "2.7.6"
  }
 },
 "nbformat": 4,
 "nbformat_minor": 5
}
