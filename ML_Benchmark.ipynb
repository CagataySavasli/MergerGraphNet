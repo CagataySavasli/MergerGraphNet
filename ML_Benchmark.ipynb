{
 "cells": [
  {
   "cell_type": "code",
   "id": "initial_id",
   "metadata": {
    "collapsed": true,
    "ExecuteTime": {
     "end_time": "2025-03-16T09:46:46.000534Z",
     "start_time": "2025-03-16T09:46:45.341921Z"
    }
   },
   "source": [
    "from nltk.tokenize import sent_tokenize\n",
    "\n",
    "from lib.config.config_loader import ConfigLoader\n",
    "\n",
    "import pandas as pd\n",
    "from sklearn.feature_extraction.text import TfidfVectorizer\n",
    "from sklearn.metrics import accuracy_score, precision_score, recall_score, f1_score, confusion_matrix\n",
    "\n",
    "from sklearn.naive_bayes import GaussianNB\n",
    "from sklearn.linear_model import LogisticRegression\n",
    "from sklearn.ensemble import RandomForestClassifier\n",
    "from xgboost import XGBClassifier\n",
    "\n",
    "\n",
    "from tqdm import tqdm\n",
    "\n",
    "config = ConfigLoader().load_config()\n",
    "tqdm.pandas()"
   ],
   "outputs": [],
   "execution_count": 2
  },
  {
   "metadata": {
    "ExecuteTime": {
     "end_time": "2025-03-16T09:46:46.006222Z",
     "start_time": "2025-03-16T09:46:46.004322Z"
    }
   },
   "cell_type": "code",
   "source": "input_dim = config['models']['input_dim']",
   "id": "63dbd3cf3af9de20",
   "outputs": [],
   "execution_count": 3
  },
  {
   "metadata": {
    "ExecuteTime": {
     "end_time": "2025-03-16T09:47:26.929359Z",
     "start_time": "2025-03-16T09:46:46.058683Z"
    }
   },
   "cell_type": "code",
   "source": [
    "df = pd.read_csv('./data/processed/reports_labeled.csv')\n",
    "# df = df.loc[:100].copy()\n",
    "#df = df[df['form'] == '10-K'].copy()\n",
    "df.reset_index(drop=True, inplace=True)\n",
    "df['sentences'] = df['mda'].progress_apply(lambda x: sent_tokenize(x))\n",
    "\n",
    "train_df = df[df['year'] <= 2019].copy()\n",
    "test_df = df[df['year'] > 2019].copy()\n",
    "\n",
    "# train_df = df.loc[:80].copy().reset_index(drop=True)\n",
    "# test_df = df.iloc[80:].copy().reset_index(drop=True)"
   ],
   "id": "85627e7a901ccf40",
   "outputs": [
    {
     "name": "stderr",
     "output_type": "stream",
     "text": [
      "100%|██████████| 13017/13017 [00:36<00:00, 361.33it/s]\n"
     ]
    }
   ],
   "execution_count": 4
  },
  {
   "metadata": {
    "ExecuteTime": {
     "end_time": "2025-03-16T09:47:26.984184Z",
     "start_time": "2025-03-16T09:47:26.977818Z"
    }
   },
   "cell_type": "code",
   "source": "df['year'].unique()",
   "id": "ba42692d42e897cd",
   "outputs": [
    {
     "data": {
      "text/plain": [
       "array([2010, 2011, 2012, 2013, 2014, 2015, 2016, 2017, 2018, 2019, 2020,\n",
       "       2021])"
      ]
     },
     "execution_count": 5,
     "metadata": {},
     "output_type": "execute_result"
    }
   ],
   "execution_count": 5
  },
  {
   "metadata": {
    "ExecuteTime": {
     "end_time": "2025-03-16T09:47:27.059713Z",
     "start_time": "2025-03-16T09:47:27.054271Z"
    }
   },
   "cell_type": "code",
   "source": "train_df['label'].value_counts()",
   "id": "db7df2dc10be25fb",
   "outputs": [
    {
     "data": {
      "text/plain": [
       "label\n",
       "0    9145\n",
       "1    1874\n",
       "Name: count, dtype: int64"
      ]
     },
     "execution_count": 6,
     "metadata": {},
     "output_type": "execute_result"
    }
   ],
   "execution_count": 6
  },
  {
   "metadata": {
    "ExecuteTime": {
     "end_time": "2025-03-16T09:47:27.109602Z",
     "start_time": "2025-03-16T09:47:27.105809Z"
    }
   },
   "cell_type": "code",
   "source": "train_df['year'].unique()",
   "id": "476028eb7657159c",
   "outputs": [
    {
     "data": {
      "text/plain": [
       "array([2010, 2011, 2012, 2013, 2014, 2015, 2016, 2017, 2018, 2019])"
      ]
     },
     "execution_count": 7,
     "metadata": {},
     "output_type": "execute_result"
    }
   ],
   "execution_count": 7
  },
  {
   "metadata": {
    "ExecuteTime": {
     "end_time": "2025-03-16T09:47:27.156032Z",
     "start_time": "2025-03-16T09:47:27.152639Z"
    }
   },
   "cell_type": "code",
   "source": "test_df['label'].value_counts()",
   "id": "a3296089696fc2b1",
   "outputs": [
    {
     "data": {
      "text/plain": [
       "label\n",
       "0    1696\n",
       "1     302\n",
       "Name: count, dtype: int64"
      ]
     },
     "execution_count": 8,
     "metadata": {},
     "output_type": "execute_result"
    }
   ],
   "execution_count": 8
  },
  {
   "metadata": {
    "ExecuteTime": {
     "end_time": "2025-03-16T09:47:27.184672Z",
     "start_time": "2025-03-16T09:47:27.181387Z"
    }
   },
   "cell_type": "code",
   "source": "test_df['year'].unique()",
   "id": "38a081a23e5cc759",
   "outputs": [
    {
     "data": {
      "text/plain": [
       "array([2020, 2021])"
      ]
     },
     "execution_count": 9,
     "metadata": {},
     "output_type": "execute_result"
    }
   ],
   "execution_count": 9
  },
  {
   "metadata": {
    "ExecuteTime": {
     "end_time": "2025-03-16T09:48:44.274678Z",
     "start_time": "2025-03-16T09:47:27.235584Z"
    }
   },
   "cell_type": "code",
   "source": [
    "train_corpus = [sentence for sentences in train_df['sentences'] for sentence in sentences]\n",
    "\n",
    "vectorizer = TfidfVectorizer(max_features=input_dim, stop_words='english')\n",
    "vectorizer.fit(train_corpus)\n",
    "\n",
    "def get_tfidf_embeddings(sentence_list):\n",
    "    if not type(sentence_list) == list:\n",
    "        sentence_list = [sentence_list]\n",
    "    embeddings = vectorizer.transform(sentence_list)\n",
    "    return embeddings\n",
    "\n",
    "# print(\"Train Sentence: \")\n",
    "# train_df['tfidf_sentence'] = train_df['sentences'].progress_apply(get_tfidf_embeddings)\n",
    "# print(\"Test Sentence: \")\n",
    "# test_df['tfidf_sentence'] = test_df['sentences'].progress_apply(get_tfidf_embeddings)\n",
    "\n",
    "print(\"Train MDA: \")\n",
    "train_df['tfidf_mda'] = train_df['mda'].progress_apply(get_tfidf_embeddings)\n",
    "print(\"Test MDA: \")\n",
    "test_df['tfidf_mda'] = test_df['mda'].progress_apply(get_tfidf_embeddings)\n"
   ],
   "id": "408f7b677697024a",
   "outputs": [
    {
     "name": "stdout",
     "output_type": "stream",
     "text": [
      "Train MDA: \n"
     ]
    },
    {
     "name": "stderr",
     "output_type": "stream",
     "text": [
      "100%|██████████| 11019/11019 [00:33<00:00, 324.72it/s]\n"
     ]
    },
    {
     "name": "stdout",
     "output_type": "stream",
     "text": [
      "Test MDA: \n"
     ]
    },
    {
     "name": "stderr",
     "output_type": "stream",
     "text": [
      "100%|██████████| 1998/1998 [00:05<00:00, 345.56it/s]\n"
     ]
    }
   ],
   "execution_count": 10
  },
  {
   "metadata": {
    "ExecuteTime": {
     "end_time": "2025-03-16T09:48:44.587529Z",
     "start_time": "2025-03-16T09:48:44.311966Z"
    }
   },
   "cell_type": "code",
   "source": [
    "X_train, y_train = train_df['tfidf_mda'], train_df['label'].to_numpy()\n",
    "X_test, y_test = test_df['tfidf_mda'], test_df['label'].to_numpy()\n",
    "\n",
    "X_train = [x.toarray()[0] for x in X_train]\n",
    "X_test = [x.toarray()[0] for x in X_test]"
   ],
   "id": "553db84bbe6f5c5c",
   "outputs": [],
   "execution_count": 11
  },
  {
   "metadata": {
    "ExecuteTime": {
     "end_time": "2025-03-11T13:08:23.609659Z",
     "start_time": "2025-03-11T13:08:23.607105Z"
    }
   },
   "cell_type": "code",
   "source": [
    "models = {\n",
    "    \"Gaussian NB\": GaussianNB(),\n",
    "    \"Logistic Regression\": LogisticRegression(),\n",
    "    \"Random Forest\": RandomForestClassifier(),\n",
    "    \"XGBoost\": XGBClassifier(),\n",
    "}\n",
    "\n",
    "predictions = {}"
   ],
   "id": "4b357cfbc80d4401",
   "outputs": [],
   "execution_count": 11
  },
  {
   "metadata": {
    "ExecuteTime": {
     "end_time": "2025-03-11T13:11:01.474270Z",
     "start_time": "2025-03-11T13:08:23.643211Z"
    }
   },
   "cell_type": "code",
   "source": [
    "for name, model in models.items():\n",
    "    print(\"Training \" + name)\n",
    "    model.fit(X_train, y_train)\n",
    "    y_pred = model.predict(X_test)\n",
    "\n",
    "    predictions[name] = {\n",
    "        'y_pred': y_pred,\n",
    "        'y_test': y_test,\n",
    "    }\n"
   ],
   "id": "994ad6e1a978aa7e",
   "outputs": [
    {
     "name": "stdout",
     "output_type": "stream",
     "text": [
      "Training Gaussian NB\n",
      "Training Logistic Regression\n",
      "Training Random Forest\n",
      "Training XGBoost\n"
     ]
    }
   ],
   "execution_count": 12
  },
  {
   "metadata": {
    "ExecuteTime": {
     "end_time": "2025-03-11T13:11:01.544736Z",
     "start_time": "2025-03-11T13:11:01.542341Z"
    }
   },
   "cell_type": "code",
   "source": [
    "def evaluate(y_true, y_pred):\n",
    "    accuracy = round(accuracy_score(y_true, y_pred), 4)\n",
    "    precision = round(precision_score(y_true, y_pred, zero_division=0), 4)\n",
    "    recall = round(recall_score(y_true, y_pred, zero_division=0), 4)\n",
    "    f1 = round(f1_score(y_true, y_pred, zero_division=0), 4)\n",
    "\n",
    "    tn, fp, fn, tp = confusion_matrix(y_true, y_pred).ravel()\n",
    "\n",
    "    return accuracy, precision, recall, f1, tp, tn, fp, fn"
   ],
   "id": "e225c616c7cc4372",
   "outputs": [],
   "execution_count": 13
  },
  {
   "metadata": {
    "ExecuteTime": {
     "end_time": "2025-03-11T15:09:40.014472Z",
     "start_time": "2025-03-11T15:09:39.917539Z"
    }
   },
   "cell_type": "code",
   "source": [
    "results = {\n",
    "    \"Model\": [],\n",
    "    \"Accuracy\": [],\n",
    "    \"Precision\": [],\n",
    "    \"Recall\": [],\n",
    "    \"F1\": [],\n",
    "    \"TP\": [],\n",
    "    \"TN\": [],\n",
    "    \"FP\": [],\n",
    "    \"FN\": []\n",
    "}\n",
    "for name, pred_dict in predictions.items():\n",
    "    print(\"Evaluating \" + name)\n",
    "\n",
    "    accuracy, precision, recall, f1, tp, tn, fp, fn = evaluate(pred_dict['y_test'], pred_dict['y_pred'])\n",
    "    results[\"Model\"].append(name)\n",
    "    results[\"Accuracy\"].append(accuracy)\n",
    "    results[\"Precision\"].append(precision)\n",
    "    results[\"Recall\"].append(recall)\n",
    "    results[\"F1\"].append(f1)\n",
    "    results[\"TP\"].append(tp)\n",
    "    results[\"TN\"].append(tn)\n",
    "    results[\"FP\"].append(fp)\n",
    "    results[\"FN\"].append(fn)\n",
    "\n",
    "    print(f\"Accuracy: {accuracy}, Precision: {precision}, Recall: {recall}, F1: {f1} | TP: {tp}, TN: {tn}, FP: {fp}, FN: {fn}\")\n",
    "    print(\"#\"*100)\n",
    "results = pd.DataFrame(results)"
   ],
   "id": "87d91745960767f8",
   "outputs": [
    {
     "name": "stdout",
     "output_type": "stream",
     "text": [
      "Evaluating Gaussian NB\n",
      "Accuracy: 0.5195, Precision: 0.1998, Recall: 0.7252, F1: 0.3133 | TP: 219, TN: 819, FP: 877, FN: 83\n",
      "####################################################################################################\n",
      "Evaluating Logistic Regression\n",
      "Accuracy: 0.8493, Precision: 0.6667, Recall: 0.0066, F1: 0.0131 | TP: 2, TN: 1695, FP: 1, FN: 300\n",
      "####################################################################################################\n",
      "Evaluating Random Forest\n",
      "Accuracy: 0.8544, Precision: 0.6667, Recall: 0.0728, F1: 0.1313 | TP: 22, TN: 1685, FP: 11, FN: 280\n",
      "####################################################################################################\n",
      "Evaluating XGBoost\n",
      "Accuracy: 0.8438, Precision: 0.4242, Recall: 0.0927, F1: 0.1522 | TP: 28, TN: 1658, FP: 38, FN: 274\n",
      "####################################################################################################\n"
     ]
    }
   ],
   "execution_count": 18
  },
  {
   "metadata": {
    "ExecuteTime": {
     "end_time": "2025-03-11T15:09:43.662357Z",
     "start_time": "2025-03-11T15:09:43.640699Z"
    }
   },
   "cell_type": "code",
   "source": "results",
   "id": "7e18d4953aca051e",
   "outputs": [
    {
     "data": {
      "text/plain": [
       "                 Model  Accuracy  Precision  Recall      F1   TP    TN   FP  \\\n",
       "0          Gaussian NB    0.5195     0.1998  0.7252  0.3133  219   819  877   \n",
       "1  Logistic Regression    0.8493     0.6667  0.0066  0.0131    2  1695    1   \n",
       "2        Random Forest    0.8544     0.6667  0.0728  0.1313   22  1685   11   \n",
       "3              XGBoost    0.8438     0.4242  0.0927  0.1522   28  1658   38   \n",
       "\n",
       "    FN  \n",
       "0   83  \n",
       "1  300  \n",
       "2  280  \n",
       "3  274  "
      ],
      "text/html": [
       "<div>\n",
       "<style scoped>\n",
       "    .dataframe tbody tr th:only-of-type {\n",
       "        vertical-align: middle;\n",
       "    }\n",
       "\n",
       "    .dataframe tbody tr th {\n",
       "        vertical-align: top;\n",
       "    }\n",
       "\n",
       "    .dataframe thead th {\n",
       "        text-align: right;\n",
       "    }\n",
       "</style>\n",
       "<table border=\"1\" class=\"dataframe\">\n",
       "  <thead>\n",
       "    <tr style=\"text-align: right;\">\n",
       "      <th></th>\n",
       "      <th>Model</th>\n",
       "      <th>Accuracy</th>\n",
       "      <th>Precision</th>\n",
       "      <th>Recall</th>\n",
       "      <th>F1</th>\n",
       "      <th>TP</th>\n",
       "      <th>TN</th>\n",
       "      <th>FP</th>\n",
       "      <th>FN</th>\n",
       "    </tr>\n",
       "  </thead>\n",
       "  <tbody>\n",
       "    <tr>\n",
       "      <th>0</th>\n",
       "      <td>Gaussian NB</td>\n",
       "      <td>0.5195</td>\n",
       "      <td>0.1998</td>\n",
       "      <td>0.7252</td>\n",
       "      <td>0.3133</td>\n",
       "      <td>219</td>\n",
       "      <td>819</td>\n",
       "      <td>877</td>\n",
       "      <td>83</td>\n",
       "    </tr>\n",
       "    <tr>\n",
       "      <th>1</th>\n",
       "      <td>Logistic Regression</td>\n",
       "      <td>0.8493</td>\n",
       "      <td>0.6667</td>\n",
       "      <td>0.0066</td>\n",
       "      <td>0.0131</td>\n",
       "      <td>2</td>\n",
       "      <td>1695</td>\n",
       "      <td>1</td>\n",
       "      <td>300</td>\n",
       "    </tr>\n",
       "    <tr>\n",
       "      <th>2</th>\n",
       "      <td>Random Forest</td>\n",
       "      <td>0.8544</td>\n",
       "      <td>0.6667</td>\n",
       "      <td>0.0728</td>\n",
       "      <td>0.1313</td>\n",
       "      <td>22</td>\n",
       "      <td>1685</td>\n",
       "      <td>11</td>\n",
       "      <td>280</td>\n",
       "    </tr>\n",
       "    <tr>\n",
       "      <th>3</th>\n",
       "      <td>XGBoost</td>\n",
       "      <td>0.8438</td>\n",
       "      <td>0.4242</td>\n",
       "      <td>0.0927</td>\n",
       "      <td>0.1522</td>\n",
       "      <td>28</td>\n",
       "      <td>1658</td>\n",
       "      <td>38</td>\n",
       "      <td>274</td>\n",
       "    </tr>\n",
       "  </tbody>\n",
       "</table>\n",
       "</div>"
      ]
     },
     "execution_count": 19,
     "metadata": {},
     "output_type": "execute_result"
    }
   ],
   "execution_count": 19
  },
  {
   "metadata": {
    "ExecuteTime": {
     "end_time": "2025-03-11T15:10:25.828465Z",
     "start_time": "2025-03-11T15:10:25.820838Z"
    }
   },
   "cell_type": "code",
   "source": "results.to_csv('./outputs/ml_results.csv', index=False)",
   "id": "2951b712d8d507c",
   "outputs": [],
   "execution_count": 20
  },
  {
   "metadata": {},
   "cell_type": "code",
   "outputs": [],
   "execution_count": null,
   "source": "",
   "id": "2262114a28b7e4f1"
  }
 ],
 "metadata": {
  "kernelspec": {
   "display_name": "Python 3",
   "language": "python",
   "name": "python3"
  },
  "language_info": {
   "codemirror_mode": {
    "name": "ipython",
    "version": 2
   },
   "file_extension": ".py",
   "mimetype": "text/x-python",
   "name": "python",
   "nbconvert_exporter": "python",
   "pygments_lexer": "ipython2",
   "version": "2.7.6"
  }
 },
 "nbformat": 4,
 "nbformat_minor": 5
}
