{
 "cells": [
  {
   "cell_type": "code",
   "id": "initial_id",
   "metadata": {
    "collapsed": true,
    "ExecuteTime": {
     "end_time": "2025-03-14T15:53:25.842084Z",
     "start_time": "2025-03-14T15:53:23.755857Z"
    }
   },
   "source": [
    "from nltk.tokenize import sent_tokenize\n",
    "\n",
    "from lib.util.graph_data_loader import GraphDataLoader\n",
    "from lib.model.graph_classifer import GraphClassifier, GraphLSTMClassifier, GraphTransClassifier\n",
    "from lib.config.config_loader import ConfigLoader\n",
    "\n",
    "import torch\n",
    "import torch.nn as nn\n",
    "import torch.optim as optim\n",
    "from torch_geometric.loader import DataLoader\n",
    "\n",
    "import pandas as pd\n",
    "import numpy as np\n",
    "from sklearn.feature_extraction.text import TfidfVectorizer\n",
    "from sklearn.metrics import accuracy_score, precision_score, recall_score, f1_score, confusion_matrix\n",
    "from tqdm import tqdm\n",
    "\n",
    "config = ConfigLoader().load_config()\n",
    "tqdm.pandas()"
   ],
   "outputs": [],
   "execution_count": 1
  },
  {
   "metadata": {
    "ExecuteTime": {
     "end_time": "2025-03-14T15:53:25.847950Z",
     "start_time": "2025-03-14T15:53:25.845692Z"
    }
   },
   "cell_type": "code",
   "source": [
    "input_dim = config['models']['input_dim']\n",
    "hidden_dim_1 = config['models']['hidden_dim_1']\n",
    "hidden_dim_2 = config['models']['hidden_dim_2']\n",
    "hidden_dim_3 = config['models']['hidden_dim_3']"
   ],
   "id": "ea387a806b1a9334",
   "outputs": [],
   "execution_count": 2
  },
  {
   "metadata": {
    "ExecuteTime": {
     "end_time": "2025-03-14T15:54:07.738008Z",
     "start_time": "2025-03-14T15:53:25.922273Z"
    }
   },
   "cell_type": "code",
   "source": [
    "df = pd.read_csv('./data/processed/reports_labeled.csv')\n",
    "\n",
    "df.reset_index(drop=True, inplace=True)\n",
    "df['sentences'] = df['mda'].progress_apply(lambda x: sent_tokenize(x))\n",
    "\n",
    "train_df = df[df['year'] <= 2019].copy().reset_index(drop=True)\n",
    "test_df = df[df['year'] > 2019].copy().reset_index(drop=True)"
   ],
   "id": "a75b4db49f3b8c85",
   "outputs": [
    {
     "name": "stderr",
     "output_type": "stream",
     "text": [
      "100%|██████████| 13017/13017 [00:36<00:00, 352.69it/s]\n"
     ]
    }
   ],
   "execution_count": 3
  },
  {
   "metadata": {
    "ExecuteTime": {
     "end_time": "2025-03-14T15:54:07.755526Z",
     "start_time": "2025-03-14T15:54:07.751060Z"
    }
   },
   "cell_type": "code",
   "source": [
    "print(f\"\"\"\n",
    "## Length of dataset:\n",
    "Length of training set: {len(train_df)}\n",
    "Length of test set: {len(test_df)}\n",
    "\n",
    "## Distribution of label:\n",
    "Number of merge in training set: {len(train_df[train_df['label'] == 1]['label'])}\n",
    "Number of not-merge in training set: {len(train_df[train_df['label'] == 0]['label'])}\n",
    "\n",
    "Number of merge in test set: {len(test_df[test_df['label'] == 1]['label'])}\n",
    "Number of not-merge in test set: {len(test_df[test_df['label'] == 0]['label'])}\n",
    "\"\"\")"
   ],
   "id": "6590ae799be79df0",
   "outputs": [
    {
     "name": "stdout",
     "output_type": "stream",
     "text": [
      "\n",
      "## Length of dataset:\n",
      "Length of training set: 11019\n",
      "Length of test set: 1998\n",
      "\n",
      "## Distribution of label:\n",
      "Number of merge in training set: 1874\n",
      "Number of not-merge in training set: 9145\n",
      "\n",
      "Number of merge in test set: 302\n",
      "Number of not-merge in test set: 1696\n",
      "\n"
     ]
    }
   ],
   "execution_count": 4
  },
  {
   "metadata": {
    "ExecuteTime": {
     "end_time": "2025-03-14T15:55:36.236636Z",
     "start_time": "2025-03-14T15:54:07.789902Z"
    }
   },
   "cell_type": "code",
   "source": [
    "train_corpus = [sentence for sentences in train_df['sentences'] for sentence in sentences]\n",
    "\n",
    "vectorizer = TfidfVectorizer(max_features=input_dim, stop_words='english')\n",
    "vectorizer.fit(train_corpus)\n",
    "\n",
    "def get_tfidf_embeddings(sentence_list):\n",
    "    if not type(sentence_list) == list:\n",
    "        sentence_list = [sentence_list]\n",
    "    embeddings = vectorizer.transform(sentence_list)\n",
    "    return embeddings\n",
    "\n",
    "print(\"Train Sentence: \")\n",
    "train_df['tfidf_sentence'] = train_df['sentences'].progress_apply(get_tfidf_embeddings)\n",
    "print(\"Test Sentence: \")\n",
    "test_df['tfidf_sentence'] = test_df['sentences'].progress_apply(get_tfidf_embeddings)"
   ],
   "id": "ac63a0b3fb882b1e",
   "outputs": [
    {
     "name": "stdout",
     "output_type": "stream",
     "text": [
      "Train Sentence: \n"
     ]
    },
    {
     "name": "stderr",
     "output_type": "stream",
     "text": [
      "100%|██████████| 11019/11019 [00:42<00:00, 259.11it/s]\n"
     ]
    },
    {
     "name": "stdout",
     "output_type": "stream",
     "text": [
      "Test Sentence: \n"
     ]
    },
    {
     "name": "stderr",
     "output_type": "stream",
     "text": [
      "100%|██████████| 1998/1998 [00:07<00:00, 274.10it/s]\n"
     ]
    }
   ],
   "execution_count": 5
  },
  {
   "metadata": {
    "ExecuteTime": {
     "end_time": "2025-03-14T15:55:36.261028Z",
     "start_time": "2025-03-14T15:55:36.256162Z"
    }
   },
   "cell_type": "code",
   "source": [
    "train_dataset = GraphDataLoader(train_df, 5)\n",
    "test_dataset = GraphDataLoader(test_df, 5)"
   ],
   "id": "8b1c23d623f35072",
   "outputs": [],
   "execution_count": 6
  },
  {
   "metadata": {
    "ExecuteTime": {
     "end_time": "2025-03-14T15:55:36.293487Z",
     "start_time": "2025-03-14T15:55:36.290466Z"
    }
   },
   "cell_type": "code",
   "source": [
    "train_loader = DataLoader(train_dataset, batch_size=16, shuffle=True)\n",
    "test_loader = DataLoader(test_dataset, batch_size=16, shuffle=False)"
   ],
   "id": "8190fe0c9645242e",
   "outputs": [],
   "execution_count": 7
  },
  {
   "metadata": {
    "ExecuteTime": {
     "end_time": "2025-03-14T15:55:36.342969Z",
     "start_time": "2025-03-14T15:55:36.338147Z"
    }
   },
   "cell_type": "code",
   "source": [
    "def evaluate(y_true, y_pred):\n",
    "    accuracy = round(accuracy_score(y_true, y_pred), 4)\n",
    "    precision = round(precision_score(y_true, y_pred, zero_division=0), 4)\n",
    "    recall = round(recall_score(y_true, y_pred, zero_division=0), 4)\n",
    "    f1 = round(f1_score(y_true, y_pred, zero_division=0), 4)\n",
    "\n",
    "    tn, fp, fn, tp = confusion_matrix(y_true, y_pred).ravel()\n",
    "\n",
    "    return accuracy, precision, recall, f1, tp, tn, fp, fn\n",
    "\n",
    "def train():\n",
    "    model.train()\n",
    "    total_loss = 0\n",
    "    # train_loader üzerinden geçerken progress bar ekleniyor.\n",
    "    for data, label in tqdm(train_loader, desc=\"Training\", leave=False):\n",
    "        label = label.squeeze_(1).to(device)\n",
    "        data = data.to(device)\n",
    "        optimizer.zero_grad()\n",
    "        out = model(data)  # Modelin çıktısı (logits)\n",
    "        loss = criterion(out, label)\n",
    "        loss.backward()\n",
    "        optimizer.step()\n",
    "        total_loss += loss.item()\n",
    "    return total_loss / len(train_loader)\n",
    "\n",
    "# Test fonksiyonu\n",
    "def test(loader):\n",
    "    model.eval()\n",
    "    correct = 0\n",
    "\n",
    "    y_pred = []\n",
    "    y_true = []\n",
    "\n",
    "    for data, label in tqdm(loader, desc=\"Testing\", leave=False):\n",
    "        label = label.squeeze_(1).to(device)\n",
    "        data = data.to(device)\n",
    "        with torch.no_grad():\n",
    "            out = model(data)\n",
    "            pred = out.argmax(dim=1)  # En yüksek logit değerine sahip sınıf\n",
    "\n",
    "            y_true.extend(label.cpu().numpy())\n",
    "            y_pred.extend(pred.cpu().numpy())\n",
    "    return y_true, y_pred"
   ],
   "id": "aaa9e2ed30e83480",
   "outputs": [],
   "execution_count": 8
  },
  {
   "metadata": {
    "jupyter": {
     "is_executing": true
    },
    "ExecuteTime": {
     "start_time": "2025-03-14T15:55:36.387376Z"
    }
   },
   "cell_type": "code",
   "source": [
    "result_dict = {\n",
    "    \"Model\": [],\n",
    "    \"Accuracy\": [],\n",
    "    \"Precision\": [],\n",
    "    \"Recall\": [],\n",
    "    \"F1\": [],\n",
    "    \"TP\": [],\n",
    "    \"TN\": [],\n",
    "    \"FP\": [],\n",
    "    \"FN\": []\n",
    "}\n",
    "\n",
    "for model_name in ['GraphClassifier', 'GraphLSTMClassifier', 'GraphTransClassifier']:\n",
    "    print(\"Training Model: \", model_name)\n",
    "    # Model, optimizer ve loss function tanımlanıyor\n",
    "    device = torch.device(\"cuda\" if torch.cuda.is_available() else \"cpu\")\n",
    "    if model_name == 'GraphClassifier':\n",
    "        model = GraphClassifier(input_dim=input_dim, hidden_dim_1=hidden_dim_1, hidden_dim_2=hidden_dim_2, output_dim=2).to(device)\n",
    "    elif model_name == 'GraphLSTMClassifier':\n",
    "        model = GraphLSTMClassifier(input_dim=input_dim, hidden_dim_1=hidden_dim_1, hidden_dim_2=hidden_dim_2, lstm_hidden_dim=hidden_dim_3, output_dim=2).to(device)\n",
    "    elif model_name == 'GraphTransClassifier':\n",
    "        model = GraphTransClassifier(input_dim=input_dim, hidden_dim_1=hidden_dim_1, hidden_dim_2=hidden_dim_2, nhead=4, num_encoder_layers=2, output_dim=2).to(device)\n",
    "\n",
    "    optimizer = optim.Adam(model.parameters(), lr=0.0002)\n",
    "    criterion = nn.CrossEntropyLoss()\n",
    "\n",
    "     #Eğitim döngüsü\n",
    "    num_epochs = 10\n",
    "    for epoch in range(1, num_epochs + 1):\n",
    "        loss = train()\n",
    "        y_true_test, y_pred_test  = test(test_loader)\n",
    "        accuracy, precision, recall, f1, tp, tn, fp, fn = evaluate(y_true_test, y_pred_test)\n",
    "\n",
    "        if epoch % 3 == 0 or epoch == num_epochs or epoch == 1:\n",
    "            print(f\"Epoch: {epoch:02d}, Loss: {loss:.4f} | Test | Accuracy: {accuracy}, Precision: {precision}, Recall: {recall}, F1: {f1} | TP: {tp}, TN: {tn}, FP: {fp}, FN: {fn}\")\n",
    "\n",
    "    torch.save(model.state_dict(), f'./outputs/{model_name}.pth')\n",
    "    result_dict['Model'].append(model_name)\n",
    "    result_dict['Accuracy'].append(accuracy)\n",
    "    result_dict['Precision'].append(precision)\n",
    "    result_dict['Recall'].append(recall)\n",
    "    result_dict['F1'].append(f1)\n",
    "    result_dict['TP'].append(tp)\n",
    "    result_dict['TN'].append(tn)\n",
    "    result_dict['FP'].append(fp)\n",
    "    result_dict['FN'].append(fn)\n",
    "\n",
    "result_df = pd.DataFrame(data=result_dict)\n",
    "result_df.head()\n",
    "\n",
    "result_df.to_csv('./outputs/MergerGraphNet.csv', index=False)\n"
   ],
   "id": "6c14b2ae313f1ee",
   "outputs": [
    {
     "name": "stdout",
     "output_type": "stream",
     "text": [
      "Training Model:  GraphClassifier\n"
     ]
    },
    {
     "name": "stderr",
     "output_type": "stream",
     "text": [
      "                                                           \r"
     ]
    },
    {
     "name": "stdout",
     "output_type": "stream",
     "text": [
      "Epoch: 01, Loss: 0.4540 | Test | Accuracy: 0.8493, Precision: 1.0, Recall: 0.0033, F1: 0.0066 | TP: 1, TN: 1696, FP: 0, FN: 301\n"
     ]
    },
    {
     "name": "stderr",
     "output_type": "stream",
     "text": [
      "Training:  64%|██████▍   | 443/689 [05:44<05:24,  1.32s/it]"
     ]
    }
   ],
   "execution_count": null
  },
  {
   "metadata": {},
   "cell_type": "code",
   "source": [
    "# Eğitim döngüsü\n",
    "num_epochs = 10\n",
    "for epoch in range(1, num_epochs + 1):\n",
    "    loss = train()\n",
    "    y_true_test, y_pred_test  = test(test_loader)\n",
    "    accuracy, precision, recall, f1, tp, tn, fp, fn = evaluate(y_true_test, y_pred_test)\n",
    "\n",
    "    # if epoch % 5 == 0 or epoch == num_epochs or epoch == 1:\n",
    "    print(f\"Epoch: {epoch:02d}, Loss: {loss:.4f} | Test | Accuracy: {accuracy}, Precision: {precision}, Recall: {recall}, F1: {f1} | TP: {tp}, TN: {tn}, FP: {fp}, FN: {fn}\")"
   ],
   "id": "5fd1b2f1414bac08",
   "outputs": [],
   "execution_count": null
  },
  {
   "metadata": {},
   "cell_type": "code",
   "source": [
    "result_dict = {\n",
    "    \"Accuracy\": [accuracy],\n",
    "    \"Precision\": [precision],\n",
    "    \"Recall\": [recall],\n",
    "    \"F1\": [f1],\n",
    "    \"TP\": [tp],\n",
    "    \"TN\": [tn],\n",
    "    \"FP\": [fp],\n",
    "    \"FN\": [fn]\n",
    "}\n",
    "\n",
    "result_df = pd.DataFrame(data=result_dict)\n"
   ],
   "id": "32936acb6c08ec4d",
   "outputs": [],
   "execution_count": null
  },
  {
   "metadata": {},
   "cell_type": "code",
   "source": "result_df",
   "id": "fb3e8fe6612b574f",
   "outputs": [],
   "execution_count": null
  },
  {
   "metadata": {},
   "cell_type": "code",
   "source": [
    "result_df.to_csv('./outputs/MergerGraphNet.csv', index=False)\n",
    "torch.save(model.state_dict(), f'./outputs/MergerGraphNet.pth')"
   ],
   "id": "5c7417e59ef6ffb3",
   "outputs": [],
   "execution_count": null
  },
  {
   "metadata": {},
   "cell_type": "code",
   "source": "",
   "id": "ebbb8a2a6aaccb10",
   "outputs": [],
   "execution_count": null
  }
 ],
 "metadata": {
  "kernelspec": {
   "display_name": "Python 3",
   "language": "python",
   "name": "python3"
  },
  "language_info": {
   "codemirror_mode": {
    "name": "ipython",
    "version": 2
   },
   "file_extension": ".py",
   "mimetype": "text/x-python",
   "name": "python",
   "nbconvert_exporter": "python",
   "pygments_lexer": "ipython2",
   "version": "2.7.6"
  }
 },
 "nbformat": 4,
 "nbformat_minor": 5
}
