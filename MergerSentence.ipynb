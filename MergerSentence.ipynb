{
 "cells": [
  {
   "cell_type": "code",
   "id": "initial_id",
   "metadata": {
    "collapsed": true
   },
   "source": [
    "from nltk.tokenize import sent_tokenize\n",
    "\n",
    "from lib.util.embedding_data_loader import EmbeddingDataLoader\n",
    "from lib.model.sentence_classifer import SentenceEmbeddingClassifier\n",
    "from lib.config.config_loader import ConfigLoader\n",
    "\n",
    "import torch\n",
    "import torch.nn as nn\n",
    "import torch.optim as optim\n",
    "from torch.utils.data import DataLoader\n",
    "\n",
    "import pandas as pd\n",
    "import numpy as np\n",
    "from sklearn.feature_extraction.text import TfidfVectorizer\n",
    "from sklearn.metrics import accuracy_score, precision_score, recall_score, f1_score, confusion_matrix\n",
    "from tqdm import tqdm\n",
    "# device = torch.device(\"cuda\" if torch.cuda.is_available() else \"cpu\")\n",
    "\n",
    "device = torch.device(\"cpu\")\n",
    "\n",
    "config = ConfigLoader().load_config()\n",
    "tqdm.pandas()"
   ],
   "outputs": [],
   "execution_count": null
  },
  {
   "metadata": {},
   "cell_type": "code",
   "source": [
    "input_dim = config['models']['input_dim']\n",
    "hidden_dim_1 = config['models']['hidden_dim_1']\n",
    "hidden_dim_2 = config['models']['hidden_dim_2']\n",
    "hidden_dim_3 = config['models']['hidden_dim_3']"
   ],
   "id": "6f0918e06035381b",
   "outputs": [],
   "execution_count": null
  },
  {
   "metadata": {},
   "cell_type": "code",
   "source": [
    "df = pd.read_csv('./data/processed/reports_labeled.csv')\n",
    "\n",
    "# df = df.loc[:100].copy()\n",
    "\n",
    "df.reset_index(drop=True, inplace=True)\n",
    "df['sentences'] = df['mda'].progress_apply(lambda x: sent_tokenize(x))\n",
    "\n",
    "# train_df = df.loc[:80].copy().reset_index(drop=True)\n",
    "# test_df = df.loc[80:].copy().reset_index(drop=True)\n",
    "\n",
    "train_df = df[df['year'] <= 2019].copy().reset_index(drop=True)\n",
    "test_df = df[df['year'] > 2019].copy().reset_index(drop=True)\n",
    "\n",
    "merge_class_weight = len(train_df) / len(train_df[train_df['label'] == 1]['label'])\n",
    "not_merge_class_weight = len(train_df) / len(train_df[train_df['label'] == 0]['label'])\n",
    "\n",
    "class_weights = torch.tensor([merge_class_weight, not_merge_class_weight], dtype=torch.float).to(device)"
   ],
   "id": "13b16fc40c633fa0",
   "outputs": [],
   "execution_count": null
  },
  {
   "metadata": {},
   "cell_type": "code",
   "source": [
    "print(f\"\"\"\n",
    "## Length of dataset:\n",
    "Length of training set: {len(train_df)}\n",
    "Length of test set: {len(test_df)}\n",
    "\n",
    "## Distribution of label:\n",
    "Number of merge in training set: {len(train_df[train_df['label'] == 1]['label'])}\n",
    "Number of not-merge in training set: {len(train_df[train_df['label'] == 0]['label'])}\n",
    "Class weights: {class_weights}\n",
    "\n",
    "Number of merge in test set: {len(test_df[test_df['label'] == 1]['label'])}\n",
    "Number of not-merge in test set: {len(test_df[test_df['label'] == 0]['label'])}\n",
    "\"\"\")"
   ],
   "id": "82cdc067dd0190fb",
   "outputs": [],
   "execution_count": null
  },
  {
   "metadata": {},
   "cell_type": "code",
   "source": [
    "train_corpus = [sentence for sentences in train_df['sentences'] for sentence in sentences]\n",
    "\n",
    "vectorizer = TfidfVectorizer(max_features=input_dim, stop_words='english')\n",
    "vectorizer.fit(train_corpus)\n",
    "\n",
    "def get_tfidf_embeddings(sentence_list):\n",
    "    if not type(sentence_list) == list:\n",
    "        sentence_list = [sentence_list]\n",
    "    embeddings = vectorizer.transform(sentence_list)\n",
    "    return embeddings\n",
    "\n",
    "print(\"Train Sentence: \")\n",
    "train_df['tfidf_sentence'] = train_df['sentences'].progress_apply(get_tfidf_embeddings)\n",
    "print(\"Test Sentence: \")\n",
    "test_df['tfidf_sentence'] = test_df['sentences'].progress_apply(get_tfidf_embeddings)"
   ],
   "id": "ab6f6e0d380bb540",
   "outputs": [],
   "execution_count": null
  },
  {
   "metadata": {},
   "cell_type": "code",
   "source": [
    "train_dataset = EmbeddingDataLoader(train_df)\n",
    "test_dataset = EmbeddingDataLoader(test_df)"
   ],
   "id": "f66370cb6dbfa4f8",
   "outputs": [],
   "execution_count": null
  },
  {
   "metadata": {},
   "cell_type": "code",
   "source": [
    "from torch.nn.utils.rnn import pad_sequence\n",
    "import torch\n",
    "\n",
    "def custom_collate(batch):\n",
    "    # Batch: [(data, label), (data, label), ...]\n",
    "    data_list, label_list = zip(*batch)\n",
    "    # data_list: her biri (T_i, embedding_dim) boyutunda tensor.\n",
    "    # lengths: orijinal uzunluklar.\n",
    "    lengths = torch.tensor([data.size(0) for data in data_list])\n",
    "\n",
    "    # pad_sequence, batch_first=True ile (batch_size, T_max, embedding_dim) döndürür.\n",
    "    padded_data = pad_sequence(data_list, batch_first=True)\n",
    "    labels = torch.stack(label_list, dim=0)\n",
    "\n",
    "    return padded_data, lengths, labels\n"
   ],
   "id": "59531686f793d80f",
   "outputs": [],
   "execution_count": null
  },
  {
   "metadata": {},
   "cell_type": "code",
   "source": [
    "train_loader = DataLoader(train_dataset, batch_size=16, shuffle=True, collate_fn=custom_collate)\n",
    "test_loader = DataLoader(test_dataset, batch_size=16, shuffle=False, collate_fn=custom_collate)"
   ],
   "id": "be89ce0abae14140",
   "outputs": [],
   "execution_count": null
  },
  {
   "metadata": {},
   "cell_type": "code",
   "source": [
    "def evaluate(y_true, y_pred):\n",
    "    accuracy = round(accuracy_score(y_true, y_pred), 4)\n",
    "    precision = round(precision_score(y_true, y_pred, zero_division=0), 4)\n",
    "    recall = round(recall_score(y_true, y_pred, zero_division=0), 4)\n",
    "    f1 = round(f1_score(y_true, y_pred, zero_division=0), 4)\n",
    "\n",
    "    tn, fp, fn, tp = confusion_matrix(y_true, y_pred).ravel()\n",
    "\n",
    "    return accuracy, precision, recall, f1, tp, tn, fp, fn\n",
    "\n",
    "def train():\n",
    "    model.train()\n",
    "    total_loss = 0\n",
    "    # train_loader üzerinden geçerken progress bar ekleniyor.\n",
    "    for data, lengths, label in tqdm(train_loader, desc=\"Training\", leave=False):\n",
    "        label = label.squeeze_(1).to(device)\n",
    "        data = data.to(device)\n",
    "        optimizer.zero_grad()\n",
    "        out = model(data, lengths)  # Modelin çıktısı (logits)\n",
    "        loss = criterion(out, label)\n",
    "        loss.backward()\n",
    "        optimizer.step()\n",
    "        total_loss += loss.item()\n",
    "    return total_loss / len(train_loader)\n",
    "\n",
    "# Test fonksiyonu\n",
    "def test(loader):\n",
    "    model.eval()\n",
    "    correct = 0\n",
    "\n",
    "    y_pred = []\n",
    "    y_true = []\n",
    "\n",
    "    for data, lengths, label in tqdm(loader, desc=\"Testing\", leave=False):\n",
    "        label = label.squeeze_(1).to(device)\n",
    "        data = data.to(device)\n",
    "        with torch.no_grad():\n",
    "            out = model(data, lengths)\n",
    "            pred = out.argmax(dim=1)  # En yüksek logit değerine sahip sınıf\n",
    "\n",
    "            y_true.extend(label.cpu().numpy())\n",
    "            y_pred.extend(pred.cpu().numpy())\n",
    "    return y_true, y_pred"
   ],
   "id": "4965870690caf225",
   "outputs": [],
   "execution_count": null
  },
  {
   "metadata": {},
   "cell_type": "code",
   "source": [
    "result_dict = {\n",
    "    \"Model\": [],\n",
    "    \"Accuracy\": [],\n",
    "    \"Precision\": [],\n",
    "    \"Recall\": [],\n",
    "    \"F1\": [],\n",
    "    \"TP\": [],\n",
    "    \"TN\": [],\n",
    "    \"FP\": [],\n",
    "    \"FN\": []\n",
    "}\n",
    "\n",
    "#for model_name in ['GraphClassifier', 'GraphResidualClassifier', 'GraphLSTMClassifier']: #, 'GraphTransClassifier'\n",
    "\n",
    "model = SentenceEmbeddingClassifier(input_dim=input_dim, fc1_dim=hidden_dim_1, fc2_dim=hidden_dim_2, lstm_hidden_dim=hidden_dim_3, output_dim=2).to(device)\n",
    "\n",
    "optimizer = optim.Adam(model.parameters(), lr=0.0002)\n",
    "criterion = nn.CrossEntropyLoss(weight=class_weights)"
   ],
   "id": "438125382aa9c75b",
   "outputs": [],
   "execution_count": null
  },
  {
   "metadata": {},
   "cell_type": "code",
   "source": [
    " #Eğitim döngüsü\n",
    "num_epochs = 15\n",
    "for epoch in range(1, num_epochs + 1):\n",
    "    loss = train()\n",
    "    y_true_test, y_pred_test  = test(test_loader)\n",
    "    accuracy, precision, recall, f1, tp, tn, fp, fn = evaluate(y_true_test, y_pred_test)\n",
    "\n",
    "    print(f\"Epoch: {epoch:02d}, Loss: {loss:.4f} | Test | Accuracy: {accuracy}, Precision: {precision}, Recall: {recall}, F1: {f1} | TP: {tp}, TN: {tn}, FP: {fp}, FN: {fn}\")"
   ],
   "id": "9840c13bfd766ae2",
   "outputs": [],
   "execution_count": null
  },
  {
   "metadata": {},
   "cell_type": "code",
   "source": [
    "result_dict['Accuracy'].append(accuracy)\n",
    "result_dict['Precision'].append(precision)\n",
    "result_dict['Recall'].append(recall)\n",
    "result_dict['F1'].append(f1)\n",
    "result_dict['TP'].append(tp)\n",
    "result_dict['TN'].append(tn)\n",
    "result_dict['FP'].append(fp)\n",
    "result_dict['FN'].append(fn)\n",
    "\n",
    "result_df = pd.DataFrame(data=result_dict)"
   ],
   "id": "d2f7f406aa6148a4",
   "outputs": [],
   "execution_count": null
  },
  {
   "metadata": {},
   "cell_type": "code",
   "source": "",
   "id": "51d7c4ce88767221",
   "outputs": [],
   "execution_count": null
  }
 ],
 "metadata": {
  "kernelspec": {
   "display_name": "Python 3",
   "language": "python",
   "name": "python3"
  },
  "language_info": {
   "codemirror_mode": {
    "name": "ipython",
    "version": 2
   },
   "file_extension": ".py",
   "mimetype": "text/x-python",
   "name": "python",
   "nbconvert_exporter": "python",
   "pygments_lexer": "ipython2",
   "version": "2.7.6"
  }
 },
 "nbformat": 4,
 "nbformat_minor": 5
}
