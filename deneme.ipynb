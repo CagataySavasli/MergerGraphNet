{
 "cells": [
  {
   "metadata": {
    "ExecuteTime": {
     "end_time": "2025-03-10T19:50:08.925803Z",
     "start_time": "2025-03-10T19:50:04.843153Z"
    }
   },
   "cell_type": "code",
   "source": [
    "from nltk.tokenize import sent_tokenize\n",
    "\n",
    "from lib.util.custom_data_loader import CustomDataset\n",
    "from lib.model.graph_classifer import GraphClassifier\n",
    "from lib.model.sentence_classifer import SentenceClassifier\n",
    "from lib.config.config_loader import ConfigLoader\n",
    "\n",
    "\n",
    "import torch\n",
    "import torch.nn as nn\n",
    "import torch.optim as optim\n",
    "from torch_geometric.loader import DataLoader\n",
    "from torch.nn.utils.rnn import pad_sequence\n",
    "\n",
    "import pandas as pd\n",
    "from sklearn.feature_extraction.text import TfidfVectorizer\n",
    "from sklearn.metrics import accuracy_score, precision_score, recall_score, f1_score, confusion_matrix\n",
    "from tqdm import tqdm\n",
    "\n",
    "config = ConfigLoader().load_config()\n",
    "tqdm.pandas()"
   ],
   "id": "39a1fe8301f09d3e",
   "outputs": [],
   "execution_count": 1
  },
  {
   "metadata": {
    "ExecuteTime": {
     "end_time": "2025-03-10T19:50:08.934301Z",
     "start_time": "2025-03-10T19:50:08.930731Z"
    }
   },
   "cell_type": "code",
   "source": [
    "input_dim = config['models']['input_dim']\n",
    "hidden_dim_1 = config['models']['hidden_dim_1']\n",
    "hidden_dim_2 = config['models']['hidden_dim_2']\n",
    "hidden_dim_3 = config['models']['hidden_dim_3']"
   ],
   "id": "b45e2356269163fb",
   "outputs": [],
   "execution_count": 2
  },
  {
   "metadata": {
    "ExecuteTime": {
     "end_time": "2025-03-10T19:51:29.476227Z",
     "start_time": "2025-03-10T19:50:09.079287Z"
    }
   },
   "cell_type": "code",
   "source": [
    "df = pd.read_csv('./data/processed/reports_labeled.csv')\n",
    "#df = df[df['form'] == '10-K'].copy()\n",
    "df.reset_index(drop=True, inplace=True)\n",
    "df['sentences'] = df['mda'].progress_apply(lambda x: sent_tokenize(x))\n",
    "\n",
    "train_df = df[df['year'] <= 2019].copy()\n",
    "test_df = df[df['year'] >= 2019].copy()"
   ],
   "id": "8f07356f82728634",
   "outputs": [
    {
     "name": "stderr",
     "output_type": "stream",
     "text": [
      "100%|██████████| 13017/13017 [01:10<00:00, 184.79it/s]\n"
     ]
    }
   ],
   "execution_count": 3
  },
  {
   "metadata": {
    "jupyter": {
     "is_executing": true
    },
    "ExecuteTime": {
     "start_time": "2025-03-10T19:51:29.507608Z"
    }
   },
   "cell_type": "code",
   "source": [
    "train_corpus = [sentence for sentence in train_df['mda']]\n",
    "\n",
    "vectorizer = TfidfVectorizer(max_features=input_dim, stop_words='english')\n",
    "vectorizer.fit(train_corpus)\n",
    "\n",
    "def get_tfidf_embeddings(sentence_list):\n",
    "    if not type(sentence_list) == list:\n",
    "        sentence_list = [sentence_list]\n",
    "    embeddings = vectorizer.transform(sentence_list)\n",
    "    return embeddings\n",
    "\n",
    "print(\"Train Sentence: \")\n",
    "train_df['tfidf_sentence'] = train_df['sentences'].progress_apply(get_tfidf_embeddings)\n",
    "print(\"Test Sentence: \")\n",
    "test_df['tfidf_sentence'] = test_df['sentences'].progress_apply(get_tfidf_embeddings)\n",
    "\n",
    "print(\"Train MDA: \")\n",
    "train_df['tfidf_mda'] = train_df['mda'].progress_apply(get_tfidf_embeddings)\n",
    "print(\"Test MDA: \")\n",
    "test_df['tfidf_mda'] = test_df['mda'].progress_apply(get_tfidf_embeddings)\n"
   ],
   "id": "96842ab3978acdeb",
   "outputs": [
    {
     "name": "stdout",
     "output_type": "stream",
     "text": [
      "Train Sentence: \n"
     ]
    },
    {
     "name": "stderr",
     "output_type": "stream",
     "text": [
      " 59%|█████▉    | 6499/11019 [00:49<00:32, 140.96it/s]"
     ]
    }
   ],
   "execution_count": null
  },
  {
   "metadata": {
    "ExecuteTime": {
     "end_time": "2025-03-10T19:47:00.871010Z",
     "start_time": "2025-03-10T19:47:00.867494Z"
    }
   },
   "cell_type": "code",
   "source": [
    "print(f\"\"\"\n",
    "Length of training set: {len(train_df)}\n",
    "Length of test set: {len(test_df)}\n",
    "\"\"\")"
   ],
   "id": "ecb907db386de49a",
   "outputs": [
    {
     "name": "stdout",
     "output_type": "stream",
     "text": [
      "\n",
      "Length of training set: 11019\n",
      "Length of test set: 3326\n",
      "\n"
     ]
    }
   ],
   "execution_count": 5
  },
  {
   "metadata": {
    "ExecuteTime": {
     "end_time": "2025-03-10T19:47:00.916791Z",
     "start_time": "2025-03-10T19:47:00.896437Z"
    }
   },
   "cell_type": "code",
   "source": [
    "train_dataset = CustomDataset(train_df)\n",
    "test_dataset = CustomDataset(test_df)"
   ],
   "id": "a491e43a1b592b73",
   "outputs": [],
   "execution_count": 6
  },
  {
   "metadata": {
    "ExecuteTime": {
     "end_time": "2025-03-10T19:47:00.966599Z",
     "start_time": "2025-03-10T19:47:00.961630Z"
    }
   },
   "cell_type": "code",
   "source": [
    "def custom_collate(batch):\n",
    "    # Batch içindeki tensor'ları ve etiketleri ayırın\n",
    "    tensors = [item[0] for item in batch]\n",
    "    labels = [item[1] for item in batch]\n",
    "    # pad_sequence ile tüm tensor'ları aynı uzunlukta olacak şekilde doldurun (padding_value isteğe bağlı)\n",
    "    padded_tensors = pad_sequence(tensors, batch_first=True, padding_value=0)\n",
    "    return padded_tensors, torch.tensor(labels)"
   ],
   "id": "14e3ae4d54dd4a3e",
   "outputs": [],
   "execution_count": 7
  },
  {
   "metadata": {
    "ExecuteTime": {
     "end_time": "2025-03-10T19:47:01.019068Z",
     "start_time": "2025-03-10T19:47:01.013722Z"
    }
   },
   "cell_type": "code",
   "source": [
    "train_loader = DataLoader(train_dataset, batch_size=1, shuffle=True)\n",
    "test_loader = DataLoader(test_dataset, batch_size=16, shuffle=False)\n",
    "\n",
    "# train_loader = DataLoader(train_dataset, batch_size=16, shuffle=True, collate_fn=custom_collate)\n",
    "# test_loader = DataLoader(test_dataset, batch_size=16, shuffle=False, collate_fn=custom_collate)\n"
   ],
   "id": "abad81acd3ee40c9",
   "outputs": [],
   "execution_count": 8
  },
  {
   "metadata": {
    "ExecuteTime": {
     "end_time": "2025-03-10T19:47:01.490872Z",
     "start_time": "2025-03-10T19:47:01.066323Z"
    }
   },
   "cell_type": "code",
   "source": [
    "# Model, optimizer ve loss function tanımlanıyor\n",
    "device = torch.device(\"cuda\" if torch.cuda.is_available() else \"cpu\")\n",
    "#model = GraphClassifier(input_dim=input_dim, hidden_dim_1=hidden_dim_1, hidden_dim_2=hidden_dim_2, lstm_hidden_dim=hidden_dim_3, output_dim=2).to(device)\n",
    "model = SentenceClassifier(input_dim=input_dim, lstm_hidden_dim=hidden_dim_1, fc1_dim=hidden_dim_2, fc2_dim=hidden_dim_3, output_dim=2).to(device)\n",
    "optimizer = optim.Adam(model.parameters(), lr=0.0002)\n",
    "criterion = nn.CrossEntropyLoss()"
   ],
   "id": "bedb505abff83157",
   "outputs": [],
   "execution_count": 9
  },
  {
   "metadata": {
    "ExecuteTime": {
     "end_time": "2025-03-10T19:47:01.522377Z",
     "start_time": "2025-03-10T19:47:01.514546Z"
    }
   },
   "cell_type": "code",
   "source": [
    "def evaluate(y_true, y_pred):\n",
    "    accuracy = round(accuracy_score(y_true, y_pred), 4)\n",
    "    precision = round(precision_score(y_true, y_pred, zero_division=0), 4)\n",
    "    recall = round(recall_score(y_true, y_pred, zero_division=0), 4)\n",
    "    f1 = round(f1_score(y_true, y_pred, zero_division=0), 4)\n",
    "\n",
    "    tn, fp, fn, tp = confusion_matrix(y_true, y_pred).ravel()\n",
    "\n",
    "    return accuracy, precision, recall, f1, tp, tn, fp, fn\n",
    "\n",
    "def train():\n",
    "    model.train()\n",
    "    total_loss = 0\n",
    "    # train_loader üzerinden geçerken progress bar ekleniyor.\n",
    "    for data, label in tqdm(train_loader, desc=\"Training\", leave=False):\n",
    "        data = data.to(device)\n",
    "        optimizer.zero_grad()\n",
    "        out = model(data)  # Modelin çıktısı (logits)\n",
    "        loss = criterion(out, label)\n",
    "        loss.backward()\n",
    "        optimizer.step()\n",
    "        total_loss += loss.item()\n",
    "    return total_loss / len(train_loader)\n",
    "\n",
    "# Test fonksiyonu\n",
    "def test(loader):\n",
    "    model.eval()\n",
    "    correct = 0\n",
    "\n",
    "    y_pred = []\n",
    "    y_true = []\n",
    "\n",
    "    for data, label in tqdm(loader, desc=\"Testing\", leave=False):\n",
    "        data = data.to(device)\n",
    "        with torch.no_grad():\n",
    "            out = model(data)\n",
    "            pred = out.argmax(dim=1)  # En yüksek logit değerine sahip sınıf\n",
    "\n",
    "            y_true.extend(label.cpu().numpy())\n",
    "            y_pred.extend(pred.cpu().numpy())\n",
    "    return y_true, y_pred"
   ],
   "id": "1800ed179831ec13",
   "outputs": [],
   "execution_count": 10
  },
  {
   "metadata": {
    "ExecuteTime": {
     "end_time": "2025-03-10T19:47:02.145925Z",
     "start_time": "2025-03-10T19:47:01.558746Z"
    }
   },
   "cell_type": "code",
   "source": [
    "x = iter(train_loader)\n",
    "x, y = next(x)"
   ],
   "id": "5c4647e8e2d8c2a2",
   "outputs": [
    {
     "ename": "TypeError",
     "evalue": "stack(): argument 'tensors' (position 1) must be tuple of Tensors, not numpy.ndarray",
     "output_type": "error",
     "traceback": [
      "\u001B[31m---------------------------------------------------------------------------\u001B[39m",
      "\u001B[31mTypeError\u001B[39m                                 Traceback (most recent call last)",
      "\u001B[36mCell\u001B[39m\u001B[36m \u001B[39m\u001B[32mIn[11]\u001B[39m\u001B[32m, line 2\u001B[39m\n\u001B[32m      1\u001B[39m x = \u001B[38;5;28miter\u001B[39m(train_loader)\n\u001B[32m----> \u001B[39m\u001B[32m2\u001B[39m x, y = \u001B[38;5;28;43mnext\u001B[39;49m\u001B[43m(\u001B[49m\u001B[43mx\u001B[49m\u001B[43m)\u001B[49m\n",
      "\u001B[36mFile \u001B[39m\u001B[32m~/.cache/pypoetry/virtualenvs/mergergraphnet-5CuCFj11-py3.12/lib/python3.12/site-packages/torch/utils/data/dataloader.py:708\u001B[39m, in \u001B[36m_BaseDataLoaderIter.__next__\u001B[39m\u001B[34m(self)\u001B[39m\n\u001B[32m    705\u001B[39m \u001B[38;5;28;01mif\u001B[39;00m \u001B[38;5;28mself\u001B[39m._sampler_iter \u001B[38;5;129;01mis\u001B[39;00m \u001B[38;5;28;01mNone\u001B[39;00m:\n\u001B[32m    706\u001B[39m     \u001B[38;5;66;03m# TODO(https://github.com/pytorch/pytorch/issues/76750)\u001B[39;00m\n\u001B[32m    707\u001B[39m     \u001B[38;5;28mself\u001B[39m._reset()  \u001B[38;5;66;03m# type: ignore[call-arg]\u001B[39;00m\n\u001B[32m--> \u001B[39m\u001B[32m708\u001B[39m data = \u001B[38;5;28;43mself\u001B[39;49m\u001B[43m.\u001B[49m\u001B[43m_next_data\u001B[49m\u001B[43m(\u001B[49m\u001B[43m)\u001B[49m\n\u001B[32m    709\u001B[39m \u001B[38;5;28mself\u001B[39m._num_yielded += \u001B[32m1\u001B[39m\n\u001B[32m    710\u001B[39m \u001B[38;5;28;01mif\u001B[39;00m (\n\u001B[32m    711\u001B[39m     \u001B[38;5;28mself\u001B[39m._dataset_kind == _DatasetKind.Iterable\n\u001B[32m    712\u001B[39m     \u001B[38;5;129;01mand\u001B[39;00m \u001B[38;5;28mself\u001B[39m._IterableDataset_len_called \u001B[38;5;129;01mis\u001B[39;00m \u001B[38;5;129;01mnot\u001B[39;00m \u001B[38;5;28;01mNone\u001B[39;00m\n\u001B[32m    713\u001B[39m     \u001B[38;5;129;01mand\u001B[39;00m \u001B[38;5;28mself\u001B[39m._num_yielded > \u001B[38;5;28mself\u001B[39m._IterableDataset_len_called\n\u001B[32m    714\u001B[39m ):\n",
      "\u001B[36mFile \u001B[39m\u001B[32m~/.cache/pypoetry/virtualenvs/mergergraphnet-5CuCFj11-py3.12/lib/python3.12/site-packages/torch/utils/data/dataloader.py:764\u001B[39m, in \u001B[36m_SingleProcessDataLoaderIter._next_data\u001B[39m\u001B[34m(self)\u001B[39m\n\u001B[32m    762\u001B[39m \u001B[38;5;28;01mdef\u001B[39;00m\u001B[38;5;250m \u001B[39m\u001B[34m_next_data\u001B[39m(\u001B[38;5;28mself\u001B[39m):\n\u001B[32m    763\u001B[39m     index = \u001B[38;5;28mself\u001B[39m._next_index()  \u001B[38;5;66;03m# may raise StopIteration\u001B[39;00m\n\u001B[32m--> \u001B[39m\u001B[32m764\u001B[39m     data = \u001B[38;5;28;43mself\u001B[39;49m\u001B[43m.\u001B[49m\u001B[43m_dataset_fetcher\u001B[49m\u001B[43m.\u001B[49m\u001B[43mfetch\u001B[49m\u001B[43m(\u001B[49m\u001B[43mindex\u001B[49m\u001B[43m)\u001B[49m  \u001B[38;5;66;03m# may raise StopIteration\u001B[39;00m\n\u001B[32m    765\u001B[39m     \u001B[38;5;28;01mif\u001B[39;00m \u001B[38;5;28mself\u001B[39m._pin_memory:\n\u001B[32m    766\u001B[39m         data = _utils.pin_memory.pin_memory(data, \u001B[38;5;28mself\u001B[39m._pin_memory_device)\n",
      "\u001B[36mFile \u001B[39m\u001B[32m~/.cache/pypoetry/virtualenvs/mergergraphnet-5CuCFj11-py3.12/lib/python3.12/site-packages/torch/utils/data/_utils/fetch.py:52\u001B[39m, in \u001B[36m_MapDatasetFetcher.fetch\u001B[39m\u001B[34m(self, possibly_batched_index)\u001B[39m\n\u001B[32m     50\u001B[39m         data = \u001B[38;5;28mself\u001B[39m.dataset.__getitems__(possibly_batched_index)\n\u001B[32m     51\u001B[39m     \u001B[38;5;28;01melse\u001B[39;00m:\n\u001B[32m---> \u001B[39m\u001B[32m52\u001B[39m         data = [\u001B[38;5;28;43mself\u001B[39;49m\u001B[43m.\u001B[49m\u001B[43mdataset\u001B[49m\u001B[43m[\u001B[49m\u001B[43midx\u001B[49m\u001B[43m]\u001B[49m \u001B[38;5;28;01mfor\u001B[39;00m idx \u001B[38;5;129;01min\u001B[39;00m possibly_batched_index]\n\u001B[32m     53\u001B[39m \u001B[38;5;28;01melse\u001B[39;00m:\n\u001B[32m     54\u001B[39m     data = \u001B[38;5;28mself\u001B[39m.dataset[possibly_batched_index]\n",
      "\u001B[36mFile \u001B[39m\u001B[32m~/Desktop/CS/Projects/MergerGraphNet/lib/util/custom_data_loader.py:87\u001B[39m, in \u001B[36mCustomDataset.__getitem__\u001B[39m\u001B[34m(self, idx)\u001B[39m\n\u001B[32m     85\u001B[39m     \u001B[38;5;28;01mreturn\u001B[39;00m \u001B[38;5;28mself\u001B[39m.get_graph(row)\n\u001B[32m     86\u001B[39m \u001B[38;5;28;01melif\u001B[39;00m \u001B[38;5;28mself\u001B[39m.strategy == \u001B[33m'\u001B[39m\u001B[33msentences\u001B[39m\u001B[33m'\u001B[39m:\n\u001B[32m---> \u001B[39m\u001B[32m87\u001B[39m     \u001B[38;5;28;01mreturn\u001B[39;00m \u001B[38;5;28;43mself\u001B[39;49m\u001B[43m.\u001B[49m\u001B[43mget_sentences\u001B[49m\u001B[43m(\u001B[49m\u001B[43mrow\u001B[49m\u001B[43m)\u001B[49m\n\u001B[32m     88\u001B[39m \u001B[38;5;28;01melse\u001B[39;00m:\n\u001B[32m     89\u001B[39m     \u001B[38;5;28;01mreturn\u001B[39;00m \u001B[38;5;28mself\u001B[39m.get_report(row)\n",
      "\u001B[36mFile \u001B[39m\u001B[32m~/Desktop/CS/Projects/MergerGraphNet/lib/util/custom_data_loader.py:62\u001B[39m, in \u001B[36mCustomDataset.get_sentences\u001B[39m\u001B[34m(self, row)\u001B[39m\n\u001B[32m     59\u001B[39m num_sentences = sentence_vectors.shape[\u001B[32m0\u001B[39m]\n\u001B[32m     60\u001B[39m label = row[\u001B[33m'\u001B[39m\u001B[33mlabel\u001B[39m\u001B[33m'\u001B[39m]\n\u001B[32m---> \u001B[39m\u001B[32m62\u001B[39m data = \u001B[43mtorch\u001B[49m\u001B[43m.\u001B[49m\u001B[43mstack\u001B[49m\u001B[43m(\u001B[49m\u001B[43msentence_vectors\u001B[49m\u001B[43m,\u001B[49m\u001B[43m \u001B[49m\u001B[43mdim\u001B[49m\u001B[43m=\u001B[49m\u001B[32;43m0\u001B[39;49m\u001B[43m)\u001B[49m\n\u001B[32m     64\u001B[39m \u001B[38;5;28;01mreturn\u001B[39;00m (data, label)\n",
      "\u001B[31mTypeError\u001B[39m: stack(): argument 'tensors' (position 1) must be tuple of Tensors, not numpy.ndarray"
     ]
    }
   ],
   "execution_count": 11
  },
  {
   "metadata": {},
   "cell_type": "code",
   "source": [
    "# Eğitim döngüsü\n",
    "num_epochs = 10\n",
    "for epoch in range(1, num_epochs + 1):\n",
    "    loss = train()\n",
    "    y_true_test, y_pred_test  = test(test_loader)\n",
    "    accuracy, precision, recall, f1, tp, tn, fp, fn = evaluate(y_true_test, y_pred_test)\n",
    "\n",
    "    # if epoch % 5 == 0 or epoch == num_epochs or epoch == 1:\n",
    "    print(f\"Epoch: {epoch:02d}, Loss: {loss:.4f} | Test | Accuracy: {accuracy}, Precision: {precision}, Recall: {recall}, F1: {f1} | TP: {tp}, TN: {tn}, FP: {fp}, FN: {fn}\")"
   ],
   "id": "af91c2367afdea9a",
   "outputs": [],
   "execution_count": null
  },
  {
   "metadata": {},
   "cell_type": "code",
   "source": [
    "result_dict = {\n",
    "    \"Accuracy\": [accuracy],\n",
    "    \"Precision\": [precision],\n",
    "    \"Recall\": [recall],\n",
    "    \"F1\": [f1],\n",
    "    \"TP\": [tp],\n",
    "    \"TN\": [tn],\n",
    "    \"FP\": [fp],\n",
    "    \"FN\": [fn]\n",
    "}\n",
    "\n",
    "result_df = pd.DataFrame(data=result_dict)\n",
    "result_df.to_csv('./output/SentenceClassifier.csv', index=False)"
   ],
   "id": "ecf89a556c2cac36",
   "outputs": [],
   "execution_count": null
  },
  {
   "metadata": {},
   "cell_type": "code",
   "source": "torch.save(model.state_dict(), f'./output/SentenceClassifier.pth')",
   "id": "3d8b0f231b4699b3",
   "outputs": [],
   "execution_count": null
  },
  {
   "metadata": {},
   "cell_type": "code",
   "source": "",
   "id": "1ecf48030dad6a57",
   "outputs": [],
   "execution_count": null
  }
 ],
 "metadata": {
  "kernelspec": {
   "display_name": "Python 3",
   "language": "python",
   "name": "python3"
  },
  "language_info": {
   "codemirror_mode": {
    "name": "ipython",
    "version": 2
   },
   "file_extension": ".py",
   "mimetype": "text/x-python",
   "name": "python",
   "nbconvert_exporter": "python",
   "pygments_lexer": "ipython2",
   "version": "2.7.6"
  }
 },
 "nbformat": 4,
 "nbformat_minor": 5
}
