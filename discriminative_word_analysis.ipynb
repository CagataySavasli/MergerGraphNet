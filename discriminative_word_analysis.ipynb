{
 "cells": [
  {
   "cell_type": "markdown",
   "id": "9babe0e4",
   "metadata": {},
   "source": [
    "# Discriminative Word Analysis for Bankruptcy Prediction\n",
    "\n",
    "This notebook performs a statistical analysis to identify the most discriminative words for **merged** and **not merged** cases in financial reports. The outcome can be used to build a simple rule-based filter and visualize performance metrics."
   ]
  },
  {
   "cell_type": "markdown",
   "id": "4d2c0e1d",
   "metadata": {},
   "source": [
    "## 1. Setup and Imports\n",
    "Clean code practices are followed: meaningful variable names, modular functions, and consistent formatting."
   ]
  },
  {
   "cell_type": "code",
   "id": "594318ed",
   "metadata": {
    "ExecuteTime": {
     "end_time": "2025-07-03T10:00:09.277616Z",
     "start_time": "2025-07-03T10:00:08.633632Z"
    }
   },
   "source": [
    "import sqlite3\n",
    "import json\n",
    "import re\n",
    "from collections import Counter\n",
    "import pandas as pd\n",
    "import matplotlib.pyplot as plt\n",
    "from sklearn.metrics import confusion_matrix, classification_report\n",
    "from tqdm import tqdm\n",
    "\n",
    "%matplotlib inline\n",
    "# Configure plot aesthetics\n",
    "plt.rcParams.update({'figure.figsize': (8, 5),\n",
    "                     'axes.titlesize': 14,\n",
    "                     'axes.labelsize': 12})"
   ],
   "outputs": [],
   "execution_count": 1
  },
  {
   "cell_type": "markdown",
   "id": "bf171ebf",
   "metadata": {},
   "source": [
    "## 2. Data Loading\n",
    "Connect to the SQLite database and load training and test sets based on `filing_date`."
   ]
  },
  {
   "cell_type": "code",
   "id": "de3febe0",
   "metadata": {
    "ExecuteTime": {
     "end_time": "2025-07-03T10:00:10.664060Z",
     "start_time": "2025-07-03T10:00:09.348185Z"
    }
   },
   "source": [
    "DB_PATH = './data/database.db'  # Adjust path as needed\n",
    "conn = sqlite3.connect(DB_PATH)\n",
    "cursor = conn.cursor()\n",
    "\n",
    "train_raw = cursor.execute(\n",
    "    \"SELECT sentences, label FROM embeddings WHERE filing_date < '2020-01-01';\"\n",
    ").fetchall()\n",
    "test_raw = cursor.execute(\n",
    "    \"SELECT sentences, label FROM embeddings WHERE filing_date >= '2020-01-01';\"\n",
    ").fetchall()\n",
    "\n",
    "# Parse JSON-encoded sentence lists\n",
    "train_data = [(json.loads(s), lbl) for s, lbl in tqdm(train_raw, desc='Training')]\n",
    "test_data = [(json.loads(s), lbl) for s, lbl in tqdm(test_raw, desc='Testing')]"
   ],
   "outputs": [
    {
     "name": "stderr",
     "output_type": "stream",
     "text": [
      "Training: 100%|██████████| 7878/7878 [00:00<00:00, 10555.36it/s]\n",
      "Testing: 100%|██████████| 1027/1027 [00:00<00:00, 8525.94it/s]\n"
     ]
    }
   ],
   "execution_count": 2
  },
  {
   "cell_type": "markdown",
   "id": "120f89ab",
   "metadata": {},
   "source": [
    "## 3. Tokenization and Frequency Counting\n",
    "We use a simple regex tokenizer: $$\\mathrm{tokens} = \\texttt{re.findall}(r\"\\\\b\\\\w+\\\\b\", text.lower())$$"
   ]
  },
  {
   "metadata": {},
   "cell_type": "markdown",
   "source": "### Standard Tokenization:",
   "id": "a7bdb043efc2edca"
  },
  {
   "cell_type": "code",
   "id": "c2caa15b",
   "metadata": {},
   "source": [
    "# ## 3. Tokenization and Alphabetic Filtering\n",
    "import re\n",
    "from collections import Counter\n",
    "\n",
    "# Only tokens with 3+ letters, no digits or symbols\n",
    "VALID_TOKEN = re.compile(r'^[A-Za-z]{3,}$')\n",
    "\n",
    "token_pattern = re.compile(r\"\\b\\w+\\b\")\n",
    "def tokenize(text: str) -> list[str]:\n",
    "    \"\"\"\n",
    "    Split text into lowercase word tokens,\n",
    "    then filter out any token that:\n",
    "      - contains non-alphabetic characters\n",
    "      - has length < 3\n",
    "    \"\"\"\n",
    "    raw = token_pattern.findall(text.lower())\n",
    "    return [tok for tok in raw if VALID_TOKEN.match(tok)]\n",
    "\n",
    "# Split training sentences by label\n",
    "merged_sents     = [s for sents, lbl in tqdm(train_data, desc='Merged Sentences') if lbl == 1 for s in sents]\n",
    "not_merged_sents = [s for sents, lbl in tqdm(train_data, desc='Not-Merged Sentences') if lbl == 0 for s in sents]\n",
    "\n",
    "# Count frequencies using filtered tokens only\n",
    "merged_counts     = Counter(tok for s in tqdm(merged_sents, desc='Merged Token')     for tok in tokenize(s))\n",
    "not_merged_counts = Counter(tok for s in tqdm(not_merged_sents, desc='Not-Merged Token') for tok in tokenize(s))\n",
    "\n",
    "total_merged     = sum(merged_counts.values())\n",
    "total_not_merged = sum(not_merged_counts.values())\n"
   ],
   "outputs": [],
   "execution_count": null
  },
  {
   "metadata": {},
   "cell_type": "markdown",
   "source": "### Endglish-Word Tokenization",
   "id": "4274d19747eba57c"
  },
  {
   "metadata": {
    "ExecuteTime": {
     "end_time": "2025-07-03T10:06:14.464238Z",
     "start_time": "2025-07-03T10:00:12.262138Z"
    }
   },
   "cell_type": "code",
   "source": [
    "# 3. Tokenization + English‐word filtering\n",
    "import re\n",
    "import nltk\n",
    "\n",
    "# ensure WordNet is available\n",
    "nltk.download('wordnet')\n",
    "from nltk.corpus import wordnet\n",
    "\n",
    "# only alphabetic tokens of length ≥3\n",
    "ALPHA_TOKEN = re.compile(r'^[A-Za-z]{3,}$')\n",
    "\n",
    "def is_english_word(tok: str) -> bool:\n",
    "    \"\"\"Check both form and dictionary membership.\"\"\"\n",
    "    return bool(ALPHA_TOKEN.match(tok)) and bool(wordnet.synsets(tok))\n",
    "\n",
    "def tokenize(text: str) -> list[str]:\n",
    "    \"\"\"\n",
    "    1) lowercase word‐character tokens\n",
    "    2) keep only English words (≥3 letters, in WordNet)\n",
    "    \"\"\"\n",
    "    raw = re.findall(r\"\\b\\w+\\b\", text.lower())\n",
    "    return [w for w in raw if is_english_word(w)]\n",
    "\n",
    "# rebuild your counts using this tokenizer\n",
    "merged_sents     = [s for sents, lbl in tqdm(train_data, desc='Merged Sentences') if lbl==1 for s in sents]\n",
    "not_merged_sents = [s for sents, lbl in tqdm(train_data, desc='Not-Merged Sentences') if lbl==0 for s in sents]\n",
    "\n",
    "from collections import Counter\n",
    "merged_counts     = Counter(tok for s in tqdm(merged_sents, desc='Merged Token')     for tok in tokenize(s))\n",
    "not_merged_counts = Counter(tok for s in tqdm(not_merged_sents, desc='Not-Merged Token') for tok in tokenize(s))\n",
    "\n",
    "total_merged     = sum(merged_counts.values())\n",
    "total_not_merged = sum(not_merged_counts.values())\n"
   ],
   "id": "3b4b9a03f0795f1d",
   "outputs": [
    {
     "name": "stderr",
     "output_type": "stream",
     "text": [
      "[nltk_data] Downloading package wordnet to /home/cagatay/nltk_data...\n",
      "[nltk_data]   Package wordnet is already up-to-date!\n",
      "Merged Sentences: 100%|██████████| 7878/7878 [00:00<00:00, 827619.96it/s]\n",
      "Not-Merged Sentences: 100%|██████████| 7878/7878 [00:00<00:00, 257069.82it/s]\n",
      "Merged Token: 100%|██████████| 421900/421900 [01:05<00:00, 6490.15it/s]\n",
      "Not-Merged Token: 100%|██████████| 2026641/2026641 [04:56<00:00, 6831.95it/s]\n"
     ]
    }
   ],
   "execution_count": 3
  },
  {
   "cell_type": "markdown",
   "id": "0247d9e5",
   "metadata": {},
   "source": [
    "## 4. Statistical Measure: Odds Ratio\n",
    "We compute the **odds ratio** for each word $w$:\n",
    "\n",
    "$$\\mathrm{OR}(w) = \\frac{P(w\\mid \\mathrm{merged})}{P(w\\mid \\mathrm{not\\_merged})} = \\frac{\\frac{\\mathrm{count}_{m}(w)}{\\sum_w \\mathrm{count}_{m}(w)}}{\\frac{\\mathrm{count}_{nm}(w) + 1}{\\sum_w \\mathrm{count}_{nm}(w)}}.$$"
   ]
  },
  {
   "cell_type": "code",
   "id": "4a3ec577",
   "metadata": {
    "ExecuteTime": {
     "end_time": "2025-07-03T10:06:29.226546Z",
     "start_time": "2025-07-03T10:06:29.204721Z"
    }
   },
   "source": [
    "# Build DataFrame of words with their odds ratios\n",
    "MIN_FREQ = 50  # Minimum total occurrences filter\n",
    "\n",
    "records = []\n",
    "for word, m_cnt in merged_counts.items():\n",
    "    nm_cnt = not_merged_counts.get(word, 0)\n",
    "    if (m_cnt + nm_cnt) < MIN_FREQ:\n",
    "        continue\n",
    "    # Odds Ratio formula:\n",
    "    #   OR(w) = (m_cnt/total_merged) / ((nm_cnt+1)/total_not_merged)\n",
    "    oratio = (m_cnt/total_merged) / ((nm_cnt + 1)/total_not_merged)\n",
    "    records.append((word, m_cnt, nm_cnt, oratio))\n",
    "\n",
    "df_stats = pd.DataFrame(\n",
    "    records,\n",
    "    columns=[\"word\", \"merged_count\", \"not_merged_count\", \"odds_ratio\"]\n",
    ")\n"
   ],
   "outputs": [],
   "execution_count": 4
  },
  {
   "cell_type": "markdown",
   "id": "0a2b75b4",
   "metadata": {},
   "source": [
    "## 5. Top Discriminative Words\n",
    "- **For merged**: highest odds ratios.\n",
    "- **For not merged**: highest inverse odds ratios."
   ]
  },
  {
   "cell_type": "code",
   "id": "66672d70",
   "metadata": {
    "ExecuteTime": {
     "end_time": "2025-07-03T10:06:29.976292Z",
     "start_time": "2025-07-03T10:06:29.959017Z"
    }
   },
   "source": [
    "# Top 20 for Merged\n",
    "df_top_merged    = df_stats.sort_values(\"odds_ratio\", ascending=False).head(20)\n",
    "# Top 20 for Not-Merged (invert)\n",
    "df_stats[\"inv_odds\"] = 1/df_stats[\"odds_ratio\"]\n",
    "df_top_notmerged   = df_stats.sort_values(\"inv_odds\", ascending=False).head(20)\n",
    "\n",
    "# Display\n",
    "print(\"### Top 20 Discriminative Words for Merged\")\n",
    "display(df_top_merged)\n",
    "print(\"### Top 20 Discriminative Words for Not Merged\")\n",
    "display(df_top_notmerged)"
   ],
   "outputs": [
    {
     "name": "stdout",
     "output_type": "stream",
     "text": [
      "### Top 20 Discriminative Words for Merged\n"
     ]
    },
    {
     "data": {
      "text/plain": [
       "              word  merged_count  not_merged_count  odds_ratio\n",
       "10061     occupier            98                29   15.813424\n",
       "8971          zion            45                15   13.614874\n",
       "9966        ignite            61                24   11.811659\n",
       "6523         cisco           526               258    9.831212\n",
       "6539        router            87                42    9.794266\n",
       "8070        oracle           523               266    9.482253\n",
       "6563   initiations            42                22    8.839802\n",
       "8310     firethorn            36                19    8.713519\n",
       "6514      switches           187               111    8.082481\n",
       "577        keynote            87                52    7.946291\n",
       "5080      warfarin            48                29    7.745350\n",
       "7467         quiet            76                47    7.664670\n",
       "7263     cementing            37                24    7.164449\n",
       "5303    thrombosis            62                41    7.146008\n",
       "6559           lan            42                28    7.010878\n",
       "9652        deputy            30                20    6.915491\n",
       "8444      accolade            58                42    6.529511\n",
       "9972          iaas            41                31    6.202331\n",
       "8486    pacemakers            46                35    6.185523\n",
       "9921       niagara            59                46    6.076804"
      ],
      "text/html": [
       "<div>\n",
       "<style scoped>\n",
       "    .dataframe tbody tr th:only-of-type {\n",
       "        vertical-align: middle;\n",
       "    }\n",
       "\n",
       "    .dataframe tbody tr th {\n",
       "        vertical-align: top;\n",
       "    }\n",
       "\n",
       "    .dataframe thead th {\n",
       "        text-align: right;\n",
       "    }\n",
       "</style>\n",
       "<table border=\"1\" class=\"dataframe\">\n",
       "  <thead>\n",
       "    <tr style=\"text-align: right;\">\n",
       "      <th></th>\n",
       "      <th>word</th>\n",
       "      <th>merged_count</th>\n",
       "      <th>not_merged_count</th>\n",
       "      <th>odds_ratio</th>\n",
       "    </tr>\n",
       "  </thead>\n",
       "  <tbody>\n",
       "    <tr>\n",
       "      <th>10061</th>\n",
       "      <td>occupier</td>\n",
       "      <td>98</td>\n",
       "      <td>29</td>\n",
       "      <td>15.813424</td>\n",
       "    </tr>\n",
       "    <tr>\n",
       "      <th>8971</th>\n",
       "      <td>zion</td>\n",
       "      <td>45</td>\n",
       "      <td>15</td>\n",
       "      <td>13.614874</td>\n",
       "    </tr>\n",
       "    <tr>\n",
       "      <th>9966</th>\n",
       "      <td>ignite</td>\n",
       "      <td>61</td>\n",
       "      <td>24</td>\n",
       "      <td>11.811659</td>\n",
       "    </tr>\n",
       "    <tr>\n",
       "      <th>6523</th>\n",
       "      <td>cisco</td>\n",
       "      <td>526</td>\n",
       "      <td>258</td>\n",
       "      <td>9.831212</td>\n",
       "    </tr>\n",
       "    <tr>\n",
       "      <th>6539</th>\n",
       "      <td>router</td>\n",
       "      <td>87</td>\n",
       "      <td>42</td>\n",
       "      <td>9.794266</td>\n",
       "    </tr>\n",
       "    <tr>\n",
       "      <th>8070</th>\n",
       "      <td>oracle</td>\n",
       "      <td>523</td>\n",
       "      <td>266</td>\n",
       "      <td>9.482253</td>\n",
       "    </tr>\n",
       "    <tr>\n",
       "      <th>6563</th>\n",
       "      <td>initiations</td>\n",
       "      <td>42</td>\n",
       "      <td>22</td>\n",
       "      <td>8.839802</td>\n",
       "    </tr>\n",
       "    <tr>\n",
       "      <th>8310</th>\n",
       "      <td>firethorn</td>\n",
       "      <td>36</td>\n",
       "      <td>19</td>\n",
       "      <td>8.713519</td>\n",
       "    </tr>\n",
       "    <tr>\n",
       "      <th>6514</th>\n",
       "      <td>switches</td>\n",
       "      <td>187</td>\n",
       "      <td>111</td>\n",
       "      <td>8.082481</td>\n",
       "    </tr>\n",
       "    <tr>\n",
       "      <th>577</th>\n",
       "      <td>keynote</td>\n",
       "      <td>87</td>\n",
       "      <td>52</td>\n",
       "      <td>7.946291</td>\n",
       "    </tr>\n",
       "    <tr>\n",
       "      <th>5080</th>\n",
       "      <td>warfarin</td>\n",
       "      <td>48</td>\n",
       "      <td>29</td>\n",
       "      <td>7.745350</td>\n",
       "    </tr>\n",
       "    <tr>\n",
       "      <th>7467</th>\n",
       "      <td>quiet</td>\n",
       "      <td>76</td>\n",
       "      <td>47</td>\n",
       "      <td>7.664670</td>\n",
       "    </tr>\n",
       "    <tr>\n",
       "      <th>7263</th>\n",
       "      <td>cementing</td>\n",
       "      <td>37</td>\n",
       "      <td>24</td>\n",
       "      <td>7.164449</td>\n",
       "    </tr>\n",
       "    <tr>\n",
       "      <th>5303</th>\n",
       "      <td>thrombosis</td>\n",
       "      <td>62</td>\n",
       "      <td>41</td>\n",
       "      <td>7.146008</td>\n",
       "    </tr>\n",
       "    <tr>\n",
       "      <th>6559</th>\n",
       "      <td>lan</td>\n",
       "      <td>42</td>\n",
       "      <td>28</td>\n",
       "      <td>7.010878</td>\n",
       "    </tr>\n",
       "    <tr>\n",
       "      <th>9652</th>\n",
       "      <td>deputy</td>\n",
       "      <td>30</td>\n",
       "      <td>20</td>\n",
       "      <td>6.915491</td>\n",
       "    </tr>\n",
       "    <tr>\n",
       "      <th>8444</th>\n",
       "      <td>accolade</td>\n",
       "      <td>58</td>\n",
       "      <td>42</td>\n",
       "      <td>6.529511</td>\n",
       "    </tr>\n",
       "    <tr>\n",
       "      <th>9972</th>\n",
       "      <td>iaas</td>\n",
       "      <td>41</td>\n",
       "      <td>31</td>\n",
       "      <td>6.202331</td>\n",
       "    </tr>\n",
       "    <tr>\n",
       "      <th>8486</th>\n",
       "      <td>pacemakers</td>\n",
       "      <td>46</td>\n",
       "      <td>35</td>\n",
       "      <td>6.185523</td>\n",
       "    </tr>\n",
       "    <tr>\n",
       "      <th>9921</th>\n",
       "      <td>niagara</td>\n",
       "      <td>59</td>\n",
       "      <td>46</td>\n",
       "      <td>6.076804</td>\n",
       "    </tr>\n",
       "  </tbody>\n",
       "</table>\n",
       "</div>"
      ]
     },
     "metadata": {},
     "output_type": "display_data"
    },
    {
     "name": "stdout",
     "output_type": "stream",
     "text": [
      "### Top 20 Discriminative Words for Not Merged\n"
     ]
    },
    {
     "data": {
      "text/plain": [
       "                 word  merged_count  not_merged_count  odds_ratio    inv_odds\n",
       "10202        retailed             1               580    0.008332  120.020392\n",
       "10147      hectoliter             1               521    0.009274  107.832435\n",
       "10343           sheep             1               336    0.014365   69.615959\n",
       "10037        uniforms             1               277    0.017413   57.428002\n",
       "10243             guy             1               225    0.021420   46.686073\n",
       "8302             slot             1               225    0.021420   46.686073\n",
       "9998            homer             2               436    0.022155   45.136757\n",
       "10014  authentication             1               201    0.023965   41.728260\n",
       "10004    reservations            10              1977    0.024473   40.860643\n",
       "9540            macau            12              2359    0.024614   40.626524\n",
       "9977              gds             1               191    0.025213   39.662505\n",
       "4238              acc             2               350    0.027583   36.254008\n",
       "10260      centennial             1               158    0.030446   32.845512\n",
       "10332        midlands             1               155    0.031031   32.225785\n",
       "10245           fares             1               153    0.031434   31.812634\n",
       "9415            bloom             1               146    0.032931   30.366605\n",
       "10200         sarawak             1               134    0.035858   27.887699\n",
       "8011         marathon             2               250    0.038572   25.925231\n",
       "10300      timberland             3               375    0.038624   25.890802\n",
       "10263          kaiser             1               123    0.039039   25.615368"
      ],
      "text/html": [
       "<div>\n",
       "<style scoped>\n",
       "    .dataframe tbody tr th:only-of-type {\n",
       "        vertical-align: middle;\n",
       "    }\n",
       "\n",
       "    .dataframe tbody tr th {\n",
       "        vertical-align: top;\n",
       "    }\n",
       "\n",
       "    .dataframe thead th {\n",
       "        text-align: right;\n",
       "    }\n",
       "</style>\n",
       "<table border=\"1\" class=\"dataframe\">\n",
       "  <thead>\n",
       "    <tr style=\"text-align: right;\">\n",
       "      <th></th>\n",
       "      <th>word</th>\n",
       "      <th>merged_count</th>\n",
       "      <th>not_merged_count</th>\n",
       "      <th>odds_ratio</th>\n",
       "      <th>inv_odds</th>\n",
       "    </tr>\n",
       "  </thead>\n",
       "  <tbody>\n",
       "    <tr>\n",
       "      <th>10202</th>\n",
       "      <td>retailed</td>\n",
       "      <td>1</td>\n",
       "      <td>580</td>\n",
       "      <td>0.008332</td>\n",
       "      <td>120.020392</td>\n",
       "    </tr>\n",
       "    <tr>\n",
       "      <th>10147</th>\n",
       "      <td>hectoliter</td>\n",
       "      <td>1</td>\n",
       "      <td>521</td>\n",
       "      <td>0.009274</td>\n",
       "      <td>107.832435</td>\n",
       "    </tr>\n",
       "    <tr>\n",
       "      <th>10343</th>\n",
       "      <td>sheep</td>\n",
       "      <td>1</td>\n",
       "      <td>336</td>\n",
       "      <td>0.014365</td>\n",
       "      <td>69.615959</td>\n",
       "    </tr>\n",
       "    <tr>\n",
       "      <th>10037</th>\n",
       "      <td>uniforms</td>\n",
       "      <td>1</td>\n",
       "      <td>277</td>\n",
       "      <td>0.017413</td>\n",
       "      <td>57.428002</td>\n",
       "    </tr>\n",
       "    <tr>\n",
       "      <th>10243</th>\n",
       "      <td>guy</td>\n",
       "      <td>1</td>\n",
       "      <td>225</td>\n",
       "      <td>0.021420</td>\n",
       "      <td>46.686073</td>\n",
       "    </tr>\n",
       "    <tr>\n",
       "      <th>8302</th>\n",
       "      <td>slot</td>\n",
       "      <td>1</td>\n",
       "      <td>225</td>\n",
       "      <td>0.021420</td>\n",
       "      <td>46.686073</td>\n",
       "    </tr>\n",
       "    <tr>\n",
       "      <th>9998</th>\n",
       "      <td>homer</td>\n",
       "      <td>2</td>\n",
       "      <td>436</td>\n",
       "      <td>0.022155</td>\n",
       "      <td>45.136757</td>\n",
       "    </tr>\n",
       "    <tr>\n",
       "      <th>10014</th>\n",
       "      <td>authentication</td>\n",
       "      <td>1</td>\n",
       "      <td>201</td>\n",
       "      <td>0.023965</td>\n",
       "      <td>41.728260</td>\n",
       "    </tr>\n",
       "    <tr>\n",
       "      <th>10004</th>\n",
       "      <td>reservations</td>\n",
       "      <td>10</td>\n",
       "      <td>1977</td>\n",
       "      <td>0.024473</td>\n",
       "      <td>40.860643</td>\n",
       "    </tr>\n",
       "    <tr>\n",
       "      <th>9540</th>\n",
       "      <td>macau</td>\n",
       "      <td>12</td>\n",
       "      <td>2359</td>\n",
       "      <td>0.024614</td>\n",
       "      <td>40.626524</td>\n",
       "    </tr>\n",
       "    <tr>\n",
       "      <th>9977</th>\n",
       "      <td>gds</td>\n",
       "      <td>1</td>\n",
       "      <td>191</td>\n",
       "      <td>0.025213</td>\n",
       "      <td>39.662505</td>\n",
       "    </tr>\n",
       "    <tr>\n",
       "      <th>4238</th>\n",
       "      <td>acc</td>\n",
       "      <td>2</td>\n",
       "      <td>350</td>\n",
       "      <td>0.027583</td>\n",
       "      <td>36.254008</td>\n",
       "    </tr>\n",
       "    <tr>\n",
       "      <th>10260</th>\n",
       "      <td>centennial</td>\n",
       "      <td>1</td>\n",
       "      <td>158</td>\n",
       "      <td>0.030446</td>\n",
       "      <td>32.845512</td>\n",
       "    </tr>\n",
       "    <tr>\n",
       "      <th>10332</th>\n",
       "      <td>midlands</td>\n",
       "      <td>1</td>\n",
       "      <td>155</td>\n",
       "      <td>0.031031</td>\n",
       "      <td>32.225785</td>\n",
       "    </tr>\n",
       "    <tr>\n",
       "      <th>10245</th>\n",
       "      <td>fares</td>\n",
       "      <td>1</td>\n",
       "      <td>153</td>\n",
       "      <td>0.031434</td>\n",
       "      <td>31.812634</td>\n",
       "    </tr>\n",
       "    <tr>\n",
       "      <th>9415</th>\n",
       "      <td>bloom</td>\n",
       "      <td>1</td>\n",
       "      <td>146</td>\n",
       "      <td>0.032931</td>\n",
       "      <td>30.366605</td>\n",
       "    </tr>\n",
       "    <tr>\n",
       "      <th>10200</th>\n",
       "      <td>sarawak</td>\n",
       "      <td>1</td>\n",
       "      <td>134</td>\n",
       "      <td>0.035858</td>\n",
       "      <td>27.887699</td>\n",
       "    </tr>\n",
       "    <tr>\n",
       "      <th>8011</th>\n",
       "      <td>marathon</td>\n",
       "      <td>2</td>\n",
       "      <td>250</td>\n",
       "      <td>0.038572</td>\n",
       "      <td>25.925231</td>\n",
       "    </tr>\n",
       "    <tr>\n",
       "      <th>10300</th>\n",
       "      <td>timberland</td>\n",
       "      <td>3</td>\n",
       "      <td>375</td>\n",
       "      <td>0.038624</td>\n",
       "      <td>25.890802</td>\n",
       "    </tr>\n",
       "    <tr>\n",
       "      <th>10263</th>\n",
       "      <td>kaiser</td>\n",
       "      <td>1</td>\n",
       "      <td>123</td>\n",
       "      <td>0.039039</td>\n",
       "      <td>25.615368</td>\n",
       "    </tr>\n",
       "  </tbody>\n",
       "</table>\n",
       "</div>"
      ]
     },
     "metadata": {},
     "output_type": "display_data"
    }
   ],
   "execution_count": 5
  },
  {
   "cell_type": "markdown",
   "id": "661116be",
   "metadata": {},
   "source": [
    "## 6. Visualization of Top Words\n",
    "Bar plots of odds ratios for the top discriminative words."
   ]
  },
  {
   "cell_type": "code",
   "id": "970d7afa",
   "metadata": {
    "ExecuteTime": {
     "end_time": "2025-07-03T10:06:38.897417Z",
     "start_time": "2025-07-03T10:06:38.575360Z"
    }
   },
   "source": [
    "# Plot for merged\n",
    "plt.figure()\n",
    "plt.barh(df_top_merged['word'][::-1], df_top_merged['odds_ratio'][::-1])\n",
    "plt.xlabel('Odds Ratio')\n",
    "plt.title('Top 20 Discriminative Words for Merged')\n",
    "plt.tight_layout()\n",
    "plt.show()\n",
    "\n",
    "# Plot for not merged\n",
    "plt.figure()\n",
    "plt.barh(df_top_notmerged['word'][::-1], df_top_notmerged['inv_odds'][::-1])\n",
    "plt.xlabel('Inverse Odds Ratio')\n",
    "plt.title('Top 20 Discriminative Words for Not Merged')\n",
    "plt.tight_layout()\n",
    "plt.show()"
   ],
   "outputs": [
    {
     "data": {
      "text/plain": [
       "<Figure size 800x500 with 1 Axes>"
      ],
      "image/png": "[encoded data removed]"
     },
     "metadata": {},
     "output_type": "display_data"
    },
    {
     "data": {
      "text/plain": [
       "<Figure size 800x500 with 1 Axes>"
      ],
      "image/png": "[encoded data removed]"
     },
     "metadata": {},
     "output_type": "display_data"
    }
   ],
   "execution_count": 6
  },
  {
   "cell_type": "markdown",
   "id": "7aac1851",
   "metadata": {},
   "source": [
    "## 7. Rule-based Filter and Performance\n",
    "Classify a report as merged if it contains any of the top merged words."
   ]
  },
  {
   "metadata": {},
   "cell_type": "markdown",
   "source": "### Word Count Classifer",
   "id": "a6930179ebde0f79"
  },
  {
   "cell_type": "code",
   "id": "648202bf",
   "metadata": {
    "ExecuteTime": {
     "end_time": "2025-07-03T10:07:26.833155Z",
     "start_time": "2025-07-03T10:06:41.005571Z"
    }
   },
   "source": [
    "# Define filter function\n",
    "from sklearn.metrics import accuracy_score, precision_score, recall_score, f1_score, confusion_matrix\n",
    "def classify_report(sentences):\n",
    "    tokens = {tok for s in sentences for tok in tokenize(s)}\n",
    "    return int(bool(tokens & set(df_top_merged['word'])))\n",
    "\n",
    "# Evaluate on test set\n",
    "y_true = [lbl for sents, lbl in test_data]\n",
    "y_pred = [classify_report(sents) for sents, lbl in tqdm(test_data, desc='Classify')]\n",
    "\n",
    "# Metrics\n",
    "print(\"=== Word Counter Classifer ===\")\n",
    "print(\"Accuracy:       \", accuracy_score(y_true, y_pred))\n",
    "print(\"Precision:      \", precision_score(y_true, y_pred))\n",
    "print(\"Recall:         \", recall_score(y_true, y_pred))\n",
    "print(\"F1-score:       \", f1_score(y_true, y_pred))\n",
    "tn, fp, fn, tp = confusion_matrix(y_true, y_pred).ravel()\n",
    "print(\"TP: {:.3f}\".format(tp))\n",
    "print(\"TN: {:.3f}\".format(tn))\n",
    "print(\"FP: {:.3f}\".format(fp))\n",
    "print(\"FN: {:.3f}\".format(fn))\n",
    "\n",
    "cm = confusion_matrix(y_true, y_pred)\n",
    "plt.figure()\n",
    "plt.imshow(cm, cmap='Blues', interpolation='nearest')\n",
    "plt.title('Confusion Matrix')\n",
    "plt.colorbar()\n",
    "plt.xticks([0,1], ['Not Merged','Merged'])\n",
    "plt.yticks([0,1], ['Not Merged','Merged'])\n",
    "\n",
    "for i in range(2):\n",
    "    for j in range(2):\n",
    "        plt.text(j, i, cm[i,j], ha='center', va='center')\n",
    "plt.xlabel('Predicted')\n",
    "plt.ylabel('True')\n",
    "plt.tight_layout()\n",
    "plt.show()\n"
   ],
   "outputs": [
    {
     "name": "stderr",
     "output_type": "stream",
     "text": [
      "Classify: 100%|██████████| 1027/1027 [00:45<00:00, 22.45it/s]"
     ]
    },
    {
     "name": "stdout",
     "output_type": "stream",
     "text": [
      "=== Word Counter Classifer ===\n",
      "Accuracy:        0.8257059396299903\n",
      "Precision:       0.1956521739130435\n",
      "Recall:          0.059602649006622516\n",
      "F1-score:        0.09137055837563451\n",
      "TP: 9.000\n",
      "TN: 839.000\n",
      "FP: 37.000\n",
      "FN: 142.000\n"
     ]
    },
    {
     "name": "stderr",
     "output_type": "stream",
     "text": [
      "\n"
     ]
    },
    {
     "data": {
      "text/plain": [
       "<Figure size 800x500 with 2 Axes>"
      ],
      "image/png": "[encoded data removed]"
     },
     "metadata": {},
     "output_type": "display_data"
    }
   ],
   "execution_count": 7
  },
  {
   "metadata": {},
   "cell_type": "markdown",
   "source": "### Average-score-based classifier",
   "id": "e23fe90be72188e2"
  },
  {
   "metadata": {
    "ExecuteTime": {
     "end_time": "2025-07-03T10:08:13.437202Z",
     "start_time": "2025-07-03T10:07:26.862436Z"
    }
   },
   "cell_type": "code",
   "source": [
    "word_scores = df_stats.set_index('word')['odds_ratio'].to_dict()\n",
    "th = df_stats['odds_ratio'].mean()\n",
    "def avg_score_classifier(sentences: list[str], threshold: float = 1.0) -> int:\n",
    "    \"\"\"\n",
    "    Compute the average odds-ratio score across all tokens in the report.\n",
    "    Classify as 'merged' (1) if avg_score > threshold, else 'not merged' (0).\n",
    "    \"\"\"\n",
    "    tokens = [tok for s in sentences for tok in tokenize(s)]\n",
    "    scores = [word_scores[t] for t in tokens if t in word_scores]\n",
    "    if not scores:\n",
    "        # no known tokens → default to not merged\n",
    "        return 0\n",
    "    avg_score = sum(scores) / len(scores)\n",
    "    return int(avg_score > threshold)\n",
    "\n",
    "# Evaluate on the test set\n",
    "y_true = [lbl for sents, lbl in test_data]\n",
    "y_pred = [avg_score_classifier(sents, threshold=th) for sents, lbl in tqdm(test_data, desc='Classify')]\n",
    "\n",
    "# Metrics\n",
    "print(\"=== Average-score-based classifier ===\")\n",
    "print(\"Accuracy:       \", accuracy_score(y_true, y_pred))\n",
    "print(\"Precision:      \", precision_score(y_true, y_pred))\n",
    "print(\"Recall:         \", recall_score(y_true, y_pred))\n",
    "print(\"F1-score:       \", f1_score(y_true, y_pred))\n",
    "tn, fp, fn, tp = confusion_matrix(y_true, y_pred).ravel()\n",
    "print(\"TP: {:.3f}\".format(tp))\n",
    "print(\"TN: {:.3f}\".format(tn))\n",
    "print(\"FP: {:.3f}\".format(fp))\n",
    "print(\"FN: {:.3f}\".format(fn))\n",
    "\n",
    "# Plot confusion matrix\n",
    "# Compute performance\n",
    "cm_avg = confusion_matrix(y_true, y_pred)\n",
    "plt.figure()\n",
    "plt.imshow(cm_avg, cmap='Blues', interpolation='nearest')\n",
    "plt.title(\"Confusion Matrix (Avg Score)\")\n",
    "plt.colorbar()\n",
    "plt.xticks([0,1], ['Not Merged','Merged'])\n",
    "plt.yticks([0,1], ['Not Merged','Merged'])\n",
    "for i in range(2):\n",
    "    for j in range(2):\n",
    "        plt.text(j, i, cm_avg[i,j], ha='center', va='center')\n",
    "plt.xlabel('Predicted')\n",
    "plt.ylabel('True')\n",
    "plt.tight_layout()\n",
    "plt.show()\n"
   ],
   "id": "cc7b295ede41bfd3",
   "outputs": [
    {
     "name": "stderr",
     "output_type": "stream",
     "text": [
      "Classify: 100%|██████████| 1027/1027 [00:46<00:00, 22.09it/s]"
     ]
    },
    {
     "name": "stdout",
     "output_type": "stream",
     "text": [
      "=== Average-score-based classifier ===\n",
      "Accuracy:        0.8276533592989289\n",
      "Precision:       0.25\n",
      "Recall:          0.08609271523178808\n",
      "F1-score:        0.12807881773399016\n",
      "TP: 13.000\n",
      "TN: 837.000\n",
      "FP: 39.000\n",
      "FN: 138.000\n"
     ]
    },
    {
     "name": "stderr",
     "output_type": "stream",
     "text": [
      "\n"
     ]
    },
    {
     "data": {
      "text/plain": [
       "<Figure size 800x500 with 2 Axes>"
      ],
      "image/png": "[encoded data removed]"
     },
     "metadata": {},
     "output_type": "display_data"
    }
   ],
   "execution_count": 8
  },
  {
   "metadata": {},
   "cell_type": "code",
   "source": "",
   "id": "209f1ba49fa75d4f",
   "outputs": [],
   "execution_count": null
  }
 ],
 "metadata": {},
 "nbformat": 4,
 "nbformat_minor": 5
}
