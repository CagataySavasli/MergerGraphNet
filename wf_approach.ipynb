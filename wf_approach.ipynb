{
 "cells": [
  {
   "cell_type": "code",
   "id": "initial_id",
   "metadata": {
    "collapsed": true,
    "ExecuteTime": {
     "end_time": "2025-06-21T14:39:55.155356Z",
     "start_time": "2025-06-21T14:39:54.094391Z"
    }
   },
   "source": [
    "from lib.database.database_connector import DatabaseConnector\n",
    "import json\n",
    "import numpy as np\n",
    "from sklearn.linear_model import LogisticRegression\n",
    "from sklearn.metrics import accuracy_score, precision_score, recall_score, f1_score, confusion_matrix\n",
    "\n",
    "from tqdm import tqdm\n",
    "\n",
    "\n",
    "from sklearn.feature_extraction.text import CountVectorizer\n",
    "from sklearn.model_selection import train_test_split\n",
    "from sklearn.ensemble import RandomForestClassifier\n",
    "\n",
    "import re\n",
    "import nltk\n",
    "nltk.download('stopwords')\n",
    "from nltk.corpus import stopwords"
   ],
   "outputs": [
    {
     "name": "stderr",
     "output_type": "stream",
     "text": [
      "[nltk_data] Downloading package stopwords to\n",
      "[nltk_data]     /home/cagatay/nltk_data...\n",
      "[nltk_data]   Unzipping corpora/stopwords.zip.\n"
     ]
    }
   ],
   "execution_count": 1
  },
  {
   "metadata": {
    "ExecuteTime": {
     "end_time": "2025-06-21T14:40:02.758136Z",
     "start_time": "2025-06-21T14:40:02.755622Z"
    }
   },
   "cell_type": "code",
   "source": [
    "database_connector = DatabaseConnector(\"./data/database.db\")\n",
    "cursor = database_connector.cursor\n",
    "\n",
    "split_date = \"2020-01-01\""
   ],
   "id": "28432f70c8e0ded3",
   "outputs": [],
   "execution_count": 2
  },
  {
   "metadata": {
    "ExecuteTime": {
     "end_time": "2025-06-21T14:48:42.229788Z",
     "start_time": "2025-06-21T14:48:41.922592Z"
    }
   },
   "cell_type": "code",
   "source": [
    "train_data = cursor.execute(\n",
    "    \"SELECT sentences, label FROM embeddings WHERE filing_date < '2019-01-01';\"\n",
    ").fetchall()\n",
    "\n",
    "test_data = cursor.execute(\n",
    "    \"SELECT sentences, label FROM embeddings WHERE filing_date >= '2020-01-01';\"\n",
    ").fetchall()"
   ],
   "id": "71e5a6d3141dd21e",
   "outputs": [],
   "execution_count": 22
  },
  {
   "metadata": {
    "ExecuteTime": {
     "end_time": "2025-06-21T14:48:43.530982Z",
     "start_time": "2025-06-21T14:48:42.845208Z"
    }
   },
   "cell_type": "code",
   "source": [
    "train_data = [(json.loads(sentences), label) for sentences, label in train_data]\n",
    "test_data = [(json.loads(sentences), label) for sentences, label in test_data]"
   ],
   "id": "a8c84f44a3aa6746",
   "outputs": [],
   "execution_count": 23
  },
  {
   "metadata": {
    "ExecuteTime": {
     "end_time": "2025-06-21T14:48:43.735292Z",
     "start_time": "2025-06-21T14:48:43.543006Z"
    }
   },
   "cell_type": "code",
   "source": [
    "train_data = [(\" \".join(texts), label) for texts, label in train_data]\n",
    "test_data = [(\" \".join(texts), label) for texts, label in test_data]"
   ],
   "id": "e9f950700c58505",
   "outputs": [],
   "execution_count": 24
  },
  {
   "metadata": {
    "ExecuteTime": {
     "end_time": "2025-06-21T14:48:43.879916Z",
     "start_time": "2025-06-21T14:48:43.874722Z"
    }
   },
   "cell_type": "code",
   "source": [
    "stop_words = set(stopwords.words('english'))\n",
    "def preprocess(text):\n",
    "    # Küçük harf, sadece harf ve boşluk\n",
    "    text = text.lower()\n",
    "    text = re.sub(r'[^a-z\\s]', ' ', text)\n",
    "    tokens = text.split()\n",
    "    tokens = [t for t in tokens if t not in stop_words and len(t)>2]\n",
    "    return ' '.join(tokens)"
   ],
   "id": "d38022ebbfbce89b",
   "outputs": [],
   "execution_count": 25
  },
  {
   "metadata": {
    "ExecuteTime": {
     "end_time": "2025-06-21T14:48:57.201041Z",
     "start_time": "2025-06-21T14:48:44.297428Z"
    }
   },
   "cell_type": "code",
   "source": [
    "train_data = [(preprocess(text), label) for text, label in train_data]\n",
    "test_data = [(preprocess(text), label) for text, label in test_data]"
   ],
   "id": "960b8aa8a56ae905",
   "outputs": [],
   "execution_count": 26
  },
  {
   "metadata": {
    "ExecuteTime": {
     "end_time": "2025-06-21T14:49:32.406738Z",
     "start_time": "2025-06-21T14:48:57.211Z"
    }
   },
   "cell_type": "code",
   "source": [
    "# 5. Bag-of-Words özelliklerini çıkarma\n",
    "vectorizer = CountVectorizer(\n",
    "    max_features=768,       # en sık 768 kelimeyi al\n",
    "    ngram_range=(1,2),       # unigram + bigram\n",
    "    min_df=5,                # en az 5 dokümanda geçsin\n",
    "    max_df=0.8               # en fazla %80 dokümanda geçsin\n",
    ")\n",
    "X_train = vectorizer.fit_transform([text for text, label in train_data])\n",
    "y_train = np.array([        label for text, label in train_data])\n",
    "X_test  = vectorizer.transform([text for text, label in test_data])\n",
    "y_test  = np.array([        label for text, label in test_data])"
   ],
   "id": "7ad4849c56fc4e94",
   "outputs": [],
   "execution_count": 27
  },
  {
   "metadata": {
    "ExecuteTime": {
     "end_time": "2025-06-21T14:50:30.967357Z",
     "start_time": "2025-06-21T14:50:25.828835Z"
    }
   },
   "cell_type": "code",
   "source": [
    "# ---- Logistic Regression ----\n",
    "lr = LogisticRegression(max_iter=1000, n_jobs=-1, random_state=42)\n",
    "lr.fit(X_train, y_train)\n",
    "y_pred_lr   = lr.predict(X_test)\n",
    "y_proba_lr  = lr.predict_proba(X_test)[:,1]\n",
    "\n",
    "print(\"=== Logistic Regression ===\")\n",
    "print(\"Accuracy:       \", accuracy_score(y_test, y_pred_lr))\n",
    "print(\"Precision:      \", precision_score(y_test, y_pred_lr))\n",
    "print(\"Recall:         \", recall_score(y_test, y_pred_lr))\n",
    "print(\"F1-score:       \", f1_score(y_test, y_pred_lr))\n",
    "tn, fp, fn, tp = confusion_matrix(y_test, y_pred_lr).ravel()\n",
    "print(\"TP: {:.3f}\".format(tp))\n",
    "print(\"TN: {:.3f}\".format(tn))\n",
    "print(\"FP: {:.3f}\".format(fp))\n",
    "print(\"FN: {:.3f}\".format(fn))"
   ],
   "id": "449a4756214b1369",
   "outputs": [
    {
     "name": "stdout",
     "output_type": "stream",
     "text": [
      "=== Logistic Regression ===\n",
      "Accuracy:        0.7702044790652386\n",
      "Precision:       0.1897810218978102\n",
      "Recall:          0.17218543046357615\n",
      "F1-score:        0.18055555555555555\n",
      "TP: 26.000\n",
      "TN: 765.000\n",
      "FP: 111.000\n",
      "FN: 125.000\n"
     ]
    }
   ],
   "execution_count": 30
  },
  {
   "metadata": {
    "ExecuteTime": {
     "end_time": "2025-06-21T15:03:37.524661Z",
     "start_time": "2025-06-21T15:03:37.517935Z"
    }
   },
   "cell_type": "code",
   "source": [
    "# feature isimleri ve katsayılar\n",
    "feature_names = vectorizer.get_feature_names_out()\n",
    "coefs = lr.coef_[0]\n",
    "\n",
    "# Pozitif sınıf lehine en güçlü 10 n-gram\n",
    "top_pos_idx = np.argsort(coefs)[-10:][::-1]\n",
    "print(\"Top 10 pozitife dönen n-gram’lar (label=1 lehine):\")\n",
    "for i in top_pos_idx:\n",
    "    print(f\"  {feature_names[i]:<20} coef = {coefs[i]:.4f}\")\n",
    "\n",
    "print()\n",
    "\n",
    "# Negatif sınıf lehine en güçlü 10 n-gram\n",
    "top_neg_idx = np.argsort(coefs)[:10]\n",
    "print(\"Top 10 negatife dönen n-gram’lar (label=0 lehine):\")\n",
    "for i in top_neg_idx:\n",
    "    print(f\"  {feature_names[i]:<20} coef = {coefs[i]:.4f}\")"
   ],
   "id": "b4bad83a5149dcbb",
   "outputs": [
    {
     "name": "stdout",
     "output_type": "stream",
     "text": [
      "Top 10 pozitife dönen n-gram’lar (label=1 lehine):\n",
      "  balance sheet        coef = 0.2551\n",
      "  estate               coef = 0.2311\n",
      "  actual results       coef = 0.2290\n",
      "  weighted average     coef = 0.1677\n",
      "  forward looking      coef = 0.1587\n",
      "  directors            coef = 0.1556\n",
      "  revolving credit     coef = 0.1434\n",
      "  discontinued         coef = 0.1338\n",
      "  equivalents          coef = 0.1230\n",
      "  next                 coef = 0.1202\n",
      "\n",
      "Top 10 negatife dönen n-gram’lar (label=0 lehine):\n",
      "  sheet                coef = -0.2445\n",
      "  real estate          coef = -0.2337\n",
      "  board directors      coef = -0.2184\n",
      "  looking              coef = -0.1659\n",
      "  numbers              coef = -0.1627\n",
      "  weighted             coef = -0.1518\n",
      "  flow                 coef = -0.1478\n",
      "  working capital      coef = -0.1465\n",
      "  discontinued operations coef = -0.1331\n",
      "  characters           coef = -0.1308\n"
     ]
    }
   ],
   "execution_count": 42
  },
  {
   "metadata": {},
   "cell_type": "code",
   "outputs": [],
   "execution_count": null,
   "source": "",
   "id": "52c3df2682f12852"
  },
  {
   "metadata": {
    "ExecuteTime": {
     "end_time": "2025-06-21T14:55:56.033228Z",
     "start_time": "2025-06-21T14:55:55.691064Z"
    }
   },
   "cell_type": "code",
   "source": [
    "rf = RandomForestClassifier(\n",
    "    n_estimators=10,\n",
    "    max_depth=None,\n",
    "    random_state=42,\n",
    "    n_jobs=-1\n",
    ")\n",
    "rf.fit(X_train, y_train)\n",
    "y_pred_rf  = rf.predict(X_test)\n",
    "y_proba_rf = rf.predict_proba(X_test)[:,1]\n",
    "\n",
    "print(\"=== Random Forest ===\")\n",
    "print(\"Accuracy:       \", accuracy_score(y_test, y_pred_rf))\n",
    "print(\"Precision:      \", precision_score(y_test, y_pred_rf))\n",
    "print(\"Recall:         \", recall_score(y_test, y_pred_rf))\n",
    "print(\"F1-score:       \", f1_score(y_test, y_pred_rf))\n",
    "print(\"Confusion Matrix:\\n\", confusion_matrix(y_test, y_pred_rf))"
   ],
   "id": "5e17bb36ddd41ad3",
   "outputs": [
    {
     "name": "stdout",
     "output_type": "stream",
     "text": [
      "=== Random Forest ===\n",
      "Accuracy:        0.8422590068159689\n",
      "Precision:       0.28\n",
      "Recall:          0.046357615894039736\n",
      "F1-score:        0.07954545454545454\n",
      "Confusion Matrix:\n",
      " [[858  18]\n",
      " [144   7]]\n"
     ]
    }
   ],
   "execution_count": 37
  },
  {
   "metadata": {},
   "cell_type": "code",
   "outputs": [],
   "execution_count": null,
   "source": "",
   "id": "b6f3875405f587b"
  }
 ],
 "metadata": {
  "kernelspec": {
   "display_name": "Python 3",
   "language": "python",
   "name": "python3"
  },
  "language_info": {
   "codemirror_mode": {
    "name": "ipython",
    "version": 2
   },
   "file_extension": ".py",
   "mimetype": "text/x-python",
   "name": "python",
   "nbconvert_exporter": "python",
   "pygments_lexer": "ipython2",
   "version": "2.7.6"
  }
 },
 "nbformat": 4,
 "nbformat_minor": 5
}
