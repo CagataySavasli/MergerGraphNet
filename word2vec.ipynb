{
 "cells": [
  {
   "metadata": {
    "ExecuteTime": {
     "end_time": "2025-07-02T11:59:59.236940Z",
     "start_time": "2025-07-02T11:59:58.659395Z"
    }
   },
   "cell_type": "code",
   "source": [
    "from lib.database.database_connector import DatabaseConnector\n",
    "import json\n",
    "import numpy as np\n",
    "from gensim.models import Word2Vec\n",
    "from gensim.utils import simple_preprocess\n",
    "from sklearn.linear_model import LogisticRegression\n",
    "from sklearn.ensemble import RandomForestClassifier\n",
    "from sklearn.neighbors import KNeighborsClassifier\n",
    "from sklearn.metrics import accuracy_score, precision_score, recall_score, f1_score, confusion_matrix\n",
    "\n",
    "from tqdm import tqdm"
   ],
   "id": "30e6cbe76de3d212",
   "outputs": [],
   "execution_count": 1
  },
  {
   "metadata": {
    "ExecuteTime": {
     "end_time": "2025-07-02T11:59:59.308193Z",
     "start_time": "2025-07-02T11:59:59.306405Z"
    }
   },
   "cell_type": "code",
   "source": [
    "database_connector = DatabaseConnector(\"./data/database.db\")\n",
    "cursor = database_connector.cursor\n",
    "\n",
    "split_date = \"2020-01-01\""
   ],
   "id": "3f6d167a0fc8f673",
   "outputs": [],
   "execution_count": 2
  },
  {
   "metadata": {
    "ExecuteTime": {
     "end_time": "2025-07-02T12:00:00.089469Z",
     "start_time": "2025-07-02T11:59:59.358685Z"
    }
   },
   "cell_type": "code",
   "source": [
    "train_data = cursor.execute(\n",
    "    \"SELECT sentences, label FROM embeddings WHERE filing_date < '2020-01-01';\"\n",
    ").fetchall()\n",
    "\n",
    "test_data = cursor.execute(\n",
    "    \"SELECT sentences, label FROM embeddings WHERE filing_date >= '2020-01-01';\"\n",
    ").fetchall()"
   ],
   "id": "c43b8b61174c3a10",
   "outputs": [],
   "execution_count": 3
  },
  {
   "metadata": {
    "ExecuteTime": {
     "end_time": "2025-07-02T12:00:00.967335Z",
     "start_time": "2025-07-02T12:00:00.096342Z"
    }
   },
   "cell_type": "code",
   "source": [
    "train_data = [(json.loads(sentences), label) for sentences, label in train_data]\n",
    "test_data = [(json.loads(sentences), label) for sentences, label in test_data]"
   ],
   "id": "49813f37f2069c39",
   "outputs": [],
   "execution_count": 4
  },
  {
   "metadata": {
    "ExecuteTime": {
     "end_time": "2025-07-02T12:00:53.016722Z",
     "start_time": "2025-07-02T12:00:00.974530Z"
    }
   },
   "cell_type": "code",
   "source": [
    "# 1) Word2Vec için tüm cümleleri tokenize edip corpus oluşturun\n",
    "corpus = []\n",
    "for dataset in (train_data, test_data):\n",
    "    for sentences, _ in dataset:\n",
    "        for s in sentences:\n",
    "            corpus.append(simple_preprocess(s))"
   ],
   "id": "73f74e7303a90b17",
   "outputs": [],
   "execution_count": 5
  },
  {
   "metadata": {
    "ExecuteTime": {
     "end_time": "2025-07-02T12:03:26.576735Z",
     "start_time": "2025-07-02T12:00:53.072719Z"
    }
   },
   "cell_type": "code",
   "source": [
    "# 2) Word2Vec modelini eğitin\n",
    "w2v_model = Word2Vec(\n",
    "    sentences=corpus,\n",
    "    vector_size=768,   # kelime gömme boyutu\n",
    "    window=5,          # bağlam penceresi\n",
    "    min_count=1,       # en az 1 defa geçen kelimeleri alın\n",
    "    workers=8          # paralel iş parçacığı sayısı\n",
    ")"
   ],
   "id": "3c4e8cbdbbd5ba78",
   "outputs": [],
   "execution_count": 6
  },
  {
   "metadata": {
    "ExecuteTime": {
     "end_time": "2025-07-02T12:03:26.633215Z",
     "start_time": "2025-07-02T12:03:26.629398Z"
    }
   },
   "cell_type": "code",
   "source": [
    "# 3) Her örneği (birden fazla cümle) tek vektöre indirgeyen fonksiyon\n",
    "def vectorize_dataset(data, model):\n",
    "    X, y = [], []\n",
    "    for sentences, label in data:\n",
    "        sent_vecs = []\n",
    "        for s in sentences:\n",
    "            tokens = simple_preprocess(s)\n",
    "            # modele gömmesi olan kelimeleri alın\n",
    "            vecs = [model.wv[t] for t in tokens if t in model.wv]\n",
    "            if len(vecs) > 0:\n",
    "                sent_vecs.append(np.mean(vecs, axis=0))\n",
    "        # örnek vektörü, cümle vektörlerinin ortalaması\n",
    "        if len(sent_vecs) > 0:\n",
    "            X.append(np.mean(sent_vecs, axis=0))\n",
    "        else:\n",
    "            X.append(np.zeros(model.vector_size))\n",
    "        y.append(label)\n",
    "    return np.vstack(X), np.array(y)"
   ],
   "id": "5972052842055248",
   "outputs": [],
   "execution_count": 7
  },
  {
   "metadata": {
    "ExecuteTime": {
     "end_time": "2025-07-02T12:05:47.317756Z",
     "start_time": "2025-07-02T12:03:26.679541Z"
    }
   },
   "cell_type": "code",
   "source": [
    "# 4) Eğitim ve test matrislerini oluşturun\n",
    "X_train, y_train = vectorize_dataset(train_data, w2v_model)\n",
    "X_test, y_test   = vectorize_dataset(test_data,  w2v_model)"
   ],
   "id": "644787e58cb357e1",
   "outputs": [],
   "execution_count": 8
  },
  {
   "metadata": {
    "ExecuteTime": {
     "end_time": "2025-07-02T12:05:49.584084Z",
     "start_time": "2025-07-02T12:05:47.327949Z"
    }
   },
   "cell_type": "code",
   "source": [
    "# ---- Logistic Regression ----\n",
    "lr = LogisticRegression(max_iter=1000, n_jobs=-1, random_state=42)\n",
    "lr.fit(X_train, y_train)\n",
    "y_pred_lr   = lr.predict(X_test)\n",
    "y_proba_lr  = lr.predict_proba(X_test)[:,1]\n",
    "\n",
    "print(\"=== Logistic Regression ===\")\n",
    "print(\"Accuracy:       \", accuracy_score(y_test, y_pred_lr))\n",
    "print(\"Precision:      \", precision_score(y_test, y_pred_lr))\n",
    "print(\"Recall:         \", recall_score(y_test, y_pred_lr))\n",
    "print(\"F1-score:       \", f1_score(y_test, y_pred_lr))\n",
    "tn, fp, fn, tp = confusion_matrix(y_test, y_pred_lr).ravel()\n",
    "print(\"TP: {:.3f}\".format(tp))\n",
    "print(\"TN: {:.3f}\".format(tn))\n",
    "print(\"FP: {:.3f}\".format(fp))\n",
    "print(\"FN: {:.3f}\".format(fn))"
   ],
   "id": "d3774dc879abfa29",
   "outputs": [
    {
     "name": "stdout",
     "output_type": "stream",
     "text": [
      "=== Logistic Regression ===\n",
      "Accuracy:        0.8529698149951315\n",
      "Precision:       0.5\n",
      "Recall:          0.039735099337748346\n",
      "F1-score:        0.0736196319018405\n",
      "TP: 6.000\n",
      "TN: 870.000\n",
      "FP: 6.000\n",
      "FN: 145.000\n"
     ]
    }
   ],
   "execution_count": 9
  },
  {
   "metadata": {
    "ExecuteTime": {
     "end_time": "2025-07-02T12:05:50.061770Z",
     "start_time": "2025-07-02T12:05:49.631553Z"
    }
   },
   "cell_type": "code",
   "source": [
    "rf = RandomForestClassifier(\n",
    "    n_estimators=10,\n",
    "    max_depth=None,\n",
    "    random_state=42,\n",
    "    n_jobs=-1\n",
    ")\n",
    "rf.fit(X_train, y_train)\n",
    "y_pred_rf  = rf.predict(X_test)\n",
    "y_proba_rf = rf.predict_proba(X_test)[:,1]\n",
    "\n",
    "print(\"=== Random Forest Regression ===\")\n",
    "print(\"Accuracy:       \", accuracy_score(y_test, y_pred_rf))\n",
    "print(\"Precision:      \", precision_score(y_test, y_pred_rf))\n",
    "print(\"Recall:         \", recall_score(y_test, y_pred_rf))\n",
    "print(\"F1-score:       \", f1_score(y_test, y_pred_rf))\n",
    "tn, fp, fn, tp = confusion_matrix(y_test, y_pred_rf).ravel()\n",
    "print(\"TP: {:.3f}\".format(tp))\n",
    "print(\"TN: {:.3f}\".format(tn))\n",
    "print(\"FP: {:.3f}\".format(fp))\n",
    "print(\"FN: {:.3f}\".format(fn))"
   ],
   "id": "3c0161df868964d9",
   "outputs": [
    {
     "name": "stdout",
     "output_type": "stream",
     "text": [
      "=== Random Forest Regression ===\n",
      "Accuracy:        0.8412852969814996\n",
      "Precision:       0.3\n",
      "Recall:          0.059602649006622516\n",
      "F1-score:        0.09944751381215469\n",
      "TP: 9.000\n",
      "TN: 855.000\n",
      "FP: 21.000\n",
      "FN: 142.000\n"
     ]
    }
   ],
   "execution_count": 10
  },
  {
   "metadata": {
    "ExecuteTime": {
     "end_time": "2025-07-02T12:05:50.360242Z",
     "start_time": "2025-07-02T12:05:50.074027Z"
    }
   },
   "cell_type": "code",
   "source": [
    "knn = KNeighborsClassifier(n_neighbors=3)\n",
    "knn.fit(X_train, y_train)\n",
    "y_pred_knn = knn.predict(X_test)\n",
    "y_proba_knn = knn.predict_proba(X_test)[:,1]\n",
    "\n",
    "print(\"=== KNN Regression ===\")\n",
    "print(\"Accuracy:       \", accuracy_score(y_test, y_pred_knn))\n",
    "print(\"Precision:      \", precision_score(y_test, y_pred_knn))\n",
    "print(\"Recall:         \", recall_score(y_test, y_pred_knn))\n",
    "print(\"F1-score:       \", f1_score(y_test, y_pred_knn))\n",
    "tn, fp, fn, tp = confusion_matrix(y_test, y_pred_knn).ravel()\n",
    "print(\"TP: {:.3f}\".format(tp))\n",
    "print(\"TN: {:.3f}\".format(tn))\n",
    "print(\"FP: {:.3f}\".format(fp))\n",
    "print(\"FN: {:.3f}\".format(fn))\n"
   ],
   "id": "a54bf87b0d3d7b96",
   "outputs": [
    {
     "name": "stdout",
     "output_type": "stream",
     "text": [
      "=== KNN Regression ===\n",
      "Accuracy:        0.7877312560856865\n",
      "Precision:       0.2184873949579832\n",
      "Recall:          0.17218543046357615\n",
      "F1-score:        0.1925925925925926\n",
      "TP: 26.000\n",
      "TN: 783.000\n",
      "FP: 93.000\n",
      "FN: 125.000\n"
     ]
    }
   ],
   "execution_count": 11
  },
  {
   "metadata": {
    "ExecuteTime": {
     "end_time": "2025-07-02T12:05:50.374520Z",
     "start_time": "2025-07-02T12:05:50.373226Z"
    }
   },
   "cell_type": "code",
   "source": "",
   "id": "82eb6f2a16c8873b",
   "outputs": [],
   "execution_count": null
  }
 ],
 "metadata": {
  "kernelspec": {
   "display_name": "Python 3",
   "language": "python",
   "name": "python3"
  },
  "language_info": {
   "codemirror_mode": {
    "name": "ipython",
    "version": 2
   },
   "file_extension": ".py",
   "mimetype": "text/x-python",
   "name": "python",
   "nbconvert_exporter": "python",
   "pygments_lexer": "ipython2",
   "version": "2.7.6"
  }
 },
 "nbformat": 4,
 "nbformat_minor": 5
}
