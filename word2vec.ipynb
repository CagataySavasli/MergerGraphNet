{
 "cells": [
  {
   "metadata": {
    "ExecuteTime": {
     "end_time": "2025-06-19T07:58:08.404236Z",
     "start_time": "2025-06-19T07:58:07.479757Z"
    }
   },
   "cell_type": "code",
   "source": [
    "from lib.database.database_connector import DatabaseConnector\n",
    "import json\n",
    "import numpy as np\n",
    "from gensim.models import Word2Vec\n",
    "from gensim.utils import simple_preprocess\n",
    "from sklearn.linear_model import LogisticRegression\n",
    "from sklearn.metrics import accuracy_score, precision_score, recall_score, f1_score, confusion_matrix\n",
    "\n",
    "from tqdm import tqdm"
   ],
   "id": "30e6cbe76de3d212",
   "outputs": [],
   "execution_count": 1
  },
  {
   "metadata": {
    "ExecuteTime": {
     "end_time": "2025-06-19T07:58:08.421752Z",
     "start_time": "2025-06-19T07:58:08.418434Z"
    }
   },
   "cell_type": "code",
   "source": [
    "database_connector = DatabaseConnector(\"./data/database.db\")\n",
    "cursor = database_connector.cursor\n",
    "\n",
    "split_date = \"2020-01-01\""
   ],
   "id": "3f6d167a0fc8f673",
   "outputs": [],
   "execution_count": 2
  },
  {
   "metadata": {
    "ExecuteTime": {
     "end_time": "2025-06-19T07:58:10.626935Z",
     "start_time": "2025-06-19T07:58:09.368730Z"
    }
   },
   "cell_type": "code",
   "source": [
    "train_data = cursor.execute(\n",
    "    \"SELECT sentences, label FROM embeddings WHERE filing_date < '2020-01-01';\"\n",
    ").fetchall()\n",
    "\n",
    "test_data = cursor.execute(\n",
    "    \"SELECT sentences, label FROM embeddings WHERE filing_date >= '2020-01-01';\"\n",
    ").fetchall()"
   ],
   "id": "c43b8b61174c3a10",
   "outputs": [],
   "execution_count": 3
  },
  {
   "metadata": {
    "ExecuteTime": {
     "end_time": "2025-06-19T07:58:39.162665Z",
     "start_time": "2025-06-19T07:58:39.159085Z"
    }
   },
   "cell_type": "code",
   "source": "num_merge = sum([y for x, y in train_data])",
   "id": "1c25bf9426a306d4",
   "outputs": [],
   "execution_count": 5
  },
  {
   "metadata": {
    "ExecuteTime": {
     "end_time": "2025-06-19T07:58:44.455132Z",
     "start_time": "2025-06-19T07:58:44.449593Z"
    }
   },
   "cell_type": "code",
   "source": "num_merge",
   "id": "a879788a25dc74be",
   "outputs": [
    {
     "data": {
      "text/plain": [
       "1339"
      ]
     },
     "execution_count": 6,
     "metadata": {},
     "output_type": "execute_result"
    }
   ],
   "execution_count": 6
  },
  {
   "metadata": {
    "ExecuteTime": {
     "end_time": "2025-06-19T07:58:57.962049Z",
     "start_time": "2025-06-19T07:58:57.959726Z"
    }
   },
   "cell_type": "code",
   "source": "num_not_merge = len(train_data) - num_merge",
   "id": "3ff5dfa5f96952e2",
   "outputs": [],
   "execution_count": 7
  },
  {
   "metadata": {
    "ExecuteTime": {
     "end_time": "2025-06-19T07:59:08.166455Z",
     "start_time": "2025-06-19T07:59:08.162634Z"
    }
   },
   "cell_type": "code",
   "source": "num_not_merge",
   "id": "1dd7001ef6fcd0ea",
   "outputs": [
    {
     "data": {
      "text/plain": [
       "6539"
      ]
     },
     "execution_count": 8,
     "metadata": {},
     "output_type": "execute_result"
    }
   ],
   "execution_count": 8
  },
  {
   "metadata": {
    "ExecuteTime": {
     "end_time": "2025-06-18T14:20:40.791713Z",
     "start_time": "2025-06-18T14:20:40.789468Z"
    }
   },
   "cell_type": "code",
   "source": [
    "# train_data = train_data[:100]\n",
    "# test_data = test_data[:10]"
   ],
   "id": "b381eacac1b47702",
   "outputs": [],
   "execution_count": 4
  },
  {
   "metadata": {
    "ExecuteTime": {
     "end_time": "2025-06-18T14:20:41.639922Z",
     "start_time": "2025-06-18T14:20:40.839918Z"
    }
   },
   "cell_type": "code",
   "source": [
    "train_data = [(json.loads(sentences), label) for sentences, label in train_data]\n",
    "test_data = [(json.loads(sentences), label) for sentences, label in test_data]"
   ],
   "id": "49813f37f2069c39",
   "outputs": [],
   "execution_count": 5
  },
  {
   "metadata": {
    "ExecuteTime": {
     "end_time": "2025-06-18T14:21:33.555539Z",
     "start_time": "2025-06-18T14:20:41.647469Z"
    }
   },
   "cell_type": "code",
   "source": [
    "# 1) Word2Vec için tüm cümleleri tokenize edip corpus oluşturun\n",
    "corpus = []\n",
    "for dataset in (train_data, test_data):\n",
    "    for sentences, _ in dataset:\n",
    "        for s in sentences:\n",
    "            corpus.append(simple_preprocess(s))"
   ],
   "id": "73f74e7303a90b17",
   "outputs": [],
   "execution_count": 6
  },
  {
   "metadata": {
    "ExecuteTime": {
     "end_time": "2025-06-18T14:24:10.161875Z",
     "start_time": "2025-06-18T14:21:33.609917Z"
    }
   },
   "cell_type": "code",
   "source": [
    "# 2) Word2Vec modelini eğitin\n",
    "w2v_model = Word2Vec(\n",
    "    sentences=corpus,\n",
    "    vector_size=768,   # kelime gömme boyutu\n",
    "    window=5,          # bağlam penceresi\n",
    "    min_count=1,       # en az 1 defa geçen kelimeleri alın\n",
    "    workers=8          # paralel iş parçacığı sayısı\n",
    ")"
   ],
   "id": "3c4e8cbdbbd5ba78",
   "outputs": [],
   "execution_count": 7
  },
  {
   "metadata": {
    "ExecuteTime": {
     "end_time": "2025-06-18T14:24:10.178832Z",
     "start_time": "2025-06-18T14:24:10.175575Z"
    }
   },
   "cell_type": "code",
   "source": [
    "# 3) Her örneği (birden fazla cümle) tek vektöre indirgeyen fonksiyon\n",
    "def vectorize_dataset(data, model):\n",
    "    X, y = [], []\n",
    "    for sentences, label in data:\n",
    "        sent_vecs = []\n",
    "        for s in sentences:\n",
    "            tokens = simple_preprocess(s)\n",
    "            # modele gömmesi olan kelimeleri alın\n",
    "            vecs = [model.wv[t] for t in tokens if t in model.wv]\n",
    "            if len(vecs) > 0:\n",
    "                sent_vecs.append(np.mean(vecs, axis=0))\n",
    "        # örnek vektörü, cümle vektörlerinin ortalaması\n",
    "        if len(sent_vecs) > 0:\n",
    "            X.append(np.mean(sent_vecs, axis=0))\n",
    "        else:\n",
    "            X.append(np.zeros(model.vector_size))\n",
    "        y.append(label)\n",
    "    return np.vstack(X), np.array(y)"
   ],
   "id": "5972052842055248",
   "outputs": [],
   "execution_count": 8
  },
  {
   "metadata": {
    "ExecuteTime": {
     "end_time": "2025-06-18T14:26:30.903865Z",
     "start_time": "2025-06-18T14:24:10.228708Z"
    }
   },
   "cell_type": "code",
   "source": [
    "# 4) Eğitim ve test matrislerini oluşturun\n",
    "X_train, y_train = vectorize_dataset(train_data, w2v_model)\n",
    "X_test, y_test   = vectorize_dataset(test_data,  w2v_model)"
   ],
   "id": "644787e58cb357e1",
   "outputs": [],
   "execution_count": 9
  },
  {
   "metadata": {
    "ExecuteTime": {
     "end_time": "2025-06-18T14:26:31.120854Z",
     "start_time": "2025-06-18T14:26:30.912926Z"
    }
   },
   "cell_type": "code",
   "source": [
    "# 5) Basit bir Logistic Regression sınıflayıcıyla eğitin ve test edin\n",
    "clf = LogisticRegression(max_iter=1000)\n",
    "clf.fit(X_train, y_train)\n",
    "y_pred = clf.predict(X_test)"
   ],
   "id": "d3774dc879abfa29",
   "outputs": [],
   "execution_count": 10
  },
  {
   "metadata": {
    "ExecuteTime": {
     "end_time": "2025-06-18T14:26:31.145795Z",
     "start_time": "2025-06-18T14:26:31.137343Z"
    }
   },
   "cell_type": "code",
   "source": [
    "acc = accuracy_score(y_test, y_pred)\n",
    "prec = precision_score(y_test, y_pred)\n",
    "rec = recall_score(y_test, y_pred)\n",
    "f1 = f1_score(y_test, y_pred)\n",
    "\n",
    "tn, fp, fn, tp = confusion_matrix(y_test, y_pred).ravel()"
   ],
   "id": "3c0161df868964d9",
   "outputs": [],
   "execution_count": 11
  },
  {
   "metadata": {
    "ExecuteTime": {
     "end_time": "2025-06-18T14:26:31.198034Z",
     "start_time": "2025-06-18T14:26:31.193479Z"
    }
   },
   "cell_type": "code",
   "source": [
    "print(\"Accuracy: {:.3f}\".format(acc))\n",
    "print(\"Precision: {:.3f}\".format(prec))\n",
    "print(\"Recall: {:.3f}\".format(rec))\n",
    "print(\"F1: {:.3f}\".format(f1))"
   ],
   "id": "a54bf87b0d3d7b96",
   "outputs": [
    {
     "name": "stdout",
     "output_type": "stream",
     "text": [
      "Accuracy: 0.851\n",
      "Precision: 0.429\n",
      "Recall: 0.040\n",
      "F1: 0.073\n"
     ]
    }
   ],
   "execution_count": 12
  },
  {
   "metadata": {
    "ExecuteTime": {
     "end_time": "2025-06-18T14:26:31.244178Z",
     "start_time": "2025-06-18T14:26:31.242085Z"
    }
   },
   "cell_type": "code",
   "source": [
    "print(\"TP: {:.3f}\".format(tp))\n",
    "print(\"TN: {:.3f}\".format(tn))\n",
    "print(\"FP: {:.3f}\".format(fp))\n",
    "print(\"FN: {:.3f}\".format(fn))"
   ],
   "id": "7c1d067cdfb4b2fb",
   "outputs": [
    {
     "name": "stdout",
     "output_type": "stream",
     "text": [
      "TP: 6.000\n",
      "TN: 868.000\n",
      "FP: 8.000\n",
      "FN: 145.000\n"
     ]
    }
   ],
   "execution_count": 13
  },
  {
   "metadata": {
    "ExecuteTime": {
     "end_time": "2025-06-18T14:33:42.140347Z",
     "start_time": "2025-06-18T14:33:42.079422Z"
    }
   },
   "cell_type": "code",
   "source": "from sklearn.ensemble import RandomForestClassifier",
   "id": "c4176e3be4e244fc",
   "outputs": [],
   "execution_count": 14
  },
  {
   "metadata": {
    "ExecuteTime": {
     "end_time": "2025-06-18T14:35:14.001173Z",
     "start_time": "2025-06-18T14:34:28.219317Z"
    }
   },
   "cell_type": "code",
   "source": [
    "clf = RandomForestClassifier(n_estimators=200)\n",
    "clf.fit(X_train, y_train)\n",
    "y_pred = clf.predict(X_test)"
   ],
   "id": "5c076d800697b21b",
   "outputs": [],
   "execution_count": 15
  },
  {
   "metadata": {
    "ExecuteTime": {
     "end_time": "2025-06-18T14:35:14.065671Z",
     "start_time": "2025-06-18T14:35:14.058584Z"
    }
   },
   "cell_type": "code",
   "source": [
    "acc = accuracy_score(y_test, y_pred)\n",
    "prec = precision_score(y_test, y_pred)\n",
    "rec = recall_score(y_test, y_pred)\n",
    "f1 = f1_score(y_test, y_pred)\n",
    "\n",
    "tn, fp, fn, tp = confusion_matrix(y_test, y_pred).ravel()"
   ],
   "id": "9cd0fa0338357ae8",
   "outputs": [],
   "execution_count": 16
  },
  {
   "metadata": {
    "ExecuteTime": {
     "end_time": "2025-06-18T14:35:14.115479Z",
     "start_time": "2025-06-18T14:35:14.113066Z"
    }
   },
   "cell_type": "code",
   "source": [
    "print(\"Accuracy: {:.3f}\".format(acc))\n",
    "print(\"Precision: {:.3f}\".format(prec))\n",
    "print(\"Recall: {:.3f}\".format(rec))\n",
    "print(\"F1: {:.3f}\".format(f1))"
   ],
   "id": "d91ad996c6c273f1",
   "outputs": [
    {
     "name": "stdout",
     "output_type": "stream",
     "text": [
      "Accuracy: 0.852\n",
      "Precision: 0.467\n",
      "Recall: 0.046\n",
      "F1: 0.084\n"
     ]
    }
   ],
   "execution_count": 17
  },
  {
   "metadata": {
    "ExecuteTime": {
     "end_time": "2025-06-18T14:35:14.173518Z",
     "start_time": "2025-06-18T14:35:14.171536Z"
    }
   },
   "cell_type": "code",
   "source": [
    "print(\"TP: {:.3f}\".format(tp))\n",
    "print(\"TN: {:.3f}\".format(tn))\n",
    "print(\"FP: {:.3f}\".format(fp))\n",
    "print(\"FN: {:.3f}\".format(fn))"
   ],
   "id": "4557fdb9169fc0a3",
   "outputs": [
    {
     "name": "stdout",
     "output_type": "stream",
     "text": [
      "TP: 7.000\n",
      "TN: 868.000\n",
      "FP: 8.000\n",
      "FN: 144.000\n"
     ]
    }
   ],
   "execution_count": 18
  },
  {
   "metadata": {},
   "cell_type": "code",
   "outputs": [],
   "execution_count": null,
   "source": "",
   "id": "82eb6f2a16c8873b"
  }
 ],
 "metadata": {
  "kernelspec": {
   "display_name": "Python 3",
   "language": "python",
   "name": "python3"
  },
  "language_info": {
   "codemirror_mode": {
    "name": "ipython",
    "version": 2
   },
   "file_extension": ".py",
   "mimetype": "text/x-python",
   "name": "python",
   "nbconvert_exporter": "python",
   "pygments_lexer": "ipython2",
   "version": "2.7.6"
  }
 },
 "nbformat": 4,
 "nbformat_minor": 5
}
